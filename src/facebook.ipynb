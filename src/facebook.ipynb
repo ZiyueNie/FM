{
  "nbformat": 4,
  "nbformat_minor": 0,
  "metadata": {
    "colab": {
      "name": "facebook.ipynb",
      "version": "0.3.2",
      "provenance": [],
      "collapsed_sections": [],
      "include_colab_link": true
    },
    "kernelspec": {
      "name": "python3",
      "display_name": "Python 3"
    }
  },
  "cells": [
    {
      "cell_type": "markdown",
      "metadata": {
        "id": "view-in-github",
        "colab_type": "text"
      },
      "source": [
        "<a href=\"https://colab.research.google.com/github/ZiyueNie/FM/blob/master/src/facebook.ipynb\" target=\"_parent\"><img src=\"https://colab.research.google.com/assets/colab-badge.svg\" alt=\"Open In Colab\"/></a>"
      ]
    },
    {
      "cell_type": "code",
      "metadata": {
        "id": "HYz2LwCvT09c",
        "colab_type": "code",
        "colab": {}
      },
      "source": [
        "import matplotlib.pyplot as plt\n",
        "import numpy as np\n",
        "import scipy.optimize as so\n",
        "import pandas as pd\n",
        "import math\n",
        "from scipy import stats"
      ],
      "execution_count": 0,
      "outputs": []
    },
    {
      "cell_type": "code",
      "metadata": {
        "id": "2hSaFcClU1Ye",
        "colab_type": "code",
        "outputId": "12070341-0765-448f-f504-1551c4891614",
        "colab": {
          "base_uri": "https://localhost:8080/",
          "height": 140
        }
      },
      "source": [
        "!git clone https://github.com/ZiyueNie/19ma573ZiyueNie"
      ],
      "execution_count": 2,
      "outputs": [
        {
          "output_type": "stream",
          "text": [
            "Cloning into '19ma573ZiyueNie'...\n",
            "remote: Enumerating objects: 30, done.\u001b[K\n",
            "remote: Counting objects: 100% (30/30), done.\u001b[K\n",
            "remote: Compressing objects: 100% (30/30), done.\u001b[K\n",
            "remote: Total 529 (delta 7), reused 0 (delta 0), pack-reused 499\u001b[K\n",
            "Receiving objects: 100% (529/529), 814.27 KiB | 8.66 MiB/s, done.\n",
            "Resolving deltas: 100% (207/207), done.\n"
          ],
          "name": "stdout"
        }
      ]
    },
    {
      "cell_type": "code",
      "metadata": {
        "id": "S6O1R52jU4Y4",
        "colab_type": "code",
        "outputId": "bca65d3d-be31-4da2-b4fd-a24c31944474",
        "colab": {
          "base_uri": "https://localhost:8080/",
          "height": 34
        }
      },
      "source": [
        "cd 19ma573ZiyueNie/src/\n"
      ],
      "execution_count": 3,
      "outputs": [
        {
          "output_type": "stream",
          "text": [
            "/content/19ma573ZiyueNie/src\n"
          ],
          "name": "stdout"
        }
      ]
    },
    {
      "cell_type": "code",
      "metadata": {
        "id": "ZjCc0-zSU8sI",
        "colab_type": "code",
        "colab": {}
      },
      "source": [
        ""
      ],
      "execution_count": 0,
      "outputs": []
    },
    {
      "cell_type": "code",
      "metadata": {
        "id": "Ex261f_FT6oj",
        "colab_type": "code",
        "outputId": "a74c80eb-591c-4a36-98a2-dd2634a27a69",
        "colab": {
          "base_uri": "https://localhost:8080/",
          "height": 1000
        }
      },
      "source": [
        "'''======\n",
        "Read data\n",
        "========='''\n",
        "#Read two-column data\n",
        "#columns are date,adjusted closing price\n",
        "Data_A = pd.read_csv('FB year 1.csv')\n",
        "\n",
        "print('>>>>>> data')\n",
        "print(Data_A)"
      ],
      "execution_count": 4,
      "outputs": [
        {
          "output_type": "stream",
          "text": [
            ">>>>>> data\n",
            "           Date   Adj Close\n",
            "0      2017/9/8  170.949997\n",
            "1     2017/9/11  173.509995\n",
            "2     2017/9/12  172.960007\n",
            "3     2017/9/13  173.050003\n",
            "4     2017/9/14  170.960007\n",
            "5     2017/9/15  171.639999\n",
            "6     2017/9/18  170.009995\n",
            "7     2017/9/19  172.520004\n",
            "8     2017/9/20  172.169998\n",
            "9     2017/9/21  171.110001\n",
            "10    2017/9/22  170.539993\n",
            "11    2017/9/25  162.869995\n",
            "12    2017/9/26  164.210007\n",
            "13    2017/9/27  167.679993\n",
            "14    2017/9/28  168.729996\n",
            "15    2017/9/29  170.869995\n",
            "16    2017/10/2  169.470001\n",
            "17    2017/10/3  169.960007\n",
            "18    2017/10/4  168.419998\n",
            "19    2017/10/5  171.240005\n",
            "20    2017/10/6  172.229996\n",
            "21    2017/10/9  172.500000\n",
            "22   2017/10/10  171.589996\n",
            "23   2017/10/11  172.740005\n",
            "24   2017/10/12  172.550003\n",
            "25   2017/10/13  173.740005\n",
            "26   2017/10/16  174.520004\n",
            "27   2017/10/17  176.110001\n",
            "28   2017/10/18  176.029999\n",
            "29   2017/10/19  174.559998\n",
            "..          ...         ...\n",
            "222   2018/7/27  174.889999\n",
            "223   2018/7/30  171.059998\n",
            "224   2018/7/31  172.580002\n",
            "225    2018/8/1  171.649994\n",
            "226    2018/8/2  176.369995\n",
            "227    2018/8/3  177.779999\n",
            "228    2018/8/6  185.690002\n",
            "229    2018/8/7  183.809998\n",
            "230    2018/8/8  185.179993\n",
            "231    2018/8/9  183.089996\n",
            "232   2018/8/10  180.259995\n",
            "233   2018/8/13  180.050003\n",
            "234   2018/8/14  181.110001\n",
            "235   2018/8/15  179.529999\n",
            "236   2018/8/16  174.699997\n",
            "237   2018/8/17  173.800003\n",
            "238   2018/8/20  172.500000\n",
            "239   2018/8/21  172.619995\n",
            "240   2018/8/22  173.639999\n",
            "241   2018/8/23  172.899994\n",
            "242   2018/8/24  174.649994\n",
            "243   2018/8/27  177.460007\n",
            "244   2018/8/28  176.259995\n",
            "245   2018/8/29  175.899994\n",
            "246   2018/8/30  177.639999\n",
            "247   2018/8/31  175.729996\n",
            "248    2018/9/4  171.160004\n",
            "249    2018/9/5  167.179993\n",
            "250    2018/9/6  162.529999\n",
            "251    2018/9/7  163.039993\n",
            "\n",
            "[252 rows x 2 columns]\n"
          ],
          "name": "stdout"
        }
      ]
    },
    {
      "cell_type": "markdown",
      "metadata": {
        "id": "BTGaDhiszPgW",
        "colab_type": "text"
      },
      "source": [
        "Problem3"
      ]
    },
    {
      "cell_type": "code",
      "metadata": {
        "id": "mbtr3h5QWOcL",
        "colab_type": "code",
        "outputId": "5c9c8b83-847e-40b4-c12a-e6fdf5d70dd4",
        "colab": {
          "base_uri": "https://localhost:8080/",
          "height": 54
        }
      },
      "source": [
        "log_return=[]\n",
        "price = Data_A['Adj Close']\n",
        "log_price=np.log(price)\n",
        "for i in range(len(log_price)-1):\n",
        "  log_return.append(log_price[i+1]-log_price[i])\n",
        "print(log_return)\n"
      ],
      "execution_count": 5,
      "outputs": [
        {
          "output_type": "stream",
          "text": [
            "[0.014864107260478043, -0.003174811434114133, 0.0005201930547000799, -0.01215093546124102, 0.003969602341034495, -0.009542024857574383, 0.01465596552575743, -0.002030845793404623, -0.0061757187838820116, -0.003336798120258777, -0.046017526381676, 0.008193833245949023, 0.020911220254405727, 0.006242421117239161, 0.01260322369443756, -0.008227078292139645, 0.0028872305267420018, -0.009102308705999818, 0.016605262748758065, 0.005764659147367013, 0.0015664668485175781, -0.0052893494852668255, 0.006679715811226394, -0.001100535867097463, 0.00687289068013186, 0.004479413565008805, 0.009069434309845192, -0.00045437610823206853, -0.008385918749648447, 0.002403148190980531, -0.021430376819148833, 0.0030897450131064375, -0.007009356784753784, 0.00017582861477727363, 0.04161169490898864, 0.01112514619069227, 0.0010557776308974809, 0.014336405589220114, -0.020687755775675498, 0.0, 0.006962071140514503, 0.00044393763807715203, -0.003835373389665442, -0.0014490054325717594, -0.004695871646340777, 0.0017355601056356917, -0.003923315078510292, -0.0006741756260728593, 0.00917385766015677, -0.003290646916934925, -0.001453541913916112, 0.017304901869663603, -0.005458652271243203, 0.010504724847738345, 0.0013668299952875884, -0.0033383585799828808, -0.04078312595351008, 0.01163754164124775, -0.011808851918100771, -0.020948943535255005, 0.007900133961782352, 0.018516370688529626, 0.02290948613136301, -0.006348514963604224, 0.0002233996254510373, -0.011685447575274566, 0.007543783803738435, 0.0005046174628109412, 0.009984153215773617, 0.003545787648497445, -0.007271211192374949, -0.00906551271364986, -0.002476513929392077, -0.0014098409453771055, -0.006851817588133358, 0.009219205027550359, 0.0016875911408353872, -0.00823973835820535, 0.027720512699650257, 0.017755663464996907, -0.0018427972694636807, 0.013578547684623743, 0.00762402317889066, -0.002180003556643939, -0.0001596923200466449, -0.0003726844376350513, -0.0457671472217962, -0.005478524528100159, -0.004438294815627408, 0.012311274380872206, 0.0082527817066822, 0.022255880338509115, 0.02124338526723779, -0.01489787028650813, 0.004972835970249889, 0.013351920441589726, -0.02138495261812423, 0.0061109760127404655, -0.0012298924236322506, 0.03263617760724813, -0.014659714430050208, -0.04856422926671744, 0.02209765054124091, -0.028073775209937146, -0.0489066705720651, 0.02605916368407346, 0.0017020484975027728, -0.01865261778637084, 0.0361284084195761, 0.0024479982545324575, -0.014553071924197525, -0.007640787747904554, 0.010737043731561258, 0.006052139362966891, 0.02373959349998156, 0.00890777745171345, -0.01894205492714729, -0.01745555398459331, -0.013436689140843505, 0.0038574645392506213, 0.02117607063780813, -0.003442698786199294, 0.02162458984147797, -0.0074854112046622845, 0.01572522032014234, -0.002540616039587995, -0.015710502052806774, 0.012620687941900854, -0.0017932405148339825, 0.0066675677829870494, -0.07009718116678787, -0.0258885879868771, 0.0073473401909023295, -0.02692516384652688, -0.03392455599118538, 0.004194709586544221, -0.050221883034901715, 0.005307124659593931, 0.04322643527552028, -0.02792232998057642, 0.0046228140110926574, -0.0064907845071031645, 0.026970149981456082, -0.01352139793753171, 0.0046329916473917265, 0.044035973790506944, 0.007725859288264303, -0.014840285591158242, 0.003958767629235638, 0.0018824842016016419, 0.022970225985869952, -0.013730756977076375, 0.010404955221837042, -0.010885967737124247, -0.002649664362594173, -0.03778899563084881, 0.0, 0.08673999151663647, -0.0032782660560224386, -0.009201697024202815, 0.01075590658922021, 0.012631299592594125, -0.011711424871525544, 0.014773659246731796, 0.007671085010345635, 0.005323765005647907, 0.020687755775675498, 0.015590065486680516, 0.007838577579443395, -0.001873543872999761, -0.012508206870310623, -0.0060949796204718965, 0.0030520953069546053, -0.0058945811730124476, 0.009859338572987042, -0.0037470623277373605, 0.016725456115112003, -0.005203461215394611, -0.005446932838856, 0.004424584962674061, 0.010337217378965313, 0.021663785865050578, 0.011457760606311318, -0.003666727544929138, -0.0017606394642850631, -0.008327340763497837, -0.01665301496463467, 0.004877093013463174, 0.012820620153926043, 0.004479879498993533, 5.202567529050128e-05, 0.022610253451395224, -0.004889695425729812, 0.012482362064988095, -0.0041434773468864705, 0.022579721935573005, -0.002478316014467019, 0.0011903830243271685, -0.027080952829369842, 0.01340601314279688, -0.016006845825367932, 0.0019894413578631642, -0.009781099540016491, 0.015523156571012997, -0.023739252331447247, 0.029246939155379792, 0.023801158808165468, 0.007402582992759754, -0.005878394540331122, -0.004925148029446547, 0.021394872126679232, 0.0019312916159908156, -0.0004342588385624069, 0.013230666099512511, -0.0030046713483322662, -0.006084603796115751, 0.00885112593194659, 0.0046097360287760125, 0.017670434786412947, 0.013096894579367024, -0.21023870122440957, -0.007802950161109656, -0.02214283868238809, 0.008846548208158111, -0.005403423720139244, 0.0271265477839302, 0.007962792455818324, 0.04353180219454433, -0.010176022858271239, 0.007425682693970259, -0.011350473841508446, -0.015577587986782326, -0.001165618633629073, 0.005869980241028472, -0.008762267685312963, -0.027272119344922352, -0.005164969875203873, -0.007507993621096887, 0.0006953813547392329, 0.0058915668461967385, -0.004270826685246476, 0.010070578911313355, 0.015961333954281898, -0.006785121548370299, -0.002044531671107741, 0.009843407161317153, -0.01081032134997617, -0.026349888526000065, -0.023527780518590724, -0.028208440437597737, 0.003132932577790015]\n"
          ],
          "name": "stdout"
        }
      ]
    },
    {
      "cell_type": "code",
      "metadata": {
        "id": "EknYQC6EzF4E",
        "colab_type": "code",
        "outputId": "007be365-be46-40eb-f397-31974797c03c",
        "colab": {
          "base_uri": "https://localhost:8080/",
          "height": 52
        }
      },
      "source": [
        "mean=np.mean(log_return)\n",
        "print(mean)\n",
        "std=np.std(log_return)\n",
        "print(std)\n"
      ],
      "execution_count": 6,
      "outputs": [
        {
          "output_type": "stream",
          "text": [
            "-0.00018874729878946237\n",
            "0.021689253001153853\n"
          ],
          "name": "stdout"
        }
      ]
    },
    {
      "cell_type": "code",
      "metadata": {
        "id": "AkiAesqKHFpN",
        "colab_type": "code",
        "outputId": "76a6424b-5992-43ab-d927-0684d0ae6616",
        "colab": {
          "base_uri": "https://localhost:8080/",
          "height": 286
        }
      },
      "source": [
        "x=np.arange(-0.1, 0.1, 0.005)\n",
        "y=stats.norm.pdf(x, -0.000188747, 0.021689253)\n",
        "plt.plot(x, y)\n"
      ],
      "execution_count": 7,
      "outputs": [
        {
          "output_type": "execute_result",
          "data": {
            "text/plain": [
              "[<matplotlib.lines.Line2D at 0x7fe8bd77f898>]"
            ]
          },
          "metadata": {
            "tags": []
          },
          "execution_count": 7
        },
        {
          "output_type": "display_data",
          "data": {
            "image/png": "[encoded data removed]",
            "text/plain": [
              "<Figure size 432x288 with 1 Axes>"
            ]
          },
          "metadata": {
            "tags": []
          }
        }
      ]
    },
    {
      "cell_type": "code",
      "metadata": {
        "id": "gfgQBUIeWo-2",
        "colab_type": "code",
        "outputId": "527e7a63-e0fd-44eb-b465-4ebaac33a692",
        "colab": {
          "base_uri": "https://localhost:8080/",
          "height": 286
        }
      },
      "source": [
        "\n",
        "x = np.arange(-0.1, 0.1, 0.005)\n",
        "\n",
        "y = stats.norm.cdf(x, -0.000188747, 0.021689253)\n",
        "\n",
        "plt.plot(x, y)"
      ],
      "execution_count": 8,
      "outputs": [
        {
          "output_type": "execute_result",
          "data": {
            "text/plain": [
              "[<matplotlib.lines.Line2D at 0x7fe8baf236d8>]"
            ]
          },
          "metadata": {
            "tags": []
          },
          "execution_count": 8
        },
        {
          "output_type": "display_data",
          "data": {
            "image/png": "[encoded data removed]",
            "text/plain": [
              "<Figure size 432x288 with 1 Axes>"
            ]
          },
          "metadata": {
            "tags": []
          }
        }
      ]
    },
    {
      "cell_type": "code",
      "metadata": {
        "id": "Eq7kYCcta8k1",
        "colab_type": "code",
        "outputId": "6a23f8ea-29c9-469d-9acc-233b73c48cd6",
        "colab": {
          "base_uri": "https://localhost:8080/",
          "height": 286
        }
      },
      "source": [
        "sorted_ = np.sort(log_return)\n",
        "yvals = np.arange(len(sorted_))/float(len(sorted_))\n",
        "plt.plot(sorted_, yvals)"
      ],
      "execution_count": 9,
      "outputs": [
        {
          "output_type": "execute_result",
          "data": {
            "text/plain": [
              "[<matplotlib.lines.Line2D at 0x7fe8bae8b6a0>]"
            ]
          },
          "metadata": {
            "tags": []
          },
          "execution_count": 9
        },
        {
          "output_type": "display_data",
          "data": {
            "image/png": "[encoded data removed]",
            "text/plain": [
              "<Figure size 432x288 with 1 Axes>"
            ]
          },
          "metadata": {
            "tags": []
          }
        }
      ]
    },
    {
      "cell_type": "code",
      "metadata": {
        "id": "Lu083opfcY9d",
        "colab_type": "code",
        "outputId": "57e9c224-49be-405b-8397-0f9981d6067a",
        "colab": {
          "base_uri": "https://localhost:8080/",
          "height": 286
        }
      },
      "source": [
        "x_label = stats.norm.ppf(yvals)\n",
        "plt.scatter(x_label, sorted_)"
      ],
      "execution_count": 10,
      "outputs": [
        {
          "output_type": "execute_result",
          "data": {
            "text/plain": [
              "<matplotlib.collections.PathCollection at 0x7fe8bae687f0>"
            ]
          },
          "metadata": {
            "tags": []
          },
          "execution_count": 10
        },
        {
          "output_type": "display_data",
          "data": {
            "image/png": "[encoded data removed]",
            "text/plain": [
              "<Figure size 432x288 with 1 Axes>"
            ]
          },
          "metadata": {
            "tags": []
          }
        }
      ]
    },
    {
      "cell_type": "code",
      "metadata": {
        "id": "1vtNZN4Hduoa",
        "colab_type": "code",
        "outputId": "dc6d7295-a46b-4bd1-f14c-7227f76ea241",
        "colab": {
          "base_uri": "https://localhost:8080/",
          "height": 312
        }
      },
      "source": [
        "stats.probplot(log_return, dist=\"norm\", plot=plt)\n",
        "print('QQ plot for normal distribution ')\n",
        "plt.show()"
      ],
      "execution_count": 11,
      "outputs": [
        {
          "output_type": "stream",
          "text": [
            "QQ plot for normal distribution \n"
          ],
          "name": "stdout"
        },
        {
          "output_type": "display_data",
          "data": {
            "image/png": "[encoded data removed]",
            "text/plain": [
              "<Figure size 432x288 with 1 Axes>"
            ]
          },
          "metadata": {
            "tags": []
          }
        }
      ]
    },
    {
      "cell_type": "markdown",
      "metadata": {
        "id": "PEUK3wrkzaGp",
        "colab_type": "text"
      },
      "source": [
        "Problem4"
      ]
    },
    {
      "cell_type": "code",
      "metadata": {
        "id": "DIDpXbuz9ZRn",
        "colab_type": "code",
        "colab": {
          "base_uri": "https://localhost:8080/",
          "height": 286
        },
        "outputId": "09124f5c-1f7a-4d58-dffb-7c933da02659"
      },
      "source": [
        "x = np.arange(-0.05, 0.125, 0.005)\n",
        "\n",
        "y = stats.logistic.cdf(x, 0.0008577403, 0.0094384714)\n",
        "\n",
        "plt.plot(x, y)"
      ],
      "execution_count": 12,
      "outputs": [
        {
          "output_type": "execute_result",
          "data": {
            "text/plain": [
              "[<matplotlib.lines.Line2D at 0x7fe8badc10f0>]"
            ]
          },
          "metadata": {
            "tags": []
          },
          "execution_count": 12
        },
        {
          "output_type": "display_data",
          "data": {
            "image/png": "[encoded data removed]",
            "text/plain": [
              "<Figure size 432x288 with 1 Axes>"
            ]
          },
          "metadata": {
            "tags": []
          }
        }
      ]
    },
    {
      "cell_type": "code",
      "metadata": {
        "id": "jedShZw_hceF",
        "colab_type": "code",
        "colab": {
          "base_uri": "https://localhost:8080/",
          "height": 286
        },
        "outputId": "44a6eee1-c5b7-4034-8274-eb5b9a475df4"
      },
      "source": [
        "sorted_ = np.sort(log_return)\n",
        "yvals = np.arange(len(sorted_))/float(len(sorted_))\n",
        "plt.plot(sorted_, yvals)"
      ],
      "execution_count": 13,
      "outputs": [
        {
          "output_type": "execute_result",
          "data": {
            "text/plain": [
              "[<matplotlib.lines.Line2D at 0x7fe8badb02b0>]"
            ]
          },
          "metadata": {
            "tags": []
          },
          "execution_count": 13
        },
        {
          "output_type": "display_data",
          "data": {
            "image/png": "[encoded data removed]",
            "text/plain": [
              "<Figure size 432x288 with 1 Axes>"
            ]
          },
          "metadata": {
            "tags": []
          }
        }
      ]
    },
    {
      "cell_type": "code",
      "metadata": {
        "id": "OPKOpZNDgmEg",
        "colab_type": "code",
        "outputId": "6e81da86-f2e2-493b-c921-70ea88d4c409",
        "colab": {
          "base_uri": "https://localhost:8080/",
          "height": 286
        }
      },
      "source": [
        "x_label = stats.logistic.ppf(yvals)\n",
        "plt.scatter(x_label, sorted_)"
      ],
      "execution_count": 14,
      "outputs": [
        {
          "output_type": "execute_result",
          "data": {
            "text/plain": [
              "<matplotlib.collections.PathCollection at 0x7fe8bad10278>"
            ]
          },
          "metadata": {
            "tags": []
          },
          "execution_count": 14
        },
        {
          "output_type": "display_data",
          "data": {
            "image/png": "[encoded data removed]",
            "text/plain": [
              "<Figure size 432x288 with 1 Axes>"
            ]
          },
          "metadata": {
            "tags": []
          }
        }
      ]
    },
    {
      "cell_type": "code",
      "metadata": {
        "id": "XZbr5VxPllBY",
        "colab_type": "code",
        "outputId": "3ae30fdf-db86-484d-b124-395859d5a127",
        "colab": {
          "base_uri": "https://localhost:8080/",
          "height": 312
        }
      },
      "source": [
        "stats.probplot(log_return, dist=\"logistic\", plot=plt)\n",
        "print('QQ plot for logistic distribution')\n",
        "plt.show()"
      ],
      "execution_count": 15,
      "outputs": [
        {
          "output_type": "stream",
          "text": [
            "QQ plot for logistic distribution\n"
          ],
          "name": "stdout"
        },
        {
          "output_type": "display_data",
          "data": {
            "image/png": "[encoded data removed]",
            "text/plain": [
              "<Figure size 432x288 with 1 Axes>"
            ]
          },
          "metadata": {
            "tags": []
          }
        }
      ]
    },
    {
      "cell_type": "markdown",
      "metadata": {
        "id": "Nlhrik29e1WH",
        "colab_type": "text"
      },
      "source": [
        "problem 7"
      ]
    },
    {
      "cell_type": "code",
      "metadata": {
        "id": "DkB1IKU_e2_G",
        "colab_type": "code",
        "colab": {
          "base_uri": "https://localhost:8080/",
          "height": 324
        },
        "outputId": "f19a333d-7b40-472b-c35b-286a60e40999"
      },
      "source": [
        "import seaborn as sns\n",
        "plt.rcParams['font.sans-serif']=['SimHei']\n",
        "plt.rcParams['axes.unicode_minus']=False\n",
        "sns.distplot(log_return)\n",
        "plt.show()"
      ],
      "execution_count": 16,
      "outputs": [
        {
          "output_type": "stream",
          "text": [
            "/usr/local/lib/python3.6/dist-packages/matplotlib/font_manager.py:1241: UserWarning: findfont: Font family ['sans-serif'] not found. Falling back to DejaVu Sans.\n",
            "  (prop.get_family(), self.defaultFamily[fontext]))\n"
          ],
          "name": "stderr"
        },
        {
          "output_type": "display_data",
          "data": {
            "image/png": "[encoded data removed]",
            "text/plain": [
              "<Figure size 432x288 with 1 Axes>"
            ]
          },
          "metadata": {
            "tags": []
          }
        }
      ]
    },
    {
      "cell_type": "code",
      "metadata": {
        "id": "aRzJRXtX1RqD",
        "colab_type": "code",
        "colab": {
          "base_uri": "https://localhost:8080/",
          "height": 286
        },
        "outputId": "4d5e77e9-ab6f-40ad-da43-17a9cb3c4de1"
      },
      "source": [
        "x=np.linspace(1,251,251)\n",
        "y=log_return\n",
        "plt.scatter(x,y)"
      ],
      "execution_count": 17,
      "outputs": [
        {
          "output_type": "execute_result",
          "data": {
            "text/plain": [
              "<matplotlib.collections.PathCollection at 0x7fe8b99c5fd0>"
            ]
          },
          "metadata": {
            "tags": []
          },
          "execution_count": 17
        },
        {
          "output_type": "display_data",
          "data": {
            "image/png": "[encoded data removed]",
            "text/plain": [
              "<Figure size 432x288 with 1 Axes>"
            ]
          },
          "metadata": {
            "tags": []
          }
        }
      ]
    },
    {
      "cell_type": "code",
      "metadata": {
        "id": "mju7CFjb1Tt7",
        "colab_type": "code",
        "colab": {
          "base_uri": "https://localhost:8080/",
          "height": 122
        },
        "outputId": "c8a24b8e-3df1-425b-eaae-e20913852b72"
      },
      "source": [
        "out=log_return-np.mean(log_return)\n",
        "sort_out=np.sort(out)\n",
        "for i in [0,1,2,248,249,250]:\n",
        "  print(sort_out[i])"
      ],
      "execution_count": 18,
      "outputs": [
        {
          "output_type": "stream",
          "text": [
            "-0.21004995392562012\n",
            "-0.0699084338679984\n",
            "-0.050033135736112254\n",
            "0.043720549493333795\n",
            "0.044224721089296405\n",
            "0.08692873881542594\n"
          ],
          "name": "stdout"
        }
      ]
    },
    {
      "cell_type": "code",
      "metadata": {
        "id": "_7xMjIZ01T4N",
        "colab_type": "code",
        "colab": {
          "base_uri": "https://localhost:8080/",
          "height": 70
        },
        "outputId": "94743c56-f116-447f-c9e8-ccf518fb9a99"
      },
      "source": [
        "x1=np.mean(log_return)-0.21004995392562012\n",
        "y1 = stats.logistic.cdf(x1, 0.0008577403, 0.0094384714)\n",
        "print(y1)\n",
        "x2=np.mean(log_return)+0.08692873881542594\n",
        "y2 = 1-stats.logistic.cdf(x2, 0.0008577403, 0.0094384714)\n",
        "print(y2)\n",
        "x3=np.mean(log_return)-0.0699084338679984\n",
        "y3 = stats.logistic.cdf(x3, 0.0008577403, 0.0094384714)\n",
        "print(y3)"
      ],
      "execution_count": 19,
      "outputs": [
        {
          "output_type": "stream",
          "text": [
            "1.9354079789246545e-10\n",
            "0.00011174609537356606\n",
            "0.0005431246215275579\n"
          ],
          "name": "stdout"
        }
      ]
    },
    {
      "cell_type": "markdown",
      "metadata": {
        "id": "eIUkM_z0zwWe",
        "colab_type": "text"
      },
      "source": [
        "Problem8"
      ]
    },
    {
      "cell_type": "code",
      "metadata": {
        "id": "A-QwsTCJz9Aq",
        "colab_type": "code",
        "colab": {
          "base_uri": "https://localhost:8080/",
          "height": 34
        },
        "outputId": "cb49e69a-32dc-45e4-e2ab-4b108dce3bf2"
      },
      "source": [
        "from scipy.stats import kstest\n",
        "sorted= np.sort(log_return)\n",
        "kstest(sorted, 'norm',( -0.000188747, 0.021689253))"
      ],
      "execution_count": 20,
      "outputs": [
        {
          "output_type": "execute_result",
          "data": {
            "text/plain": [
              "KstestResult(statistic=0.1396667945996779, pvalue=9.834338491520038e-05)"
            ]
          },
          "metadata": {
            "tags": []
          },
          "execution_count": 20
        }
      ]
    },
    {
      "cell_type": "markdown",
      "metadata": {
        "id": "IFf60xKdl7nn",
        "colab_type": "text"
      },
      "source": [
        "If we choose alpha=0.05,since p-value=9.83e-05<0.05, then we reject that the data is normal distribution"
      ]
    },
    {
      "cell_type": "markdown",
      "metadata": {
        "id": "HbCsCtVTH2IQ",
        "colab_type": "text"
      },
      "source": [
        ""
      ]
    },
    {
      "cell_type": "code",
      "metadata": {
        "id": "4p-xnOd_AY_x",
        "colab_type": "code",
        "colab": {
          "base_uri": "https://localhost:8080/",
          "height": 34
        },
        "outputId": "4ef273b9-ff83-4cfe-c0dc-4251f104ee6c"
      },
      "source": [
        "from scipy.stats import kstest\n",
        "sorted= np.sort(log_return)\n",
        "kstest(sorted, 'logistic',(0.0008577403, 0.0094384714))"
      ],
      "execution_count": 21,
      "outputs": [
        {
          "output_type": "execute_result",
          "data": {
            "text/plain": [
              "KstestResult(statistic=0.0578793982531883, pvalue=0.35810247647269333)"
            ]
          },
          "metadata": {
            "tags": []
          },
          "execution_count": 21
        }
      ]
    },
    {
      "cell_type": "markdown",
      "metadata": {
        "id": "TGWfJMkaBNLm",
        "colab_type": "text"
      },
      "source": [
        "If we choose alpha=0.05,since p-value=0.35>0.05, then we cannot reject that the data is logistic distribution"
      ]
    },
    {
      "cell_type": "markdown",
      "metadata": {
        "id": "njM1NRY1OZZ7",
        "colab_type": "text"
      },
      "source": [
        "Problem 9"
      ]
    },
    {
      "cell_type": "code",
      "metadata": {
        "id": "WNcYxS4wOYWs",
        "colab_type": "code",
        "colab": {
          "base_uri": "https://localhost:8080/",
          "height": 1000
        },
        "outputId": "3ec592a8-64ae-4614-9cb3-c1098098c114"
      },
      "source": [
        "'''======\n",
        "Read data\n",
        "========='''\n",
        "#Read two-column data\n",
        "#columns are date,adjusted closing price\n",
        "Data_B = pd.read_csv('FB year 2.csv')\n",
        "\n",
        "print('>>>>>> data')\n",
        "print(Data_B)"
      ],
      "execution_count": 22,
      "outputs": [
        {
          "output_type": "stream",
          "text": [
            ">>>>>> data\n",
            "           Date   Adj Close\n",
            "0     2018/9/10  164.179993\n",
            "1     2018/9/11  165.940002\n",
            "2     2018/9/12  162.000000\n",
            "3     2018/9/13  161.360001\n",
            "4     2018/9/14  162.320007\n",
            "5     2018/9/17  160.580002\n",
            "6     2018/9/18  160.300003\n",
            "7     2018/9/19  163.059998\n",
            "8     2018/9/20  166.020004\n",
            "9     2018/9/21  162.929993\n",
            "10    2018/9/24  165.410004\n",
            "11    2018/9/25  164.910004\n",
            "12    2018/9/26  166.949997\n",
            "13    2018/9/27  168.839996\n",
            "14    2018/9/28  164.460007\n",
            "15    2018/10/1  162.440002\n",
            "16    2018/10/2  159.330002\n",
            "17    2018/10/3  162.429993\n",
            "18    2018/10/4  158.850006\n",
            "19    2018/10/5  157.330002\n",
            "20    2018/10/8  157.250000\n",
            "21    2018/10/9  157.899994\n",
            "22   2018/10/10  151.380005\n",
            "23   2018/10/11  153.350006\n",
            "24   2018/10/12  153.740005\n",
            "25   2018/10/15  153.520004\n",
            "26   2018/10/16  158.779999\n",
            "27   2018/10/17  159.419998\n",
            "28   2018/10/18  154.919998\n",
            "29   2018/10/19  154.050003\n",
            "..          ...         ...\n",
            "220   2019/7/26  199.750000\n",
            "221   2019/7/29  195.940002\n",
            "222   2019/7/30  197.039993\n",
            "223   2019/7/31  194.229996\n",
            "224    2019/8/1  192.729996\n",
            "225    2019/8/2  189.020004\n",
            "226    2019/8/5  181.729996\n",
            "227    2019/8/6  184.509995\n",
            "228    2019/8/7  185.149994\n",
            "229    2019/8/8  190.160004\n",
            "230    2019/8/9  187.850006\n",
            "231   2019/8/12  185.369995\n",
            "232   2019/8/13  188.449997\n",
            "233   2019/8/14  179.710007\n",
            "234   2019/8/15  182.589996\n",
            "235   2019/8/16  183.699997\n",
            "236   2019/8/19  186.169998\n",
            "237   2019/8/20  183.809998\n",
            "238   2019/8/21  183.550003\n",
            "239   2019/8/22  182.039993\n",
            "240   2019/8/23  177.750000\n",
            "241   2019/8/26  180.360001\n",
            "242   2019/8/27  181.300003\n",
            "243   2019/8/28  181.759995\n",
            "244   2019/8/29  185.570007\n",
            "245   2019/8/30  185.669998\n",
            "246    2019/9/3  182.389999\n",
            "247    2019/9/4  187.139999\n",
            "248    2019/9/5  190.899994\n",
            "249    2019/9/6  187.490005\n",
            "\n",
            "[250 rows x 2 columns]\n"
          ],
          "name": "stdout"
        }
      ]
    },
    {
      "cell_type": "code",
      "metadata": {
        "id": "x_uE0gDcOYu0",
        "colab_type": "code",
        "colab": {
          "base_uri": "https://localhost:8080/",
          "height": 54
        },
        "outputId": "011fa4b0-7a1a-49d5-c67a-f9177f805752"
      },
      "source": [
        "log_return_2=[]\n",
        "price_2 = Data_B['Adj Close']\n",
        "log_price_2=np.log(price_2)\n",
        "for i in range(len(log_price_2)-1):\n",
        "  log_return_2.append(log_price_2[i+1]-log_price_2[i])\n",
        "print(log_return_2)"
      ],
      "execution_count": 23,
      "outputs": [
        {
          "output_type": "stream",
          "text": [
            "[0.01066294500470022, -0.024029954056304703, -0.003958435389104231, 0.005931838798971079, -0.010777465430861, -0.0017451948809732443, 0.01707114063892501, 0.01799006815103077, -0.018787669368744986, 0.015106646684837521, -0.0030273696401312833, 0.012294453623877821, 0.011257148803018424, -0.026284075116939754, -0.012358706975954092, -0.019331179475354787, 0.019269560980835543, -0.022286698148809236, -0.009614875522541588, -0.0005086273839154387, 0.0041249876823119536, -0.04216861835237928, 0.01292966477595936, 0.002539966756983425, -0.0014320186887442077, 0.033688712244263286, 0.004022626455355116, -0.028633374717637494, -0.005631597219788453, 0.004727502864656508, -0.002522885204798264, -0.05560135332137062, 0.03306812742335552, -0.03766645423547654, -0.022821550544429137, 0.02865171220536844, 0.037385596818241495, -0.00026351058281370854, -0.009268480598186635, -0.011169650993349656, 0.008438929065513356, 0.010548391135133173, -0.024450142976807143, -0.019875584988059636, -0.023804857832018023, 0.004300179231872647, 0.014386706438759056, -0.0025687867147938803, -0.030491506970473203, -0.058892594445879354, 0.006667120789439984, 0.01788645626561358, -0.023186264469777562, 0.03469080087817922, -0.010170365316343855, 0.01295274977227212, 0.013941542130203821, 0.013821037373688227, 0.0034078485597737185, -0.022651696937320942, 0.012249843425979456, -0.015954187714018353, 0.03172828850405374, 0.0016200897673748216, 0.016889214232050698, 0.003523163526935491, -0.006572805501309453, -0.027231205931316005, 0.024450764843377826, -0.07529737363842859, 0.0012000376522651734, -0.06543845523265457, -0.007148329847617596, 0.07841682654227267, 0.0025307866414117086, -0.009861181023657295, -0.01596765588743665, 0.03441504075528101, -0.029468799285520042, 0.046060957750194476, 0.0007246811911345574, 0.0319365367434532, 0.011856723011064219, -0.00020801581552731818, -0.0027777378971549638, 0.010996313916026956, 0.0241908789530223, -0.009511381006909403, 0.005137991361756633, 0.011664609186308184, -0.01659919164898671, -0.022408200340627182, 0.010547086870227318, 0.02157181079250048, -0.010388612188683588, -0.022492883854747348, 0.04229947991301053, 0.10270444385116395, -0.005896497069143081, 0.021137596908210377, 0.011221903126178212, -0.003922141614189911, -0.024402314396942515, 0.005693563551481873, -0.009246037429627485, -0.004534058680249586, -0.0058946176575283005, -0.0007317236991113418, -0.008883483222603239, -0.0012931865746663718, 0.0016623368918420312, -0.015623411836999779, 0.011493345826412593, 0.016722671095136477, -0.002980929964015999, -0.008074962748335857, -0.00838838583648549, 0.005127753553377801, 0.030883668475556902, 0.022975939751056274, 0.007272336419155145, -0.01978749727281759, 0.002775079186152496, 0.014458652711023312, -0.0008721707452465921, 0.00839876945680551, -0.018630084527350377, -0.02493065055938004, -0.03376025962804974, 0.006831513170650005, 0.02367007479542682, 0.003861008610873462, -0.010532183856654775, 0.011795781841429154, 0.00832414938180559, -0.010853040512630585, -0.001931036759193816, 0.006862529838648435, 0.011986159815558395, 0.03208207542794295, -0.0037959671679974605, 0.014189567641534673, -0.0017058228719051272, -0.004505970912282997, 0.01503536898054314, 0.0013506191919319122, -0.0017449248693575115, 0.008917425378218269, 0.0030661375937492963, -0.00435122310936098, -0.0005032629856520643, -0.0028006515970382395, 0.01756968909311407, 0.012814353069135365, -0.006550940540413386, 0.05684796260824232, -0.009200792652180212, 0.01703509735195663, -0.007110159403647565, -0.0019149399361664265, -0.002593631511993877, 0.015154939533556622, -0.008167483314482027, -0.021426603122288057, -0.0012127865335047616, -0.004706632505140362, -0.0016445957616584295, -0.036772842304245934, -0.0044717938244005495, 0.030193072804030052, 0.0038579107091516462, -0.009079016746990298, -0.01402121754077612, 0.011427484394082477, 0.0027016819863661112, -0.024305584795689228, 0.0010499434759729809, 0.01779065471101582, -0.011569002157103547, 0.004490659281135123, -0.030739182655050712, -0.07802097878556236, 0.02020274386945431, 0.003992009376809769, 0.0009509896704829046, 0.029386356430674887, 0.008444206450437974, 0.01858831079102785, -0.0173307447417983, 0.01378710693847296, 0.021517000514319484, 0.04148131056368953, -0.002861048924817311, -0.005266696615524147, 0.010875166343102372, 0.008458820544267276, 0.007609391910406771, -0.019715456020540145, -0.006268238319084851, 0.009757188345433043, 0.0183011643824047, 0.0, 0.0103093696588612, 0.01121886839180597, -0.004065061585086127, -0.003263971777530017, 0.017470186239553875, 0.017515444916935685, -0.007426512148901665, 0.017927094634861973, -0.004696867592232756, -0.0003433868825890585, -0.010058229974852395, -0.0050673465029076326, -0.01212620962053279, 0.01976707029809255, 0.00019765740505928164, 0.0113017908377957, -0.01948897015562867, -0.00479453040120692, -0.019258084522681074, 0.005598218162797153, -0.014363715036599167, -0.00775277829336396, -0.019437374227845083, -0.03933080364619723, 0.015181588372493948, 0.0034626394984753617, 0.026699569133392664, -0.012222040126500744, -0.013290003192438782, 0.016478903025885394, -0.04748822429822752, 0.015898700746062033, 0.00606079564846862, 0.013356248150830474, -0.012757619516063912, -0.0014154782377087116, -0.008260721591810238, -0.023848336012003202, 0.014576790413999952, 0.005198275210615222, 0.0025339737160186004, 0.02074509905387778, 0.0005386865697190046, -0.017823647554430444, 0.025709748411023803, 0.01989270479745997, -0.01802416197868606]\n"
          ],
          "name": "stdout"
        }
      ]
    },
    {
      "cell_type": "code",
      "metadata": {
        "id": "HbfSlvzlO7gx",
        "colab_type": "code",
        "colab": {
          "base_uri": "https://localhost:8080/",
          "height": 34
        },
        "outputId": "1e0ccb56-d2bc-48db-9668-73f8f7eac471"
      },
      "source": [
        "\n",
        "sorted_2= np.sort(log_return_2)\n",
        "kstest(sorted_2, 'norm',( -0.000188747, 0.021689253))"
      ],
      "execution_count": 24,
      "outputs": [
        {
          "output_type": "execute_result",
          "data": {
            "text/plain": [
              "KstestResult(statistic=0.08657120915170671, pvalue=0.04505504272739062)"
            ]
          },
          "metadata": {
            "tags": []
          },
          "execution_count": 24
        }
      ]
    },
    {
      "cell_type": "markdown",
      "metadata": {
        "id": "MAn_d3SyUqzY",
        "colab_type": "text"
      },
      "source": [
        "If we choose alpha=0.05,since p-value=0.045<0.05, then we reject that the data is normal distribution"
      ]
    },
    {
      "cell_type": "code",
      "metadata": {
        "id": "ohrSO8AiPxSF",
        "colab_type": "code",
        "colab": {
          "base_uri": "https://localhost:8080/",
          "height": 34
        },
        "outputId": "6f2063af-f1e1-4de6-b6ac-ee3a6c86ff4d"
      },
      "source": [
        "\n",
        "\n",
        "kstest(sorted_2, 'logistic',(0.0008577403, 0.0094384714))"
      ],
      "execution_count": 25,
      "outputs": [
        {
          "output_type": "execute_result",
          "data": {
            "text/plain": [
              "KstestResult(statistic=0.05352140913933945, pvalue=0.4636041210845422)"
            ]
          },
          "metadata": {
            "tags": []
          },
          "execution_count": 25
        }
      ]
    },
    {
      "cell_type": "markdown",
      "metadata": {
        "id": "MIqgZkFcU4W-",
        "colab_type": "text"
      },
      "source": [
        "If we choose alpha=0.05,since p-value=0.4636>0.05, then we cannot reject that the data is logistic distribution"
      ]
    },
    {
      "cell_type": "code",
      "metadata": {
        "id": "wnuDwqUhn21U",
        "colab_type": "code",
        "colab": {
          "base_uri": "https://localhost:8080/",
          "height": 122
        },
        "outputId": "c4e54bba-8aef-4d98-c593-7eca2a59cc56"
      },
      "source": [
        "out_2=log_return_2-np.mean(log_return_2)\n",
        "sort_out_2=np.sort(out_2)\n",
        "for i in [0,1,2,246,247,248]:\n",
        "  print(sort_out_2[i])"
      ],
      "execution_count": 26,
      "outputs": [
        {
          "output_type": "stream",
          "text": [
            "-0.07855416028371079\n",
            "-0.07583055513657702\n",
            "-0.065971636730803\n",
            "0.05631478111009389\n",
            "0.07788364504412423\n",
            "0.10217126235301552\n"
          ],
          "name": "stdout"
        }
      ]
    },
    {
      "cell_type": "code",
      "metadata": {
        "id": "yf4cSY7Nn3YU",
        "colab_type": "code",
        "colab": {
          "base_uri": "https://localhost:8080/",
          "height": 70
        },
        "outputId": "74ef7791-b534-48be-8a71-62dec9c9cdf4"
      },
      "source": [
        "x1=np.mean(log_return_2)+0.10217126235301552\n",
        "y1 = 1-stats.logistic.cdf(x1, 0.0008577403, 0.0094384714)\n",
        "print(y1)\n",
        "x2=np.mean(log_return_2)-0.07855416028371079\n",
        "y2 = stats.logistic.cdf(x2, 0.0008577403, 0.0094384714)\n",
        "print(y2)\n",
        "x3=np.mean(log_return_2)+0.07788364504412423\n",
        "y3 = 1-stats.logistic.cdf(x3, 0.0008577403, 0.0094384714)\n",
        "print(y3)"
      ],
      "execution_count": 28,
      "outputs": [
        {
          "output_type": "stream",
          "text": [
            "2.059188264791345e-05\n",
            "0.00023465728865502595\n",
            "0.000269860496562746\n"
          ],
          "name": "stdout"
        }
      ]
    }
  ]
}