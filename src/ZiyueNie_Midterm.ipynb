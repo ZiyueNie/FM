{
  "nbformat": 4,
  "nbformat_minor": 0,
  "metadata": {
    "colab": {
      "name": "ZiyueNie_Midterm.ipynb",
      "version": "0.3.2",
      "provenance": [],
      "include_colab_link": true
    },
    "kernelspec": {
      "display_name": "Python 3",
      "language": "python",
      "name": "python3"
    }
  },
  "cells": [
    {
      "cell_type": "markdown",
      "metadata": {
        "id": "view-in-github",
        "colab_type": "text"
      },
      "source": [
        "<a href=\"https://colab.research.google.com/github/ZiyueNie/FM/blob/master/src/ZiyueNie_Midterm.ipynb\" target=\"_parent\"><img src=\"https://colab.research.google.com/assets/colab-badge.svg\" alt=\"Open In Colab\"/></a>"
      ]
    },
    {
      "metadata": {
        "id": "HPR31Lno0hZX",
        "colab_type": "text"
      },
      "cell_type": "markdown",
      "source": [
        "__Name__\n",
        "\n",
        "__Rules__ \n",
        "\n",
        "- After finish, you should email to me PDF version with file name \"firstname_lastname_midterm.pdf\"\n",
        "- Any kind of communications are strictly prohibited. But you can use book, note, or internet.\n",
        "- All your answers shall be rigourously justified.\n",
        "- No python modules shall be imported except those given below"
      ]
    },
    {
      "metadata": {
        "id": "0z8b6x2X0hZZ",
        "colab_type": "code",
        "colab": {}
      },
      "cell_type": "code",
      "source": [
        "import numpy as np\n",
        "import matplotlib.pyplot as plt\n",
        "from scipy.stats import norm\n",
        "from scipy.integrate import quad\n",
        "from scipy.optimize import fmin"
      ],
      "execution_count": 0,
      "outputs": []
    },
    {
      "metadata": {
        "id": "mvneTrXd0hZb",
        "colab_type": "text"
      },
      "cell_type": "markdown",
      "source": [
        "__Problem__"
      ]
    },
    {
      "metadata": {
        "id": "17apD8eB0hZb",
        "colab_type": "text"
      },
      "cell_type": "markdown",
      "source": [
        "We consider BSM model with the following parameters:"
      ]
    },
    {
      "metadata": {
        "id": "yudwpsgF0hZc",
        "colab_type": "code",
        "colab": {}
      },
      "cell_type": "code",
      "source": [
        "'''======parameters============='''\n",
        "s0, r, sigma, T, K, otype = [30., .02, 0.3, 1., 31.0, 1] # spot, rate, vol, maturity, strike, option type"
      ],
      "execution_count": 0,
      "outputs": []
    },
    {
      "metadata": {
        "id": "MadBoMbd0hZe",
        "colab_type": "text"
      },
      "cell_type": "markdown",
      "source": [
        "- (Q) Write for the european call the explicit pricing formula, then find call price.\n",
        "\n"
      ]
    },
    {
      "metadata": {
        "id": "DXnw6zYo0hZf",
        "colab_type": "text"
      },
      "cell_type": "markdown",
      "source": [
        "<br>For European call option,\n",
        "$$C_0 = S_0  \\Phi(d_1) - K e^{-rT} \\Phi(d_2),$$\n",
        "where $d_i$ are given as\n",
        "$$d_1 = \\frac{(r + \\frac 1 2 \\sigma^2) T - \\ln \\frac{K}{S_0}}{\\sigma \\sqrt T},$$\n",
        "and\n",
        "$$d_2 = \\frac{(r - \\frac 1 2 \\sigma^2) T - \\ln \\frac{K}{S_0}}{\\sigma \\sqrt T} = d_1 - \\sigma \\sqrt T$$\n"
      ]
    },
    {
      "metadata": {
        "id": "-fRvNeKf0hZf",
        "colab_type": "code",
        "outputId": "5bf6c3e3-65d1-4d19-d7f3-643bffc2fbce",
        "colab": {
          "base_uri": "https://localhost:8080/",
          "height": 52
        }
      },
      "cell_type": "code",
      "source": [
        "'''========\n",
        "Black-Scholes-Merton formula. \n",
        "=========='''\n",
        "\n",
        "def bsm(s0, r, sigma, T, K, otype):\n",
        "    d1 = (np.log(s0 / K) + (r + 0.5 * sigma ** 2) \n",
        "          * T) / (sigma * np.sqrt(T))\n",
        "    d2 = d1 - sigma * np.sqrt(T)\n",
        "    \n",
        "    return (otype * s0 * norm.cdf(otype * d1) \n",
        "            - otype * np.exp(-r * T) * K * norm.cdf(otype * d2))\n",
        "price=bsm(30, 0.02, 0.3, 1., 31.0, 1)\n",
        "\n",
        "    \n",
        "print('>>>> your answer below: ')\n",
        "print(str(price))\n"
      ],
      "execution_count": 11,
      "outputs": [
        {
          "output_type": "stream",
          "text": [
            ">>>> your answer below: \n",
            "3.4102506629837706\n"
          ],
          "name": "stdout"
        }
      ]
    },
    {
      "metadata": {
        "id": "yWKZmQ5a0hZi",
        "colab_type": "text"
      },
      "cell_type": "markdown",
      "source": [
        "- (Q) \n",
        "    - write Fourier transform $\\phi$ of $\\ln S_T$;\n",
        "    - write down the call price in terms of $\\phi$;\n",
        "    - then find call price using the above formula."
      ]
    },
    {
      "metadata": {
        "id": "L3r4ARIJ0hZj",
        "colab_type": "text"
      },
      "cell_type": "markdown",
      "source": [
        "**1.Fourier transform $\\phi$ of $\\ln S_T$**\n",
        "<br>\n",
        "Since $$S_T=S_0*e^{(r-0.5\\sigma^2)t+\\sigma W_t}$$,\n",
        "$$\\ln S_T=\\ln S_0+(r-0.5\\sigma^2)t+\\sigma W_t$$\n",
        "and since $W_T$ is a standard Brownian Motion, so we have $W_t\\sim \\mathcal N(0,t)$ , then\n",
        "\n",
        "$$\\phi(\\ln S_T)=i\\mu u-\\frac{\\sigma^2 u^2}{2}$$\n",
        "<br>\n",
        "**2.the call price in terms of $\\phi$;**\n",
        "$$\n",
        "C = S_{0}I_{1} - Ke^{-rT}I_{2}\n",
        "$$\n",
        "where\n",
        "$$\n",
        "I_{1}=\\frac{1}{2} + \\frac{1}{\\pi}\\int_{0}^{\\infty}Re(\\frac{e^{-iu\\log(K/S_0)}\\phi(u-i)}{iu\\phi(-i)})du=\\frac{1}{2} + \\frac{1}{\\pi} \\int_{0}^{\\infty} \\frac{\\sin(d_{1}t)}{t}e^{-\\frac{t^{2}}{2}}dt\n",
        "$$\n",
        "\n",
        "$$\n",
        "I_{2}=\\frac{1}{2} + \\frac{1}{\\pi}\\int_{0}^{\\infty}Re(\\frac{e^{-iu\\log(K/S_0)}\\phi(u)}{iu})du=\\frac{1}{2} + \\frac{1}{\\pi} \\int_{0}^{\\infty}\\frac{\\sin (d_{2}t)}{t}e^{-\\frac{t^{2}}{2}}dt\n",
        "$$\n",
        "and\n",
        "$$d_{1} = \\frac{\\log(\\frac{S_{0}}{K}) + (r + \\frac{\\sigma^{2}}{2})T}{\\sigma\\sqrt{T}}$$\n",
        "\n",
        "$$d_{2} = \\frac{\\log(\\frac{S_0}{K})+(r-\\frac{\\sigma^{2}}{2})T}{\\sigma \\sqrt{T}}$$"
      ]
    },
    {
      "metadata": {
        "id": "wiqzMffQ0hZj",
        "colab_type": "code",
        "outputId": "c1b68510-f27b-4328-ebe4-3135b88120cf",
        "colab": {
          "base_uri": "https://localhost:8080/",
          "height": 52
        }
      },
      "cell_type": "code",
      "source": [
        "'''========\n",
        "Black-Scholes-Merton price by Fourier transform. \n",
        "=========='''\n",
        "\n",
        "def bsm_fourier(s0, r, sigma, T, K, otype):\n",
        "  d1=(np.log(s0/K)+((r+((sigma**2)/2))*T))/(sigma*np.sqrt(T))\n",
        "  d2=(np.log(s0/K)+((r-((sigma**2)/2))*T))/(sigma*np.sqrt(T))\n",
        "  I1=0.5+(1/np.pi)*quad(lambda t: ((np.sin(d1*t))/t)*np.exp(-(t**2)/2),0,np.inf)[0]\n",
        "  I2=0.5+(1/np.pi)*quad(lambda t: ((np.sin(d2*t))/t)*np.exp(-(t**2)/2),0,np.inf)[0]\n",
        "  C=(s0*I1)-(K*(np.exp(-r*T))*I2)\n",
        "  return C\n",
        "\n",
        "price_f=bsm_fourier(30, 0.02, 0.3, 1., 31.0, 1)\n",
        "print('>>> your answer below ')\n",
        "print(str(price_f))"
      ],
      "execution_count": 19,
      "outputs": [
        {
          "output_type": "stream",
          "text": [
            ">>> your answer below \n",
            "3.4102506629837706\n"
          ],
          "name": "stdout"
        }
      ]
    },
    {
      "metadata": {
        "id": "lSIMPaQu0hZm",
        "colab_type": "text"
      },
      "cell_type": "markdown",
      "source": [
        "- (Q) Prove that call price is increasing with respect to its maturity, and demonstrate your result numerically."
      ]
    },
    {
      "metadata": {
        "id": "IYWQI7rR0hZn",
        "colab_type": "text"
      },
      "cell_type": "markdown",
      "source": [
        "Since for european call price,\n",
        "$$C_0 = S_0  \\Phi(d_1) - K e^{-rT} \\Phi(d_2),$$\n",
        "<br> and\n",
        "$$\n",
        "\\frac{\\partial C_0}{\\partial T}=S_0\\phi(d_1)\\frac{\\partial d_1}{\\partial T}-[-rKe^{-rT}\\Phi(d_2)+Ke^{-rT}\\phi(d_2)\\frac{\\partial d_2}{\\partial T}]\n",
        "$$\n",
        "$$\n",
        " \\frac{\\partial C_0}{\\partial T}= S_0\\frac{e^{-\\frac{d_1^2}{2}}}{\\sqrt{2\\pi}}\\frac{\\partial d_1}{\\partial T}-Ke^{-rT}\\frac{e^{-\\frac{d_2^2}{2}}}{\\sqrt{2\\pi}}\\frac{\\partial d_2}{\\partial T}+rKe^{-rT}\\Phi(d_2)\n",
        "$$\n",
        "\n",
        "$$\n",
        "\\frac{\\partial C_0}{\\partial T}= S_0\\frac{e^{-\\frac{d_1^2}{2}}}{\\sqrt{2\\pi}}\\frac{\\partial d_1}{\\partial T}-S_0\\frac{e^{-\\frac{d_1^2}{2}}}{\\sqrt{2\\pi}}\\frac{\\partial d_2}{\\partial T}+rKe^{-rT}\\Phi(d_2)\n",
        "$$\n",
        "<br>\n",
        "plug $d_2=d_1-\\sigma \\sqrt T$ in, we have\n",
        "$$\n",
        "\\frac{\\partial C_0}{\\partial T}= S_0\\frac{e^{-\\frac{d_1^2}{2}}}{\\sqrt{2\\pi}}\\frac{\\partial d_1}{\\partial T}-S_0\\frac{e^{-\\frac{d_1^2}{2}}}{\\sqrt{2\\pi}}\\frac{\\partial (d_1-\\sigma \\sqrt T)}{\\partial T}+rKe^{-rT}\\Phi(d_2)\n",
        "$$\n",
        "$$\n",
        "\\frac{\\partial C_0}{\\partial T}= S_0\\frac{e^{-\\frac{d_1^2}{2}}}{\\sqrt{2\\pi}}\\frac{\\partial(\\sigma\\sqrt T)}{\\partial T}+rKe^{-rT}\\Phi(d_2)$$\n",
        "$$\n",
        "\\frac{\\partial C_0}{\\partial T}= S_0\\frac{e^{-\\frac{d_1^2}{2}}}{\\sqrt{2\\pi}}\\frac{\\sigma}{2 \\sqrt T}+rKe^{-rT}\\Phi(d_2)>0$$\n",
        "<br>\n",
        "Therefore, for call option,  fix volatility, call price  increases as maturity increases.\n"
      ]
    },
    {
      "metadata": {
        "id": "jii_8txV0hZn",
        "colab_type": "code",
        "colab": {}
      },
      "cell_type": "code",
      "source": [
        "'''====your code here==='''\n",
        "\n",
        "pass"
      ],
      "execution_count": 0,
      "outputs": []
    },
    {
      "metadata": {
        "id": "f13CCiPl0hZp",
        "colab_type": "text"
      },
      "cell_type": "markdown",
      "source": [
        "- (Q) \n",
        "Do you think that call price is also increasing with respect to its maturity for Heston model? Please justify your answer."
      ]
    },
    {
      "metadata": {
        "id": "tGiDM06U0hZq",
        "colab_type": "text"
      },
      "cell_type": "markdown",
      "source": [
        "(your latex here)"
      ]
    },
    {
      "metadata": {
        "id": "4o9v5KUcCHE0",
        "colab_type": "text"
      },
      "cell_type": "markdown",
      "source": [
        "- (Q) With the same parameters for GBM above, price the arithmetic asian option with $T = 1$, $K= 31$, and two periods (i.e. average prices of three time instants)"
      ]
    },
    {
      "metadata": {
        "id": "6LMG6rl1CElX",
        "colab_type": "code",
        "colab": {}
      },
      "cell_type": "code",
      "source": [
        "'''====your code here==='''\n",
        "\n",
        "pass"
      ],
      "execution_count": 0,
      "outputs": []
    },
    {
      "metadata": {
        "id": "oTnxe2Rv0hZq",
        "colab_type": "text"
      },
      "cell_type": "markdown",
      "source": [
        "__Problem__"
      ]
    },
    {
      "metadata": {
        "id": "jK2JEGW10hZr",
        "colab_type": "text"
      },
      "cell_type": "markdown",
      "source": [
        "We consider the call price underlying XYZ stock with spot price $\\$30$ and interest rate $2\\%$. Below is the current market call prices corresponding to its maturity $T=1$ and different strikes:"
      ]
    },
    {
      "metadata": {
        "id": "OP-CCtjI0hZr",
        "colab_type": "code",
        "colab": {}
      },
      "cell_type": "code",
      "source": [
        "s0, r, T, otype = [30., .02, 1., 1] # spot, rate, maturity, option type\n",
        "strike_arr = [28.0, 28.5, 29.0, 29.5, 30.0, 30.5, 31.0, 31.5, 32.0] # strike array\n",
        "market_call_arr = [5.7, 5.0, 4.5, 4.1, 3.8, 3.6, 3.6, 3.7, 3.9] # corresponding market price"
      ],
      "execution_count": 0,
      "outputs": []
    },
    {
      "metadata": {
        "id": "c0OEBMDw0hZu",
        "colab_type": "text"
      },
      "cell_type": "markdown",
      "source": [
        "- (Q) Find their implied volatilities and draw its volatility smile"
      ]
    },
    {
      "metadata": {
        "id": "dxzkngLK0hZw",
        "colab_type": "code",
        "colab": {}
      },
      "cell_type": "code",
      "source": [
        "'''====your code here===='''\n",
        "\n",
        "pass"
      ],
      "execution_count": 0,
      "outputs": []
    },
    {
      "metadata": {
        "id": "VLgIIt0n0hZz",
        "colab_type": "text"
      },
      "cell_type": "markdown",
      "source": [
        "- (Q.) Find bsm calibrated volatility to the above data by minimizing $L^2$ norm in the error."
      ]
    },
    {
      "metadata": {
        "id": "lxg3gfNm0hZz",
        "colab_type": "code",
        "colab": {}
      },
      "cell_type": "code",
      "source": [
        "'''====your code here===='''\n",
        "\n",
        "pass"
      ],
      "execution_count": 0,
      "outputs": []
    },
    {
      "metadata": {
        "id": "dGQ3G7me0hZ2",
        "colab_type": "text"
      },
      "cell_type": "markdown",
      "source": [
        "__Problem__"
      ]
    },
    {
      "metadata": {
        "id": "Rn4lfH8C0hZ3",
        "colab_type": "text"
      },
      "cell_type": "markdown",
      "source": [
        "Let $f:\\mathbb R\\mapsto \\mathbb R$ be a smooth even function \n",
        "satisfying $f(0) = 0$. \n",
        "Our objective is to approximate  the second order derivative $f''(0)$. \n",
        "- (Q.) Prove that $f'(0) = 0.$\n",
        "- (Q.) Ziyue proposes the following estimator for $f''(0)$: for a step size $h$\n",
        " $$a_{h} = \\frac{2f(h)}{h^{2}}.$$\n",
        " Please justify that Ziyue's estimation has its convergence $O(h^{2})$.\n",
        "- (Q.) Is there anyway to improve the above \n",
        " convergence to $O(h^{4})$ in the form of \n",
        " $$b_{h} = \\frac{c_{1} f(h) + c_{2}f(2h)}{h^{2}}$$\n",
        " for some constants $c_{1}$ and $c_{2}$?\n",
        "- (Q.) If the above function $f$ is odd and other properties remain the same, how do you want to find the $f''(0)$ efficiently?\n"
      ]
    },
    {
      "metadata": {
        "id": "rufEfsZ-0hZ4",
        "colab_type": "text"
      },
      "cell_type": "markdown",
      "source": [
        "__Soln__ (your latex input here)\n"
      ]
    },
    {
      "metadata": {
        "id": "U17K-ZlN0hZ4",
        "colab_type": "text"
      },
      "cell_type": "markdown",
      "source": [
        "__Problem__"
      ]
    },
    {
      "metadata": {
        "id": "FTO_xT9q0hZ5",
        "colab_type": "text"
      },
      "cell_type": "markdown",
      "source": [
        "Thomas proposed the following estimator for the value $\\pi$.\n",
        "$$\\hat \\pi = c \\cdot I(X_1^2 + X_2^2< 1/2)$$\n",
        "where $X_1$ and $X_2$ are two independent uniform random variables on $(-1,1)$.\n",
        "\n",
        "- (Q) find the constant $c$ so that $\\hat \\pi$ is unbiased estimator to $\\pi$;\n",
        "- (Q) for $c?$ in your above answer, what is its MSE?"
      ]
    },
    {
      "metadata": {
        "id": "OWFxTPEu0hZ5",
        "colab_type": "text"
      },
      "cell_type": "markdown",
      "source": [
        "(your latex here)\n"
      ]
    },
    {
      "metadata": {
        "id": "ehS7XCnf0hZ6",
        "colab_type": "text"
      },
      "cell_type": "markdown",
      "source": [
        "- (Q) can you propose a better mc estimator with smaller MSE?"
      ]
    },
    {
      "metadata": {
        "id": "efC18iTL0hZ7",
        "colab_type": "text"
      },
      "cell_type": "markdown",
      "source": [
        "__Soln__ (your latex here)"
      ]
    },
    {
      "metadata": {
        "id": "SxOWkLjd0hZ8",
        "colab_type": "text"
      },
      "cell_type": "markdown",
      "source": [
        "- (Q) can you demonstrate the theoretical MSE obtained in your algorithm above numerically via python code?"
      ]
    },
    {
      "metadata": {
        "id": "WRNGdWZH0hZ8",
        "colab_type": "code",
        "colab": {}
      },
      "cell_type": "code",
      "source": [
        "'''====== your code here ======='''\n",
        "pass"
      ],
      "execution_count": 0,
      "outputs": []
    },
    {
      "metadata": {
        "id": "LE0rBPfv0hZ_",
        "colab_type": "text"
      },
      "cell_type": "markdown",
      "source": [
        "__Problem__"
      ]
    },
    {
      "metadata": {
        "id": "jmWachdl0hZ_",
        "colab_type": "text"
      },
      "cell_type": "markdown",
      "source": [
        "- (Q) find the conditional probability of a random varialbe $Z$ in $B_{1/2}$,  given that $Z$ is uniformly distributed on $B_1$."
      ]
    },
    {
      "metadata": {
        "id": "PSZVBUcG0haA",
        "colab_type": "text"
      },
      "cell_type": "markdown",
      "source": [
        "__Soln__(your latex here)\n"
      ]
    },
    {
      "metadata": {
        "id": "e_-VbsEA0haB",
        "colab_type": "text"
      },
      "cell_type": "markdown",
      "source": [
        "- (Q) Demonstrate your answer numerically by doing so:\n",
        "    - Generate 1000 samplings uniformly from $B_1$;\n",
        "    - count the points in $B_{1/2}$. \n",
        "    - find the ratio of number of points in the small ball and the big ball."
      ]
    },
    {
      "metadata": {
        "id": "AlKL4V4K0haB",
        "colab_type": "code",
        "colab": {}
      },
      "cell_type": "code",
      "source": [
        "'''===== your code here======'''\n",
        "num_sample = 1000\n",
        "sample_arr = np.zeros([2,num_sample])\n",
        "\n",
        "pass"
      ],
      "execution_count": 0,
      "outputs": []
    },
    {
      "metadata": {
        "id": "JmJKz6330haD",
        "colab_type": "text"
      },
      "cell_type": "markdown",
      "source": [
        "- (Q) Justify your random sampling in the previous question"
      ]
    },
    {
      "metadata": {
        "id": "lI5mhWqN0haD",
        "colab_type": "text"
      },
      "cell_type": "markdown",
      "source": [
        "__soln__ (your latex here)\n",
        "\n"
      ]
    },
    {
      "metadata": {
        "id": "RAcsBZBB0haE",
        "colab_type": "code",
        "colab": {}
      },
      "cell_type": "code",
      "source": [
        ""
      ],
      "execution_count": 0,
      "outputs": []
    }
  ]
}