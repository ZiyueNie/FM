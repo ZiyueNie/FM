{
  "nbformat": 4,
  "nbformat_minor": 0,
  "metadata": {
    "colab": {
      "name": "572_hw1_put.ipynb",
      "version": "0.3.2",
      "provenance": [],
      "collapsed_sections": [],
      "include_colab_link": true
    },
    "kernelspec": {
      "name": "python3",
      "display_name": "Python 3"
    }
  },
  "cells": [
    {
      "cell_type": "markdown",
      "metadata": {
        "id": "view-in-github",
        "colab_type": "text"
      },
      "source": [
        "<a href=\"https://colab.research.google.com/github/ZiyueNie/FM/blob/master/src/572_hw1_put.ipynb\" target=\"_parent\"><img src=\"https://colab.research.google.com/assets/colab-badge.svg\" alt=\"Open In Colab\"/></a>"
      ]
    },
    {
      "metadata": {
        "id": "rULOYWJrdGe8",
        "colab_type": "text"
      },
      "cell_type": "markdown",
      "source": [
        "The objective is to get familiar with model calibration.\n",
        "- download  today's call option prices of your favorite stock with maturity $T_1$ and several near the money strikes $(K_1, \\ldots, K_n)$.\n",
        "- compute IV with your bsm price engine for each option price. You are going to use USD Libor 3-month for your interest rate input. \n",
        "- plot a figure of strike v.s. IV. Do you find any volatility smile? \n",
        "- calibrate bsm volatility for the option prices, denote it by $\\hat \\sigma$. You may use any error function for the calibration purpose.\n",
        "- reproduce option prices using your price engine with calibrated volatility, then compare how close they are to the market prices.\n"
      ]
    },
    {
      "metadata": {
        "id": "VgXkK5X2aAPU",
        "colab_type": "text"
      },
      "cell_type": "markdown",
      "source": [
        ""
      ]
    },
    {
      "metadata": {
        "id": "Q6Z73aDt9jgv",
        "colab_type": "code",
        "outputId": "b12e1d99-9c8e-4369-96b4-e096abb58ef1",
        "colab": {
          "base_uri": "https://localhost:8080/",
          "height": 139
        }
      },
      "cell_type": "code",
      "source": [
        "!git clone https://github.com/ZiyueNie/19ma573ZiyueNie"
      ],
      "execution_count": 11,
      "outputs": [
        {
          "output_type": "stream",
          "text": [
            "Cloning into '19ma573ZiyueNie'...\n",
            "remote: Enumerating objects: 70, done.\u001b[K\n",
            "remote: Counting objects:   1% (1/70)   \u001b[K\rremote: Counting objects:   2% (2/70)   \u001b[K\rremote: Counting objects:   4% (3/70)   \u001b[K\rremote: Counting objects:   5% (4/70)   \u001b[K\rremote: Counting objects:   7% (5/70)   \u001b[K\rremote: Counting objects:   8% (6/70)   \u001b[K\rremote: Counting objects:  10% (7/70)   \u001b[K\rremote: Counting objects:  11% (8/70)   \u001b[K\rremote: Counting objects:  12% (9/70)   \u001b[K\rremote: Counting objects:  14% (10/70)   \u001b[K\rremote: Counting objects:  15% (11/70)   \u001b[K\rremote: Counting objects:  17% (12/70)   \u001b[K\rremote: Counting objects:  18% (13/70)   \u001b[K\rremote: Counting objects:  20% (14/70)   \u001b[K\rremote: Counting objects:  21% (15/70)   \u001b[K\rremote: Counting objects:  22% (16/70)   \u001b[K\rremote: Counting objects:  24% (17/70)   \u001b[K\rremote: Counting objects:  25% (18/70)   \u001b[K\rremote: Counting objects:  27% (19/70)   \u001b[K\rremote: Counting objects:  28% (20/70)   \u001b[K\rremote: Counting objects:  30% (21/70)   \u001b[K\rremote: Counting objects:  31% (22/70)   \u001b[K\rremote: Counting objects:  32% (23/70)   \u001b[K\rremote: Counting objects:  34% (24/70)   \u001b[K\rremote: Counting objects:  35% (25/70)   \u001b[K\rremote: Counting objects:  37% (26/70)   \u001b[K\rremote: Counting objects:  38% (27/70)   \u001b[K\rremote: Counting objects:  40% (28/70)   \u001b[K\rremote: Counting objects:  41% (29/70)   \u001b[K\rremote: Counting objects:  42% (30/70)   \u001b[K\rremote: Counting objects:  44% (31/70)   \u001b[K\rremote: Counting objects:  45% (32/70)   \u001b[K\rremote: Counting objects:  47% (33/70)   \u001b[K\rremote: Counting objects:  48% (34/70)   \u001b[K\rremote: Counting objects:  50% (35/70)   \u001b[K\rremote: Counting objects:  51% (36/70)   \u001b[K\rremote: Counting objects:  52% (37/70)   \u001b[K\rremote: Counting objects:  54% (38/70)   \u001b[K\rremote: Counting objects:  55% (39/70)   \u001b[K\rremote: Counting objects:  57% (40/70)   \u001b[K\rremote: Counting objects:  58% (41/70)   \u001b[K\rremote: Counting objects:  60% (42/70)   \u001b[K\rremote: Counting objects:  61% (43/70)   \u001b[K\rremote: Counting objects:  62% (44/70)   \u001b[K\rremote: Counting objects:  64% (45/70)   \u001b[K\rremote: Counting objects:  65% (46/70)   \u001b[K\rremote: Counting objects:  67% (47/70)   \u001b[K\rremote: Counting objects:  68% (48/70)   \u001b[K\rremote: Counting objects:  70% (49/70)   \u001b[K\rremote: Counting objects:  71% (50/70)   \u001b[K\rremote: Counting objects:  72% (51/70)   \u001b[K\rremote: Counting objects:  74% (52/70)   \u001b[K\rremote: Counting objects:  75% (53/70)   \u001b[K\rremote: Counting objects:  77% (54/70)   \u001b[K\rremote: Counting objects:  78% (55/70)   \u001b[K\rremote: Counting objects:  80% (56/70)   \u001b[K\rremote: Counting objects:  81% (57/70)   \u001b[K\rremote: Counting objects:  82% (58/70)   \u001b[K\rremote: Counting objects:  84% (59/70)   \u001b[K\rremote: Counting objects:  85% (60/70)   \u001b[K\rremote: Counting objects:  87% (61/70)   \u001b[K\rremote: Counting objects:  88% (62/70)   \u001b[K\rremote: Counting objects:  90% (63/70)   \u001b[K\rremote: Counting objects:  91% (64/70)   \u001b[K\rremote: Counting objects:  92% (65/70)   \u001b[K\rremote: Counting objects:  94% (66/70)   \u001b[K\rremote: Counting objects:  95% (67/70)   \u001b[K\rremote: Counting objects:  97% (68/70)   \u001b[K\rremote: Counting objects:  98% (69/70)   \u001b[K\rremote: Counting objects: 100% (70/70)   \u001b[K\rremote: Counting objects: 100% (70/70), done.\u001b[K\n",
            "remote: Compressing objects:   1% (1/70)   \u001b[K\rremote: Compressing objects:   2% (2/70)   \u001b[K\rremote: Compressing objects:   4% (3/70)   \u001b[K\rremote: Compressing objects:   5% (4/70)   \u001b[K\rremote: Compressing objects:   7% (5/70)   \u001b[K\rremote: Compressing objects:   8% (6/70)   \u001b[K\rremote: Compressing objects:  10% (7/70)   \u001b[K\rremote: Compressing objects:  11% (8/70)   \u001b[K\rremote: Compressing objects:  12% (9/70)   \u001b[K\rremote: Compressing objects:  14% (10/70)   \u001b[K\rremote: Compressing objects:  15% (11/70)   \u001b[K\rremote: Compressing objects:  17% (12/70)   \u001b[K\rremote: Compressing objects:  18% (13/70)   \u001b[K\rremote: Compressing objects:  20% (14/70)   \u001b[K\rremote: Compressing objects:  21% (15/70)   \u001b[K\rremote: Compressing objects:  22% (16/70)   \u001b[K\rremote: Compressing objects:  24% (17/70)   \u001b[K\rremote: Compressing objects:  25% (18/70)   \u001b[K\rremote: Compressing objects:  27% (19/70)   \u001b[K\rremote: Compressing objects:  28% (20/70)   \u001b[K\rremote: Compressing objects:  30% (21/70)   \u001b[K\rremote: Compressing objects:  31% (22/70)   \u001b[K\rremote: Compressing objects:  32% (23/70)   \u001b[K\rremote: Compressing objects:  34% (24/70)   \u001b[K\rremote: Compressing objects:  35% (25/70)   \u001b[K\rremote: Compressing objects:  37% (26/70)   \u001b[K\rremote: Compressing objects:  38% (27/70)   \u001b[K\rremote: Compressing objects:  40% (28/70)   \u001b[K\rremote: Compressing objects:  41% (29/70)   \u001b[K\rremote: Compressing objects:  42% (30/70)   \u001b[K\rremote: Compressing objects:  44% (31/70)   \u001b[K\rremote: Compressing objects:  45% (32/70)   \u001b[K\rremote: Compressing objects:  47% (33/70)   \u001b[K\rremote: Compressing objects:  48% (34/70)   \u001b[K\rremote: Compressing objects:  50% (35/70)   \u001b[K\rremote: Compressing objects:  51% (36/70)   \u001b[K\rremote: Compressing objects:  52% (37/70)   \u001b[K\rremote: Compressing objects:  54% (38/70)   \u001b[K\rremote: Compressing objects:  55% (39/70)   \u001b[K\rremote: Compressing objects:  57% (40/70)   \u001b[K\rremote: Compressing objects:  58% (41/70)   \u001b[K\rremote: Compressing objects:  60% (42/70)   \u001b[K\rremote: Compressing objects:  61% (43/70)   \u001b[K\rremote: Compressing objects:  62% (44/70)   \u001b[K\rremote: Compressing objects:  64% (45/70)   \u001b[K\rremote: Compressing objects:  65% (46/70)   \u001b[K\rremote: Compressing objects:  67% (47/70)   \u001b[K\rremote: Compressing objects:  68% (48/70)   \u001b[K\rremote: Compressing objects:  70% (49/70)   \u001b[K\rremote: Compressing objects:  71% (50/70)   \u001b[K\rremote: Compressing objects:  72% (51/70)   \u001b[K\rremote: Compressing objects:  74% (52/70)   \u001b[K\rremote: Compressing objects:  75% (53/70)   \u001b[K\rremote: Compressing objects:  77% (54/70)   \u001b[K\rremote: Compressing objects:  78% (55/70)   \u001b[K\rremote: Compressing objects:  80% (56/70)   \u001b[K\rremote: Compressing objects:  81% (57/70)   \u001b[K\rremote: Compressing objects:  82% (58/70)   \u001b[K\rremote: Compressing objects:  84% (59/70)   \u001b[K\rremote: Compressing objects:  85% (60/70)   \u001b[K\rremote: Compressing objects:  87% (61/70)   \u001b[K\rremote: Compressing objects:  88% (62/70)   \u001b[K\rremote: Compressing objects:  90% (63/70)   \u001b[K\rremote: Compressing objects:  91% (64/70)   \u001b[K\rremote: Compressing objects:  92% (65/70)   \u001b[K\rremote: Compressing objects:  94% (66/70)   \u001b[K\rremote: Compressing objects:  95% (67/70)   \u001b[K\rremote: Compressing objects:  97% (68/70)   \u001b[K\rremote: Compressing objects:  98% (69/70)   \u001b[K\rremote: Compressing objects: 100% (70/70)   \u001b[K\rremote: Compressing objects: 100% (70/70), done.\u001b[K\n",
            "Receiving objects:   0% (1/225)   \rReceiving objects:   1% (3/225)   \rReceiving objects:   2% (5/225)   \rReceiving objects:   3% (7/225)   \rReceiving objects:   4% (9/225)   \rReceiving objects:   5% (12/225)   \rReceiving objects:   6% (14/225)   \rReceiving objects:   7% (16/225)   \rReceiving objects:   8% (18/225)   \rReceiving objects:   9% (21/225)   \rReceiving objects:  10% (23/225)   \rReceiving objects:  11% (25/225)   \rReceiving objects:  12% (27/225)   \rReceiving objects:  13% (30/225)   \rReceiving objects:  14% (32/225)   \rReceiving objects:  15% (34/225)   \rReceiving objects:  16% (36/225)   \rReceiving objects:  17% (39/225)   \rReceiving objects:  18% (41/225)   \rReceiving objects:  19% (43/225)   \rReceiving objects:  20% (45/225)   \rReceiving objects:  21% (48/225)   \rReceiving objects:  22% (50/225)   \rReceiving objects:  23% (52/225)   \rReceiving objects:  24% (54/225)   \rReceiving objects:  25% (57/225)   \rReceiving objects:  26% (59/225)   \rReceiving objects:  27% (61/225)   \rReceiving objects:  28% (63/225)   \rReceiving objects:  29% (66/225)   \rReceiving objects:  30% (68/225)   \rReceiving objects:  31% (70/225)   \rReceiving objects:  32% (72/225)   \rReceiving objects:  33% (75/225)   \rReceiving objects:  34% (77/225)   \rReceiving objects:  35% (79/225)   \rReceiving objects:  36% (81/225)   \rReceiving objects:  37% (84/225)   \rReceiving objects:  38% (86/225)   \rReceiving objects:  39% (88/225)   \rReceiving objects:  40% (90/225)   \rReceiving objects:  41% (93/225)   \rReceiving objects:  42% (95/225)   \rReceiving objects:  43% (97/225)   \rReceiving objects:  44% (99/225)   \rReceiving objects:  45% (102/225)   \rReceiving objects:  46% (104/225)   \rReceiving objects:  47% (106/225)   \rReceiving objects:  48% (108/225)   \rReceiving objects:  49% (111/225)   \rReceiving objects:  50% (113/225)   \rReceiving objects:  51% (115/225)   \rReceiving objects:  52% (117/225)   \rReceiving objects:  53% (120/225)   \rReceiving objects:  54% (122/225)   \rReceiving objects:  55% (124/225)   \rReceiving objects:  56% (126/225)   \rReceiving objects:  57% (129/225)   \rReceiving objects:  58% (131/225)   \rReceiving objects:  59% (133/225)   \rReceiving objects:  60% (135/225)   \rReceiving objects:  61% (138/225)   \rReceiving objects:  62% (140/225)   \rReceiving objects:  63% (142/225)   \rReceiving objects:  64% (144/225)   \rReceiving objects:  65% (147/225)   \rReceiving objects:  66% (149/225)   \rReceiving objects:  67% (151/225)   \rReceiving objects:  68% (153/225)   \rReceiving objects:  69% (156/225)   \rReceiving objects:  70% (158/225)   \rReceiving objects:  71% (160/225)   \rReceiving objects:  72% (162/225)   \rReceiving objects:  73% (165/225)   \rReceiving objects:  74% (167/225)   \rReceiving objects:  75% (169/225)   \rReceiving objects:  76% (171/225)   \rReceiving objects:  77% (174/225)   \rReceiving objects:  78% (176/225)   \rReceiving objects:  79% (178/225)   \rReceiving objects:  80% (180/225)   \rReceiving objects:  81% (183/225)   \rReceiving objects:  82% (185/225)   \rremote: Total 225 (delta 25), reused 0 (delta 0), pack-reused 155\u001b[K\n",
            "Receiving objects:  83% (187/225)   \rReceiving objects:  84% (189/225)   \rReceiving objects:  85% (192/225)   \rReceiving objects:  86% (194/225)   \rReceiving objects:  87% (196/225)   \rReceiving objects:  88% (198/225)   \rReceiving objects:  89% (201/225)   \rReceiving objects:  90% (203/225)   \rReceiving objects:  91% (205/225)   \rReceiving objects:  92% (207/225)   \rReceiving objects:  93% (210/225)   \rReceiving objects:  94% (212/225)   \rReceiving objects:  95% (214/225)   \rReceiving objects:  96% (216/225)   \rReceiving objects:  97% (219/225)   \rReceiving objects:  98% (221/225)   \rReceiving objects:  99% (223/225)   \rReceiving objects: 100% (225/225)   \rReceiving objects: 100% (225/225), 390.05 KiB | 15.00 MiB/s, done.\n",
            "Resolving deltas:   0% (0/86)   \rResolving deltas:   1% (1/86)   \rResolving deltas:  27% (24/86)   \rResolving deltas:  36% (31/86)   \rResolving deltas:  43% (37/86)   \rResolving deltas:  45% (39/86)   \rResolving deltas:  46% (40/86)   \rResolving deltas:  51% (44/86)   \rResolving deltas:  52% (45/86)   \rResolving deltas:  53% (46/86)   \rResolving deltas:  54% (47/86)   \rResolving deltas:  55% (48/86)   \rResolving deltas:  62% (54/86)   \rResolving deltas:  65% (56/86)   \rResolving deltas:  66% (57/86)   \rResolving deltas:  67% (58/86)   \rResolving deltas:  68% (59/86)   \rResolving deltas:  69% (60/86)   \rResolving deltas:  72% (62/86)   \rResolving deltas:  89% (77/86)   \rResolving deltas:  91% (79/86)   \rResolving deltas:  93% (80/86)   \rResolving deltas:  96% (83/86)   \rResolving deltas: 100% (86/86)   \rResolving deltas: 100% (86/86), done.\n"
          ],
          "name": "stdout"
        }
      ]
    },
    {
      "metadata": {
        "id": "A-BhVnN49jvJ",
        "colab_type": "code",
        "outputId": "384b1d4e-0f7b-4792-9a52-ce749a63bc5d",
        "colab": {
          "base_uri": "https://localhost:8080/",
          "height": 35
        }
      },
      "cell_type": "code",
      "source": [
        "cd 19ma573ZiyueNie/src/"
      ],
      "execution_count": 12,
      "outputs": [
        {
          "output_type": "stream",
          "text": [
            "/content/19ma573ZiyueNie/src/19ma573ZiyueNie/src/19ma573ZiyueNie/src\n"
          ],
          "name": "stdout"
        }
      ]
    },
    {
      "metadata": {
        "id": "InYwzfb19j6g",
        "colab_type": "code",
        "colab": {}
      },
      "cell_type": "code",
      "source": [
        "from european_options import VanillaOption\n",
        "from gbm import Gbm"
      ],
      "execution_count": 0,
      "outputs": []
    },
    {
      "metadata": {
        "id": "joZ7S57iaE_d",
        "colab_type": "code",
        "colab": {}
      },
      "cell_type": "code",
      "source": [
        "import matplotlib.pyplot as plt\n",
        "import numpy as np\n",
        "import scipy.optimize as so\n",
        "import pandas as pd\n",
        "import math\n",
        "import scipy.stats as ss\n"
      ],
      "execution_count": 0,
      "outputs": []
    },
    {
      "metadata": {
        "id": "MBE5UNfWaFVB",
        "colab_type": "code",
        "outputId": "a5cf2e41-7f01-4b9c-f8fc-a9b3e40a3ed4",
        "colab": {
          "base_uri": "https://localhost:8080/",
          "height": 745
        }
      },
      "cell_type": "code",
      "source": [
        "'''======\n",
        "Read data\n",
        "========='''\n",
        "#Read four-column data\n",
        "#columns are otype, maturity, strike, option_price\n",
        "call_option_data1 = pd.read_csv('SBUX_put.csv')\n",
        "\n",
        "print('>>>>>>Starbucks_put data')\n",
        "print(call_option_data1)"
      ],
      "execution_count": 15,
      "outputs": [
        {
          "output_type": "stream",
          "text": [
            ">>>>>>Starbucks_call data\n",
            "          Contract Name         Last Trade Date  Strike  Last Price    Bid  \\\n",
            "0   SBUX190621P00030000   2019-01-31 2:03PM EST    30.0        0.03   0.00   \n",
            "1   SBUX190621P00035000  2019-01-16 11:08AM EST    35.0        0.05   0.01   \n",
            "2   SBUX190621P00040000  2019-01-31 12:42PM EST    40.0        0.05   0.03   \n",
            "3   SBUX190621P00043000  2019-02-05 11:45AM EST    43.0        0.08   0.05   \n",
            "4   SBUX190621P00045000   2019-02-05 3:30PM EST    45.0        0.10   0.06   \n",
            "5   SBUX190621P00047000   2019-02-05 3:58PM EST    47.0        0.12   0.12   \n",
            "6   SBUX190621P00050000   2019-02-05 3:45PM EST    50.0        0.18   0.16   \n",
            "7   SBUX190621P00052500  2019-02-05 10:47AM EST    52.5        0.30   0.25   \n",
            "8   SBUX190621P00055000   2019-02-05 3:17PM EST    55.0        0.38   0.38   \n",
            "9   SBUX190621P00057500   2019-02-05 3:17PM EST    57.5        0.59   0.57   \n",
            "10  SBUX190621P00060000   2019-02-05 3:49PM EST    60.0        0.88   0.85   \n",
            "11  SBUX190621P00062500   2019-02-05 3:50PM EST    62.5        1.31   1.20   \n",
            "12  SBUX190621P00065000   2019-02-05 3:55PM EST    65.0        1.91   1.85   \n",
            "13  SBUX190621P00067500   2019-02-05 3:55PM EST    67.5        2.76   2.64   \n",
            "14  SBUX190621P00070000   2019-02-05 3:39PM EST    70.0        3.90   3.75   \n",
            "15  SBUX190621P00072500  2019-02-05 10:04AM EST    72.5        5.80   5.20   \n",
            "16  SBUX190621P00075000   2019-02-01 1:38PM EST    75.0        7.80   6.90   \n",
            "17  SBUX190621P00077500  2019-02-01 11:25AM EST    77.5        9.50   8.90   \n",
            "18  SBUX190621P00085000   2019-01-18 3:45PM EST    85.0       20.70  15.70   \n",
            "\n",
            "      Ask  Change % Change Volume Open Interest Implied Volatility  \n",
            "0    0.06    0.00        -      5           315             54.69%  \n",
            "1    0.18    0.00        -      1           513             52.73%  \n",
            "2    0.19    0.00        -      1         6,922             48.49%  \n",
            "3    0.15   -0.03  -27.27%    100         2,262             41.16%  \n",
            "4    0.17   -0.01   -9.09%      6        12,392             38.57%  \n",
            "5    0.17   -0.05  -29.41%     47         4,342             35.21%  \n",
            "6    0.25   -0.08  -30.77%     25         7,196             32.72%  \n",
            "7    0.33   -0.06  -16.67%      6         2,760             30.47%  \n",
            "8    0.45   -0.21  -35.59%     13         5,121             28.42%  \n",
            "9    0.64   -0.13  -18.06%     10         2,360             26.71%  \n",
            "10   0.90   -0.32  -26.67%     22         3,351             24.98%  \n",
            "11   1.32   -0.44  -25.14%     50         3,558             23.72%  \n",
            "12   1.95   -0.69  -26.54%  1,627         4,435             22.80%  \n",
            "13   2.79   -0.74  -21.14%    100           830             21.85%  \n",
            "14   3.95   -1.05  -21.21%     50           295             21.30%  \n",
            "15   5.35   -0.80  -12.12%     11            69             20.57%  \n",
            "16   7.35    0.00        -      8            94             22.12%  \n",
            "17   9.35    0.00        -      1            13             22.53%  \n",
            "18  16.35    0.00        -      1             4             27.39%  \n"
          ],
          "name": "stdout"
        }
      ]
    },
    {
      "metadata": {
        "id": "ehYlWS1PIvCC",
        "colab_type": "code",
        "outputId": "2782caea-b4c8-4dde-d595-a4e0d2dca100",
        "colab": {
          "base_uri": "https://localhost:8080/",
          "height": 364
        }
      },
      "cell_type": "code",
      "source": [
        "data2 = call_option_data1.drop(['Contract Name','Last Trade Date','Bid','Ask','Change','% Change', 'Volume','Open Interest', 'Implied Volatility'], axis=1,inplace=False) \n",
        "print(data2)\n"
      ],
      "execution_count": 16,
      "outputs": [
        {
          "output_type": "stream",
          "text": [
            "    Strike  Last Price\n",
            "0     30.0        0.03\n",
            "1     35.0        0.05\n",
            "2     40.0        0.05\n",
            "3     43.0        0.08\n",
            "4     45.0        0.10\n",
            "5     47.0        0.12\n",
            "6     50.0        0.18\n",
            "7     52.5        0.30\n",
            "8     55.0        0.38\n",
            "9     57.5        0.59\n",
            "10    60.0        0.88\n",
            "11    62.5        1.31\n",
            "12    65.0        1.91\n",
            "13    67.5        2.76\n",
            "14    70.0        3.90\n",
            "15    72.5        5.80\n",
            "16    75.0        7.80\n",
            "17    77.5        9.50\n",
            "18    85.0       20.70\n"
          ],
          "name": "stdout"
        }
      ]
    },
    {
      "metadata": {
        "id": "P5iIxFcJj5jv",
        "colab_type": "code",
        "outputId": "6f788b2c-adf8-4033-f082-055b84d1ce80",
        "colab": {
          "base_uri": "https://localhost:8080/",
          "height": 35
        }
      },
      "cell_type": "code",
      "source": [
        "'''=========\n",
        "Tips for time length\n",
        "============='''\n",
        "\n",
        "today = np.datetime64('2019-02-04')\n",
        "maturity = np.datetime64('2019-06-21')\n",
        "time_to_maturity_days = maturity - today\n",
        "\n",
        "time_to_maturity_years = time_to_maturity_days/np.timedelta64(1,'D')/365\n",
        "T_1=time_to_maturity_years \n",
        "print('--->>>>>time to maturity in years is ' + str(time_to_maturity_years))"
      ],
      "execution_count": 17,
      "outputs": [
        {
          "output_type": "stream",
          "text": [
            "--->>>>>time to maturity in years is 0.37534246575342467\n"
          ],
          "name": "stdout"
        }
      ]
    },
    {
      "metadata": {
        "id": "uPeXajT1aFl3",
        "colab_type": "code",
        "colab": {}
      },
      "cell_type": "code",
      "source": [
        "'''==============\n",
        "below are from the market data for underlying process\n",
        "================='''\n",
        "Int_rates=2.73263/100.0   #3 month US Dollar LIBOR interest rate\n",
        "gbm1 = Gbm(\n",
        "    init_state = 67.58, #today's starbucks stock price\n",
        "    drift_ratio =Int_rates, \n",
        "    vol_ratio = .1 #initial guess\n",
        ")"
      ],
      "execution_count": 0,
      "outputs": []
    },
    {
      "metadata": {
        "id": "F9VpwzgVbmI2",
        "colab_type": "code",
        "colab": {}
      },
      "cell_type": "code",
      "source": [
        "option_list = []\n",
        "#for i in range(len(data2['Strike'])):\n",
        "for i in range(len(call_option_data1['Strike'])):\n",
        "    option1= VanillaOption(\n",
        "      otype = -1,\n",
        "     strike = call_option_data1['Strike'][i], \n",
        "      maturity = T_1,\n",
        "      market_price=call_option_data1['Last Price'][i] \n",
        "      )\n",
        "    option_list.append(option1)"
      ],
      "execution_count": 0,
      "outputs": []
    },
    {
      "metadata": {
        "id": "kVx24pnagTHQ",
        "colab_type": "code",
        "colab": {}
      },
      "cell_type": "code",
      "source": [
        "'''================\n",
        "define an error function\n",
        "===================='''\n",
        "def error_function(vol, gbm, option):\n",
        "  gbm.vol_ratio = vol\n",
        "  return np.abs(option.market_price - gbm.bsm_price(option))\n",
        "\n",
        "'''==========\n",
        "define a method to seek for an implied volatility\n",
        "============'''\n",
        "\n",
        "def implied_volatility(gbm, option):\n",
        "  init_vol = .1 #initial guess\n",
        "  return so.fmin(error_function, init_vol, args = (gbm, option), disp = 0)[0]"
      ],
      "execution_count": 0,
      "outputs": []
    },
    {
      "metadata": {
        "id": "RfxA8R7XhMJ3",
        "colab_type": "code",
        "outputId": "bcbfe640-d7b0-40d8-da33-6d620733c72b",
        "colab": {
          "base_uri": "https://localhost:8080/",
          "height": 55
        }
      },
      "cell_type": "code",
      "source": [
        "data3=[]\n",
        "for i in range(len(call_option_data1['Strike'])):\n",
        "  a = implied_volatility(gbm1, option_list[i])\n",
        "  data3.append(a)\n",
        "print(data3)\n",
        "#data2=data2.append(data3)\n",
        "\n"
      ],
      "execution_count": 35,
      "outputs": [
        {
          "output_type": "stream",
          "text": [
            "[0.1, 0.1, 0.386093750000001, 0.36210937500000095, 0.34203125000000084, 0.3201562500000008, 0.2950781250000007, 0.2852343750000007, 0.2586328125000006, 0.24585937500000055, 0.2312109375000005, 0.2176953125000004, 0.20359375000000038, 0.1906445312500003, 0.17765625000000027, 0.19378906250000033, 0.20310546875000035, 0.16570312500000023, 0.5656250000000017]\n"
          ],
          "name": "stdout"
        }
      ]
    },
    {
      "metadata": {
        "id": "UzRyj6rzgXhZ",
        "colab_type": "code",
        "outputId": "829c96b0-1009-4aa3-a9fd-c4c9e2c47dd4",
        "colab": {
          "base_uri": "https://localhost:8080/",
          "height": 379
        }
      },
      "cell_type": "code",
      "source": [
        "plt.plot(call_option_data1['Strike'],data3,label='put implied volatility')\n",
        "plt.ylabel('implied vol')\n",
        "plt.xlabel('strike')\n",
        "plt.legend()"
      ],
      "execution_count": 49,
      "outputs": [
        {
          "output_type": "execute_result",
          "data": {
            "text/plain": [
              "<matplotlib.legend.Legend at 0x7fda15b58a20>"
            ]
          },
          "metadata": {
            "tags": []
          },
          "execution_count": 49
        },
        {
          "output_type": "display_data",
          "data": {
            "image/png": "[encoded data removed]",
            "text/plain": [
              "<Figure size 576x396 with 1 Axes>"
            ]
          },
          "metadata": {
            "tags": []
          }
        }
      ]
    },
    {
      "metadata": {
        "id": "3Q3o86Obnyyh",
        "colab_type": "code",
        "outputId": "ea8fdb54-0ab7-4e59-af24-0c4926648477",
        "colab": {
          "base_uri": "https://localhost:8080/",
          "height": 364
        }
      },
      "cell_type": "code",
      "source": [
        "#data4=[]\n",
        "#for i in range(len(call_option_data1['Strike'])):\n",
        "c=call_option_data1['Strike']\n",
        "#c=np.array(c)\n",
        "data4 = np.log(67.58/(c*np.exp(-2.73263/100.0*T_1)))\n",
        "#data4.append(b)\n",
        "#print(c)\n",
        "#print(data4)\n",
        "data4  #type(c) shift+enter\n"
      ],
      "execution_count": 37,
      "outputs": [
        {
          "output_type": "execute_result",
          "data": {
            "text/plain": [
              "0     0.822371\n",
              "1     0.668221\n",
              "2     0.534689\n",
              "3     0.462369\n",
              "4     0.416906\n",
              "5     0.373421\n",
              "6     0.311546\n",
              "7     0.262756\n",
              "8     0.216236\n",
              "9     0.171784\n",
              "10    0.129224\n",
              "11    0.088402\n",
              "12    0.049182\n",
              "13    0.011441\n",
              "14   -0.024926\n",
              "15   -0.060018\n",
              "16   -0.093919\n",
              "17   -0.126709\n",
              "18   -0.219082\n",
              "Name: Strike, dtype: float64"
            ]
          },
          "metadata": {
            "tags": []
          },
          "execution_count": 37
        }
      ]
    },
    {
      "metadata": {
        "id": "Q0NrregorjVR",
        "colab_type": "code",
        "outputId": "1a566e15-5167-417f-a945-7db163791267",
        "colab": {
          "base_uri": "https://localhost:8080/",
          "height": 379
        }
      },
      "cell_type": "code",
      "source": [
        "plt.plot(data4,data3,label='put implied volatility')\n",
        "plt.ylabel('implied vol')\n",
        "plt.xlabel('moneyness')\n",
        "plt.legend()"
      ],
      "execution_count": 50,
      "outputs": [
        {
          "output_type": "execute_result",
          "data": {
            "text/plain": [
              "<matplotlib.legend.Legend at 0x7fda15a88668>"
            ]
          },
          "metadata": {
            "tags": []
          },
          "execution_count": 50
        },
        {
          "output_type": "display_data",
          "data": {
            "image/png": "[encoded data removed]",
            "text/plain": [
              "<Figure size 576x396 with 1 Axes>"
            ]
          },
          "metadata": {
            "tags": []
          }
        }
      ]
    },
    {
      "metadata": {
        "id": "gvYqzhR9wOmZ",
        "colab_type": "code",
        "outputId": "fb6f5979-723f-46f8-d703-07972dfd83fd",
        "colab": {
          "base_uri": "https://localhost:8080/",
          "height": 87
        }
      },
      "cell_type": "code",
      "source": [
        "d1 = (np.log(67.58 / c) + (2.73263/100.0 + 0.5 * 0.2089062500000004 ** 2) \n",
        "          * T_1) / (0.2089062500000004 * np.sqrt(T_1)) #0.2089062500000004 is calibrated volatility\n",
        "data5=ss.norm.cdf(d1)\n",
        "data5"
      ],
      "execution_count": 45,
      "outputs": [
        {
          "output_type": "execute_result",
          "data": {
            "text/plain": [
              "array([1.        , 0.99999994, 0.99998891, 0.99988183, 0.99955218,\n",
              "       0.99856649, 0.99375863, 0.98286936, 0.96024258, 0.92016657,\n",
              "       0.85851283, 0.7747876 , 0.67301854, 0.56095346, 0.44798083,\n",
              "       0.34275949, 0.25148413, 0.17721687, 0.04970052])"
            ]
          },
          "metadata": {
            "tags": []
          },
          "execution_count": 45
        }
      ]
    },
    {
      "metadata": {
        "id": "4EzOXe4SzX_3",
        "colab_type": "code",
        "outputId": "2845e871-dbc2-4568-f02d-ffe27308d551",
        "colab": {
          "base_uri": "https://localhost:8080/",
          "height": 379
        }
      },
      "cell_type": "code",
      "source": [
        "plt.plot(data5,data3,label='put implied volatility')\n",
        "plt.ylabel('implied vol')\n",
        "plt.xlabel('delta')\n",
        "plt.legend()"
      ],
      "execution_count": 51,
      "outputs": [
        {
          "output_type": "execute_result",
          "data": {
            "text/plain": [
              "<matplotlib.legend.Legend at 0x7fda15a64908>"
            ]
          },
          "metadata": {
            "tags": []
          },
          "execution_count": 51
        },
        {
          "output_type": "display_data",
          "data": {
            "image/png": "[encoded data removed]",
            "text/plain": [
              "<Figure size 576x396 with 1 Axes>"
            ]
          },
          "metadata": {
            "tags": []
          }
        }
      ]
    },
    {
      "metadata": {
        "id": "DcNmMPebgRxV",
        "colab_type": "code",
        "colab": {}
      },
      "cell_type": "code",
      "source": [
        "\n",
        "'''==========\n",
        "define a method for error function\n",
        "============'''\n",
        "\n",
        "def error_function(vol, gbm, option_list):\n",
        "  gbm.vol_ratio = vol\n",
        "  err1 = 0\n",
        "  for i in np.arange(len(option_list)):\n",
        "    err1 = err1 + ((option_list[i]).market_price - gbm.bsm_price(option_list[i]))**2    \n",
        "  return err1"
      ],
      "execution_count": 0,
      "outputs": []
    },
    {
      "metadata": {
        "id": "PP3Yz3MhgR_9",
        "colab_type": "code",
        "colab": {}
      },
      "cell_type": "code",
      "source": [
        "'''==========\n",
        "define a method to seek for a calibrated volatility\n",
        "============'''\n",
        "\n",
        "def bsm_calibration(gbm, option_list):\n",
        "  init_vol = .1 #initial guess\n",
        "  return so.fmin(error_function, init_vol, args = (gbm, option_list), disp = 0)[0]"
      ],
      "execution_count": 0,
      "outputs": []
    },
    {
      "metadata": {
        "id": "E74foUiYgSMQ",
        "colab_type": "code",
        "colab": {
          "base_uri": "https://localhost:8080/",
          "height": 35
        },
        "outputId": "b06f6e44-6efa-4e83-b7cc-7065f843da2e"
      },
      "cell_type": "code",
      "source": [
        "\n",
        "# Take options of 2-mon maturity\n",
        "filter1 = list(filter(lambda x: x.maturity == T_1, option_list))\n",
        "calibrated_volatility1 = bsm_calibration(gbm1, filter1)\n",
        "print('>>>>>>>> calibrated_volatility is ' + str(calibrated_volatility1))"
      ],
      "execution_count": 44,
      "outputs": [
        {
          "output_type": "stream",
          "text": [
            ">>>>>>>> calibrated_volatility is 0.2089062500000004\n"
          ],
          "name": "stdout"
        }
      ]
    },
    {
      "metadata": {
        "id": "E69sBZXhggYx",
        "colab_type": "code",
        "colab": {
          "base_uri": "https://localhost:8080/",
          "height": 364
        },
        "outputId": "410a68ab-86c3-435c-ad49-3a247eba90af"
      },
      "cell_type": "code",
      "source": [
        "gbm1.vol_ratio = calibrated_volatility1\n",
        "\n",
        "#find calibrated option price\n",
        "filter1_calibrated_price = [gbm1.bsm_price(filter1[i]) for i in range(len(filter1))]\n",
        "print('>>>>>>>>> this is option price calculated from calibrated vol')\n",
        "filter1_calibrated_price"
      ],
      "execution_count": 47,
      "outputs": [
        {
          "output_type": "stream",
          "text": [
            ">>>>>>>>> this is option price calculated from calibrated vol\n"
          ],
          "name": "stdout"
        },
        {
          "output_type": "execute_result",
          "data": {
            "text/plain": [
              "[5.6005603443918855e-11,\n",
              " 9.87309450556089e-08,\n",
              " 2.1170348494409913e-05,\n",
              " 0.0002545327080778984,\n",
              " 0.0010478330156528555,\n",
              " 0.0036509081466810506,\n",
              " 0.018124343558196865,\n",
              " 0.05571903534017841,\n",
              " 0.14541235015208454,\n",
              " 0.32966944288319766,\n",
              " 0.6623259720995875,\n",
              " 1.1997021488238975,\n",
              " 1.988925525089833,\n",
              " 3.057900497826836,\n",
              " 4.41052282878087,\n",
              " 6.028165480225461,\n",
              " 7.875896699466573,\n",
              " 9.91061748380816,\n",
              " 16.723865050835656]"
            ]
          },
          "metadata": {
            "tags": []
          },
          "execution_count": 47
        }
      ]
    },
    {
      "metadata": {
        "id": "lAYZKSHHggjd",
        "colab_type": "code",
        "colab": {
          "base_uri": "https://localhost:8080/",
          "height": 361
        },
        "outputId": "880bba8f-de81-43ba-9004-0d9c7f815244"
      },
      "cell_type": "code",
      "source": [
        "\n",
        "x_co = [filter1[i].strike for i in range(len(filter1))]\n",
        "y_co = [filter1[i].market_price for i in range(len(filter1))]\n",
        "plt.plot(x_co, y_co, 'o', label='market price')\n",
        "\n",
        "y_co = filter1_calibrated_price\n",
        "plt.plot(x_co, y_co, label = 'calib price')\n",
        "\n",
        "plt.ylabel('option price')\n",
        "plt.xlabel('strike')\n",
        "plt.legend();"
      ],
      "execution_count": 48,
      "outputs": [
        {
          "output_type": "display_data",
          "data": {
            "image/png": "[encoded data removed]",
            "text/plain": [
              "<Figure size 576x396 with 1 Axes>"
            ]
          },
          "metadata": {
            "tags": []
          }
        }
      ]
    },
    {
      "metadata": {
        "id": "vi_x_mMTtf_j",
        "colab_type": "code",
        "colab": {
          "base_uri": "https://localhost:8080/",
          "height": 166
        },
        "outputId": "4c6a2029-a68c-4cd3-dab5-1d7d09f22699"
      },
      "cell_type": "code",
      "source": [
        "strike"
      ],
      "execution_count": 32,
      "outputs": [
        {
          "output_type": "error",
          "ename": "NameError",
          "evalue": "ignored",
          "traceback": [
            "\u001b[0;31m---------------------------------------------------------------------------\u001b[0m",
            "\u001b[0;31mNameError\u001b[0m                                 Traceback (most recent call last)",
            "\u001b[0;32m<ipython-input-32-e5926f5bb86a>\u001b[0m in \u001b[0;36m<module>\u001b[0;34m()\u001b[0m\n\u001b[0;32m----> 1\u001b[0;31m \u001b[0mstrike\u001b[0m\u001b[0;34m\u001b[0m\u001b[0;34m\u001b[0m\u001b[0m\n\u001b[0m",
            "\u001b[0;31mNameError\u001b[0m: name 'strike' is not defined"
          ]
        }
      ]
    }
  ]
}