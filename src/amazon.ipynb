{
  "nbformat": 4,
  "nbformat_minor": 0,
  "metadata": {
    "colab": {
      "name": "amazon.ipynb",
      "version": "0.3.2",
      "provenance": [],
      "collapsed_sections": [],
      "include_colab_link": true
    },
    "kernelspec": {
      "name": "python3",
      "display_name": "Python 3"
    }
  },
  "cells": [
    {
      "cell_type": "markdown",
      "metadata": {
        "id": "view-in-github",
        "colab_type": "text"
      },
      "source": [
        "<a href=\"https://colab.research.google.com/github/ZiyueNie/FM/blob/master/src/amazon.ipynb\" target=\"_parent\"><img src=\"https://colab.research.google.com/assets/colab-badge.svg\" alt=\"Open In Colab\"/></a>"
      ]
    },
    {
      "cell_type": "code",
      "metadata": {
        "id": "HYz2LwCvT09c",
        "colab_type": "code",
        "colab": {}
      },
      "source": [
        "import matplotlib.pyplot as plt\n",
        "import numpy as np\n",
        "import scipy.optimize as so\n",
        "import pandas as pd\n",
        "import math\n",
        "from scipy import stats"
      ],
      "execution_count": 0,
      "outputs": []
    },
    {
      "cell_type": "code",
      "metadata": {
        "id": "2hSaFcClU1Ye",
        "colab_type": "code",
        "outputId": "1107fa3d-a883-47b5-cf51-3d13e27043b2",
        "colab": {
          "base_uri": "https://localhost:8080/",
          "height": 140
        }
      },
      "source": [
        "!git clone https://github.com/ZiyueNie/19ma573ZiyueNie"
      ],
      "execution_count": 4,
      "outputs": [
        {
          "output_type": "stream",
          "text": [
            "Cloning into '19ma573ZiyueNie'...\n",
            "remote: Enumerating objects: 30, done.\u001b[K\n",
            "remote: Counting objects: 100% (30/30), done.\u001b[K\n",
            "remote: Compressing objects: 100% (30/30), done.\u001b[K\n",
            "remote: Total 529 (delta 7), reused 0 (delta 0), pack-reused 499\u001b[K\n",
            "Receiving objects: 100% (529/529), 814.27 KiB | 15.08 MiB/s, done.\n",
            "Resolving deltas: 100% (207/207), done.\n"
          ],
          "name": "stdout"
        }
      ]
    },
    {
      "cell_type": "code",
      "metadata": {
        "id": "S6O1R52jU4Y4",
        "colab_type": "code",
        "outputId": "004ea7a3-419f-4d3f-8185-b7902d0e172c",
        "colab": {
          "base_uri": "https://localhost:8080/",
          "height": 34
        }
      },
      "source": [
        "cd 19ma573ZiyueNie/src/\n"
      ],
      "execution_count": 5,
      "outputs": [
        {
          "output_type": "stream",
          "text": [
            "/content/19ma573ZiyueNie/src\n"
          ],
          "name": "stdout"
        }
      ]
    },
    {
      "cell_type": "code",
      "metadata": {
        "id": "ZjCc0-zSU8sI",
        "colab_type": "code",
        "colab": {}
      },
      "source": [
        ""
      ],
      "execution_count": 0,
      "outputs": []
    },
    {
      "cell_type": "code",
      "metadata": {
        "id": "Ex261f_FT6oj",
        "colab_type": "code",
        "outputId": "5022d832-0cde-4b4f-e8cc-3c8423ef9004",
        "colab": {
          "base_uri": "https://localhost:8080/",
          "height": 1000
        }
      },
      "source": [
        "'''======\n",
        "Read data\n",
        "========='''\n",
        "#Read two-column data\n",
        "#columns are date,adjusted closing price\n",
        "Data_A = pd.read_csv('AMAZON year 1.csv')\n",
        "\n",
        "print('>>>>>> data')\n",
        "print(Data_A)"
      ],
      "execution_count": 6,
      "outputs": [
        {
          "output_type": "stream",
          "text": [
            ">>>>>> data\n",
            "           Date    Adj Close\n",
            "0      2017/9/8   965.900024\n",
            "1     2017/9/11   977.960022\n",
            "2     2017/9/12   982.580017\n",
            "3     2017/9/13   999.599976\n",
            "4     2017/9/14   992.210022\n",
            "5     2017/9/15   986.789978\n",
            "6     2017/9/18   974.190002\n",
            "7     2017/9/19   969.859985\n",
            "8     2017/9/20   973.210022\n",
            "9     2017/9/21   964.650024\n",
            "10    2017/9/22   955.099976\n",
            "11    2017/9/25   939.789978\n",
            "12    2017/9/26   938.599976\n",
            "13    2017/9/27   950.869995\n",
            "14    2017/9/28   956.400024\n",
            "15    2017/9/29   961.349976\n",
            "16    2017/10/2   959.190002\n",
            "17    2017/10/3   957.099976\n",
            "18    2017/10/4   965.450012\n",
            "19    2017/10/5   980.849976\n",
            "20    2017/10/6   989.580017\n",
            "21    2017/10/9   990.989990\n",
            "22   2017/10/10   987.200012\n",
            "23   2017/10/11   995.000000\n",
            "24   2017/10/12  1000.929993\n",
            "25   2017/10/13  1002.940002\n",
            "26   2017/10/16  1006.340027\n",
            "27   2017/10/17  1009.130005\n",
            "28   2017/10/18   997.000000\n",
            "29   2017/10/19   986.609985\n",
            "..          ...          ...\n",
            "222   2018/7/27  1817.270020\n",
            "223   2018/7/30  1779.219971\n",
            "224   2018/7/31  1777.439941\n",
            "225    2018/8/1  1797.170044\n",
            "226    2018/8/2  1834.329956\n",
            "227    2018/8/3  1823.290039\n",
            "228    2018/8/6  1847.750000\n",
            "229    2018/8/7  1862.479980\n",
            "230    2018/8/8  1886.520020\n",
            "231    2018/8/9  1898.520020\n",
            "232   2018/8/10  1886.300049\n",
            "233   2018/8/13  1896.199951\n",
            "234   2018/8/14  1919.650024\n",
            "235   2018/8/15  1882.619995\n",
            "236   2018/8/16  1886.520020\n",
            "237   2018/8/17  1882.219971\n",
            "238   2018/8/20  1876.709961\n",
            "239   2018/8/21  1883.420044\n",
            "240   2018/8/22  1904.900024\n",
            "241   2018/8/23  1902.900024\n",
            "242   2018/8/24  1905.390015\n",
            "243   2018/8/27  1927.680054\n",
            "244   2018/8/28  1932.819946\n",
            "245   2018/8/29  1998.099976\n",
            "246   2018/8/30  2002.380005\n",
            "247   2018/8/31  2012.709961\n",
            "248    2018/9/4  2039.510010\n",
            "249    2018/9/5  1994.819946\n",
            "250    2018/9/6  1958.310059\n",
            "251    2018/9/7  1952.069946\n",
            "\n",
            "[252 rows x 2 columns]\n"
          ],
          "name": "stdout"
        }
      ]
    },
    {
      "cell_type": "markdown",
      "metadata": {
        "id": "BTGaDhiszPgW",
        "colab_type": "text"
      },
      "source": [
        "Problem3"
      ]
    },
    {
      "cell_type": "code",
      "metadata": {
        "id": "mbtr3h5QWOcL",
        "colab_type": "code",
        "outputId": "8c9a3d65-52f9-43d1-92de-303c01f92607",
        "colab": {
          "base_uri": "https://localhost:8080/",
          "height": 54
        }
      },
      "source": [
        "log_return=[]\n",
        "price = Data_A['Adj Close']\n",
        "log_price=np.log(price)\n",
        "for i in range(len(log_price)-1):\n",
        "  log_return.append(log_price[i+1]-log_price[i])\n",
        "print(log_return)\n"
      ],
      "execution_count": 7,
      "outputs": [
        {
          "output_type": "stream",
          "text": [
            "[0.012408457866161626, 0.004712990767658631, 0.017173392284830058, -0.007420374349124792, -0.00547757205843169, -0.012850870003573434, -0.004454642822253163, 0.003448193124559573, -0.008834542713898053, -0.009949344216038547, -0.016159599271635905, -0.0012670448504783494, 0.012987971940268572, 0.00579891094768481, 0.005162260975180466, -0.0022493412638615595, -0.002181326263480443, 0.008686472191874017, 0.015825191888836798, 0.00886110966029996, 0.001423805503678821, -0.0038317680640851393, 0.007870071851877825, 0.005942102647980008, 0.0020061278217955447, 0.0033843249284846166, 0.0027685648883783998, -0.012093087483393106, -0.010475960597156053, -0.0037572773383347524, -0.01704319943958854, 0.00988581415334, -0.003068594014668413, -0.0004934664563815971, 0.12413059165472795, 0.008952067494282012, -0.005026743662104316, -0.0014486230802548405, -0.00860834552180112, 0.01575864312394959, 0.008117430504196221, 0.0022372559059249397, 0.008607983640364303, -0.0033156382322596656, -0.003353352058167225, 0.0033888114737772312, 0.006769565233102348, -0.008968375456890776, 0.009364195401121655, -0.006536836886702702, -0.0031645817754935024, 0.011633930065704234, 0.014523413274444508, 0.02548210219070146, 0.008254167587236516, -0.0018665378026501145, -0.0274596793197599, 0.01324215025875386, -0.012312604051008869, -0.02473672783715486, 0.006697391214168569, 0.009398854122236955, 0.006435673126214958, 0.0019036705561479295, 0.005937624800591124, -0.0032905668080411843, -0.0008156852053495811, 0.008664139261878034, 0.004147201446875748, 0.009655174460627691, -0.002691342986429923, -0.008253755101817362, -0.0024315683716622516, -0.005462836670555582, 0.007163864486809501, 0.004662961669681387, 0.003242724406384845, -0.014119963891220166, 0.01657040658507558, 0.012694368844727855, 0.00446602574719801, 0.01603331894639748, 0.014321657002057009, 0.004664775699550816, 0.0013003476545137005, 0.01766147022433362, 0.022093247563542917, -0.0002605043640819815, -0.00758504867930565, -0.0012981812689281114, 0.0009737703522381125, 0.024968097929398247, 0.026196251381298552, -0.003698486897754094, 0.014944705255097723, 0.017338634360537952, 0.011086284511963918, 0.01410626927917047, 0.009049131525947551, -0.04287342443787079, 0.028335697216026468, -0.028335697216026468, 0.03730962282596284, -0.018226658431226284, -0.047911817286803604, -0.008103850228416754, 0.03421677371654397, 0.020195370701333815, 0.025504277630806094, 0.007353729935611675, -0.008981536931605305, 0.013479645973728083, 0.009873841616705015, 0.0016305327215198062, 0.00982142872140468, 0.01452726708499874, -0.006572338264222211, 0.0003107831984907605, -0.0126419732301839, 0.004542913990237096, 0.015450748270716907, 0.009166274060683932, 0.004775127130822732, 0.00443029149110874, 0.01726787616183767, 0.012274804018113095, -0.006408141492336483, 0.001774008827218232, -0.005470658991737487, -0.006746945061351539, -0.017166508469591335, 0.026558004674529734, -0.0029352811357306052, -0.023629202817523343, -0.032471399459991446, 0.03952767967998749, -0.03853190002988427, -0.04482954844612497, 0.01106037616005029, -0.05346513209957138, 0.014515282648540406, 0.013216323730410373, 0.028775885532360768, -0.03256874904680096, 0.0006046832581603212, 0.021208982560942502, -0.006405231282495372, 0.014919127467439175, -0.01230177168830604, 0.007457471557358097, 0.04233091986921966, 0.01583979300057603, 0.018848158584980013, -0.01907725070044375, -0.006324420626649285, -0.038803383854280504, 5.484306174530218e-05, 0.038814405041280864, 0.03537571263444317, -0.0041354037429410795, 0.010246599722891325, -0.007982399755516845, 0.001527743977352003, 0.005626345870789251, 0.012065233612247539, -0.004855093077092754, 0.009755129041853827, 0.0006713889958209762, -0.0038418112185665265, -0.0008550578428501154, -0.01599956319452467, 0.007055750277671358, -0.003483720315796468, -0.004682968378146413, 0.0070193723645948225, -0.002564015613862658, 0.012854898870594766, 0.0007550624091852143, 0.004406850152942177, 0.001687840366916049, 0.0074249327834214895, 0.002906725323189363, 0.00728799363956778, 0.014352435080839498, 0.01849158539751361, -0.00035374901123308433, -0.0038108498914102285, -0.0031482993306966023, 0.003041708677181454, 0.005685006184089403, 0.003590300645608835, 0.011082966617328438, -0.004587452250748747, 0.004546876206473094, 0.006355243221078055, 0.008780855111607089, -0.011412924740809238, -0.008444850767828527, -0.031090291515759816, 0.016659862329614583, -0.018248481218558155, 0.02435600977083663, -0.0009701739827487899, 0.00819084822397631, -0.011632513956070234, 0.0034004429751757215, 0.006392323487337315, 0.016460021029577554, 0.002326147724907912, 0.006820961523614777, 0.023438262188658854, 0.009092375684050857, 0.005204197639635311, 0.011695500314521823, -0.0005478986117788409, -0.016384925652364934, 0.0004025621440923999, -0.006471771438498308, 0.015003415392828678, 0.018614884276598964, -0.03029419688558921, 0.005114123997971731, -0.021160336249092637, -0.0010009560613957191, 0.011039136267029015, 0.020466038305780643, -0.006036685353351778, 0.013326099805933467, 0.007940239537658655, 0.012824950390299072, 0.006340773190540716, -0.006457381455036604, 0.005234593314244584, 0.012291032597591567, -0.019478469233826345, 0.002069451586486082, -0.0022819567687077935, -0.002931692820105525, 0.0035690734703264226, 0.011340229869271745, -0.0010504754234492708, 0.0013076689691819965, 0.011630515414840836, 0.0026628131263128907, 0.0332166685640507, 0.002139758555653515, 0.005145577747759589, 0.013227534513181816, -0.022155794191899503, -0.01847190711170299, -0.0031915661848138654]\n"
          ],
          "name": "stdout"
        }
      ]
    },
    {
      "cell_type": "code",
      "metadata": {
        "id": "gfgQBUIeWo-2",
        "colab_type": "code",
        "outputId": "762386b8-4d3f-4a93-cfe6-80ed066a9119",
        "colab": {
          "base_uri": "https://localhost:8080/",
          "height": 286
        }
      },
      "source": [
        "\n",
        "x = np.arange(-0.05, 0.125, 0.005)\n",
        "\n",
        "y = stats.norm.cdf(x, 0.0028031285, 0.0166207965)\n",
        "\n",
        "plt.plot(x, y)"
      ],
      "execution_count": 8,
      "outputs": [
        {
          "output_type": "execute_result",
          "data": {
            "text/plain": [
              "[<matplotlib.lines.Line2D at 0x7fd4785b3978>]"
            ]
          },
          "metadata": {
            "tags": []
          },
          "execution_count": 8
        },
        {
          "output_type": "display_data",
          "data": {
            "image/png": "[encoded data removed]",
            "text/plain": [
              "<Figure size 432x288 with 1 Axes>"
            ]
          },
          "metadata": {
            "tags": []
          }
        }
      ]
    },
    {
      "cell_type": "code",
      "metadata": {
        "id": "Eq7kYCcta8k1",
        "colab_type": "code",
        "outputId": "b3bdde6c-4dc9-4815-a940-c2cd2a3cb83e",
        "colab": {
          "base_uri": "https://localhost:8080/",
          "height": 286
        }
      },
      "source": [
        "sorted_ = np.sort(log_return)\n",
        "yvals = np.arange(len(sorted_))/float(len(sorted_))\n",
        "plt.plot(sorted_, yvals)"
      ],
      "execution_count": 9,
      "outputs": [
        {
          "output_type": "execute_result",
          "data": {
            "text/plain": [
              "[<matplotlib.lines.Line2D at 0x7fd475ccf898>]"
            ]
          },
          "metadata": {
            "tags": []
          },
          "execution_count": 9
        },
        {
          "output_type": "display_data",
          "data": {
            "image/png": "[encoded data removed]",
            "text/plain": [
              "<Figure size 432x288 with 1 Axes>"
            ]
          },
          "metadata": {
            "tags": []
          }
        }
      ]
    },
    {
      "cell_type": "code",
      "metadata": {
        "id": "Lu083opfcY9d",
        "colab_type": "code",
        "outputId": "fc63e349-4a6f-4146-a7c6-6ed0121cc3c9",
        "colab": {
          "base_uri": "https://localhost:8080/",
          "height": 286
        }
      },
      "source": [
        "x_label = stats.norm.ppf(yvals)\n",
        "plt.scatter(x_label, sorted_)"
      ],
      "execution_count": 10,
      "outputs": [
        {
          "output_type": "execute_result",
          "data": {
            "text/plain": [
              "<matplotlib.collections.PathCollection at 0x7fd475c3a400>"
            ]
          },
          "metadata": {
            "tags": []
          },
          "execution_count": 10
        },
        {
          "output_type": "display_data",
          "data": {
            "image/png": "[encoded data removed]",
            "text/plain": [
              "<Figure size 432x288 with 1 Axes>"
            ]
          },
          "metadata": {
            "tags": []
          }
        }
      ]
    },
    {
      "cell_type": "code",
      "metadata": {
        "id": "1vtNZN4Hduoa",
        "colab_type": "code",
        "outputId": "c657da2f-f896-4f39-a532-98abb3c27cff",
        "colab": {
          "base_uri": "https://localhost:8080/",
          "height": 312
        }
      },
      "source": [
        "stats.probplot(log_return, dist=\"norm\", plot=plt)\n",
        "print('QQ plot for normal distribution ')\n",
        "plt.show()"
      ],
      "execution_count": 11,
      "outputs": [
        {
          "output_type": "stream",
          "text": [
            "QQ plot for normal distribution \n"
          ],
          "name": "stdout"
        },
        {
          "output_type": "display_data",
          "data": {
            "image/png": "[encoded data removed]",
            "text/plain": [
              "<Figure size 432x288 with 1 Axes>"
            ]
          },
          "metadata": {
            "tags": []
          }
        }
      ]
    },
    {
      "cell_type": "code",
      "metadata": {
        "id": "hFfCx38kd1rb",
        "colab_type": "code",
        "outputId": "029fcfdb-280b-4c2d-e07b-085bfc66fef3",
        "colab": {
          "base_uri": "https://localhost:8080/",
          "height": 286
        }
      },
      "source": [
        "x = np.arange(-0.05, 0.125, 0.005)\n",
        "\n",
        "y = stats.logistic.cdf(x, 0.0030732843, 0.0081693432)\n",
        "\n",
        "plt.plot(x, y)"
      ],
      "execution_count": 12,
      "outputs": [
        {
          "output_type": "execute_result",
          "data": {
            "text/plain": [
              "[<matplotlib.lines.Line2D at 0x7fd475b86400>]"
            ]
          },
          "metadata": {
            "tags": []
          },
          "execution_count": 12
        },
        {
          "output_type": "display_data",
          "data": {
            "image/png": "[encoded data removed]",
            "text/plain": [
              "<Figure size 432x288 with 1 Axes>"
            ]
          },
          "metadata": {
            "tags": []
          }
        }
      ]
    },
    {
      "cell_type": "markdown",
      "metadata": {
        "id": "PEUK3wrkzaGp",
        "colab_type": "text"
      },
      "source": [
        "Problem4"
      ]
    },
    {
      "cell_type": "code",
      "metadata": {
        "id": "jedShZw_hceF",
        "colab_type": "code",
        "colab": {
          "base_uri": "https://localhost:8080/",
          "height": 286
        },
        "outputId": "e50cee63-6e17-43cb-ff9a-b8d127284ea3"
      },
      "source": [
        "sorted_ = np.sort(log_return)\n",
        "yvals = np.arange(len(sorted_))/float(len(sorted_))\n",
        "plt.plot(sorted_, yvals)"
      ],
      "execution_count": 13,
      "outputs": [
        {
          "output_type": "execute_result",
          "data": {
            "text/plain": [
              "[<matplotlib.lines.Line2D at 0x7fd475c16a90>]"
            ]
          },
          "metadata": {
            "tags": []
          },
          "execution_count": 13
        },
        {
          "output_type": "display_data",
          "data": {
            "image/png": "[encoded data removed]",
            "text/plain": [
              "<Figure size 432x288 with 1 Axes>"
            ]
          },
          "metadata": {
            "tags": []
          }
        }
      ]
    },
    {
      "cell_type": "code",
      "metadata": {
        "id": "OPKOpZNDgmEg",
        "colab_type": "code",
        "outputId": "ed1107c3-4d33-4d1c-ca7e-20496b1f9204",
        "colab": {
          "base_uri": "https://localhost:8080/",
          "height": 286
        }
      },
      "source": [
        "x_label = stats.logistic.ppf(yvals)\n",
        "plt.scatter(x_label, sorted_)"
      ],
      "execution_count": 14,
      "outputs": [
        {
          "output_type": "execute_result",
          "data": {
            "text/plain": [
              "<matplotlib.collections.PathCollection at 0x7fd475b63400>"
            ]
          },
          "metadata": {
            "tags": []
          },
          "execution_count": 14
        },
        {
          "output_type": "display_data",
          "data": {
            "image/png": "[encoded data removed]",
            "text/plain": [
              "<Figure size 432x288 with 1 Axes>"
            ]
          },
          "metadata": {
            "tags": []
          }
        }
      ]
    },
    {
      "cell_type": "code",
      "metadata": {
        "id": "XZbr5VxPllBY",
        "colab_type": "code",
        "outputId": "f4d5e032-c95d-4c58-be7c-e605c8161fe2",
        "colab": {
          "base_uri": "https://localhost:8080/",
          "height": 312
        }
      },
      "source": [
        "stats.probplot(log_return, dist=\"logistic\", plot=plt)\n",
        "print('QQ plot for logistic distribution')\n",
        "plt.show()"
      ],
      "execution_count": 15,
      "outputs": [
        {
          "output_type": "stream",
          "text": [
            "QQ plot for logistic distribution\n"
          ],
          "name": "stdout"
        },
        {
          "output_type": "display_data",
          "data": {
            "image/png": "[encoded data removed]",
            "text/plain": [
              "<Figure size 432x288 with 1 Axes>"
            ]
          },
          "metadata": {
            "tags": []
          }
        }
      ]
    },
    {
      "cell_type": "markdown",
      "metadata": {
        "id": "k6vHyzC0el5s",
        "colab_type": "text"
      },
      "source": [
        "problem7"
      ]
    },
    {
      "cell_type": "code",
      "metadata": {
        "id": "s_x62jqKeldz",
        "colab_type": "code",
        "colab": {
          "base_uri": "https://localhost:8080/",
          "height": 324
        },
        "outputId": "8b892dd1-6f81-4912-cc57-4222a9a3b106"
      },
      "source": [
        "import seaborn as sns\n",
        "plt.rcParams['font.sans-serif']=['SimHei']\n",
        "plt.rcParams['axes.unicode_minus']=False\n",
        "sns.distplot(log_return)\n",
        "plt.show()"
      ],
      "execution_count": 16,
      "outputs": [
        {
          "output_type": "stream",
          "text": [
            "/usr/local/lib/python3.6/dist-packages/matplotlib/font_manager.py:1241: UserWarning: findfont: Font family ['sans-serif'] not found. Falling back to DejaVu Sans.\n",
            "  (prop.get_family(), self.defaultFamily[fontext]))\n"
          ],
          "name": "stderr"
        },
        {
          "output_type": "display_data",
          "data": {
            "image/png": "[encoded data removed]",
            "text/plain": [
              "<Figure size 432x288 with 1 Axes>"
            ]
          },
          "metadata": {
            "tags": []
          }
        }
      ]
    },
    {
      "cell_type": "code",
      "metadata": {
        "id": "73Db6cp6j7jL",
        "colab_type": "code",
        "colab": {
          "base_uri": "https://localhost:8080/",
          "height": 286
        },
        "outputId": "9561f935-50b7-4b8a-d2f8-9edeedf4b655"
      },
      "source": [
        "x=np.linspace(1,251,251)\n",
        "y=log_return\n",
        "plt.scatter(x,y)\n"
      ],
      "execution_count": 17,
      "outputs": [
        {
          "output_type": "execute_result",
          "data": {
            "text/plain": [
              "<matplotlib.collections.PathCollection at 0x7fd474805a90>"
            ]
          },
          "metadata": {
            "tags": []
          },
          "execution_count": 17
        },
        {
          "output_type": "display_data",
          "data": {
            "image/png": "[encoded data removed]",
            "text/plain": [
              "<Figure size 432x288 with 1 Axes>"
            ]
          },
          "metadata": {
            "tags": []
          }
        }
      ]
    },
    {
      "cell_type": "code",
      "metadata": {
        "id": "c-yNnCNqtLfp",
        "colab_type": "code",
        "colab": {
          "base_uri": "https://localhost:8080/",
          "height": 122
        },
        "outputId": "294b9201-0363-4d34-e5be-6748ea301b27"
      },
      "source": [
        "out=log_return-np.mean(log_return)\n",
        "sort_out=np.sort(out)\n",
        "for i in [0,1,2,248,249,250]:\n",
        "  print(sort_out[i])"
      ],
      "execution_count": 18,
      "outputs": [
        {
          "output_type": "stream",
          "text": [
            "-0.056268260646544735\n",
            "-0.05071494583377696\n",
            "-0.047632676993098325\n",
            "0.036724551133014136\n",
            "0.039527791322246306\n",
            "0.1213274631077546\n"
          ],
          "name": "stdout"
        }
      ]
    },
    {
      "cell_type": "code",
      "metadata": {
        "id": "_ghVV8OguDKZ",
        "colab_type": "code",
        "colab": {
          "base_uri": "https://localhost:8080/",
          "height": 70
        },
        "outputId": "d2098d81-b89f-4ad2-db2e-f116db0783c5"
      },
      "source": [
        "x1=0.1213274631077546+np.mean(log_return)\n",
        "y1 = 1-stats.logistic.cdf(x1, 0.0030732843, 0.0081693432)\n",
        "print(y1)\n",
        "x2=np.mean(log_return)-0.056268260646544735\n",
        "y2 = stats.logistic.cdf(x2, 0.0030732843, 0.0081693432)\n",
        "print(y2)\n",
        "x3=np.mean(log_return)-0.05071494583377696\n",
        "y3 = stats.logistic.cdf(x3, 0.0030732843, 0.0081693432)\n",
        "print(y3)"
      ],
      "execution_count": 19,
      "outputs": [
        {
          "output_type": "stream",
          "text": [
            "3.667859023170905e-07\n",
            "0.0009860635724299688\n",
            "0.0019440648901872242\n"
          ],
          "name": "stdout"
        }
      ]
    },
    {
      "cell_type": "code",
      "metadata": {
        "id": "ybMnWXLOgc01",
        "colab_type": "code",
        "colab": {}
      },
      "source": [
        ""
      ],
      "execution_count": 0,
      "outputs": []
    },
    {
      "cell_type": "markdown",
      "metadata": {
        "id": "eIUkM_z0zwWe",
        "colab_type": "text"
      },
      "source": [
        "Problem8"
      ]
    },
    {
      "cell_type": "code",
      "metadata": {
        "id": "EknYQC6EzF4E",
        "colab_type": "code",
        "outputId": "13907305-6881-42d4-fd5c-28c99d82efa4",
        "colab": {
          "base_uri": "https://localhost:8080/",
          "height": 52
        }
      },
      "source": [
        "mean=np.mean(log_return)\n",
        "print(mean)\n",
        "std=np.std(log_return)\n",
        "print(std)\n"
      ],
      "execution_count": 21,
      "outputs": [
        {
          "output_type": "stream",
          "text": [
            "0.002803128546973354\n",
            "0.01662079654225133\n"
          ],
          "name": "stdout"
        }
      ]
    },
    {
      "cell_type": "code",
      "metadata": {
        "id": "A-QwsTCJz9Aq",
        "colab_type": "code",
        "colab": {
          "base_uri": "https://localhost:8080/",
          "height": 34
        },
        "outputId": "33cca010-6647-40fe-e023-9a4404fe64a1"
      },
      "source": [
        "from scipy.stats import kstest\n",
        "sorted= np.sort(log_return)\n",
        "kstest(sorted, 'norm',(0.002803128546973354, 0.01662079654225133))"
      ],
      "execution_count": 22,
      "outputs": [
        {
          "output_type": "execute_result",
          "data": {
            "text/plain": [
              "KstestResult(statistic=0.0995187981015, pvalue=0.012884202437288305)"
            ]
          },
          "metadata": {
            "tags": []
          },
          "execution_count": 22
        }
      ]
    },
    {
      "cell_type": "markdown",
      "metadata": {
        "id": "HcyFciL3neiz",
        "colab_type": "text"
      },
      "source": [
        "If we choose alpha=0.05,since p-value=0.013<0.05, then we reject that the data is normal distribution"
      ]
    },
    {
      "cell_type": "code",
      "metadata": {
        "id": "X97Hky3e_2lv",
        "colab_type": "code",
        "colab": {
          "base_uri": "https://localhost:8080/",
          "height": 34
        },
        "outputId": "9a21759c-08a2-4c9c-97e1-36c6075ee628"
      },
      "source": [
        "from scipy.stats import kstest\n",
        "sorted= np.sort(log_return)\n",
        "kstest(sorted, 'logistic',(0.0030732843, 0.0081693432))"
      ],
      "execution_count": 23,
      "outputs": [
        {
          "output_type": "execute_result",
          "data": {
            "text/plain": [
              "KstestResult(statistic=0.04892487163517811, pvalue=0.5823628886373462)"
            ]
          },
          "metadata": {
            "tags": []
          },
          "execution_count": 23
        }
      ]
    },
    {
      "cell_type": "markdown",
      "metadata": {
        "id": "KwKmwc7nBFJm",
        "colab_type": "text"
      },
      "source": [
        "If we choose alpha=0.05,since p-value=0.58>0.05, then we cannot reject that the data is logistic distribution"
      ]
    },
    {
      "cell_type": "markdown",
      "metadata": {
        "id": "DCFQR4kaNUnT",
        "colab_type": "text"
      },
      "source": [
        "problem 9"
      ]
    },
    {
      "cell_type": "code",
      "metadata": {
        "id": "djq_oDOxNTCs",
        "colab_type": "code",
        "colab": {
          "base_uri": "https://localhost:8080/",
          "height": 1000
        },
        "outputId": "fd5f1f11-ae72-41b1-aa3d-8611f6552a5e"
      },
      "source": [
        "'''======\n",
        "Read data\n",
        "========='''\n",
        "#Read two-column data\n",
        "#columns are date,adjusted closing price\n",
        "Data_B = pd.read_csv('Amazon Year 2.csv')\n",
        "\n",
        "print('>>>>>> data')\n",
        "print(Data_B)"
      ],
      "execution_count": 24,
      "outputs": [
        {
          "output_type": "stream",
          "text": [
            ">>>>>> data\n",
            "           Date    Adj Close\n",
            "0     2018/9/10  1939.010010\n",
            "1     2018/9/11  1987.150024\n",
            "2     2018/9/12  1990.000000\n",
            "3     2018/9/13  1989.869995\n",
            "4     2018/9/14  1970.189941\n",
            "5     2018/9/17  1908.030029\n",
            "6     2018/9/18  1941.050049\n",
            "7     2018/9/19  1926.420044\n",
            "8     2018/9/20  1944.300049\n",
            "9     2018/9/21  1915.010010\n",
            "10    2018/9/24  1934.359985\n",
            "11    2018/9/25  1974.550049\n",
            "12    2018/9/26  1974.849976\n",
            "13    2018/9/27  2012.979980\n",
            "14    2018/9/28  2003.000000\n",
            "15    2018/10/1  2004.359985\n",
            "16    2018/10/2  1971.310059\n",
            "17    2018/10/3  1952.760010\n",
            "18    2018/10/4  1909.420044\n",
            "19    2018/10/5  1889.650024\n",
            "20    2018/10/8  1864.420044\n",
            "21    2018/10/9  1870.319946\n",
            "22   2018/10/10  1755.250000\n",
            "23   2018/10/11  1719.359985\n",
            "24   2018/10/12  1788.609985\n",
            "25   2018/10/15  1760.949951\n",
            "26   2018/10/16  1819.959961\n",
            "27   2018/10/17  1831.729980\n",
            "28   2018/10/18  1770.719971\n",
            "29   2018/10/19  1764.030029\n",
            "..          ...          ...\n",
            "220   2019/7/26  1943.050049\n",
            "221   2019/7/29  1912.449951\n",
            "222   2019/7/30  1898.530029\n",
            "223   2019/7/31  1866.780029\n",
            "224    2019/8/1  1855.319946\n",
            "225    2019/8/2  1823.239990\n",
            "226    2019/8/5  1765.130005\n",
            "227    2019/8/6  1787.829956\n",
            "228    2019/8/7  1793.400024\n",
            "229    2019/8/8  1832.890015\n",
            "230    2019/8/9  1807.579956\n",
            "231   2019/8/12  1784.920044\n",
            "232   2019/8/13  1824.339966\n",
            "233   2019/8/14  1762.959961\n",
            "234   2019/8/15  1776.119995\n",
            "235   2019/8/16  1792.569946\n",
            "236   2019/8/19  1816.119995\n",
            "237   2019/8/20  1801.380005\n",
            "238   2019/8/21  1823.540039\n",
            "239   2019/8/22  1804.660034\n",
            "240   2019/8/23  1749.619995\n",
            "241   2019/8/26  1768.869995\n",
            "242   2019/8/27  1761.829956\n",
            "243   2019/8/28  1764.250000\n",
            "244   2019/8/29  1786.400024\n",
            "245   2019/8/30  1776.290039\n",
            "246    2019/9/3  1789.839966\n",
            "247    2019/9/4  1800.619995\n",
            "248    2019/9/5  1840.719971\n",
            "249    2019/9/6  1833.510010\n",
            "\n",
            "[250 rows x 2 columns]\n"
          ],
          "name": "stdout"
        }
      ]
    },
    {
      "cell_type": "code",
      "metadata": {
        "id": "JtV3Uy1QNtnX",
        "colab_type": "code",
        "colab": {
          "base_uri": "https://localhost:8080/",
          "height": 54
        },
        "outputId": "edc3e29f-3a87-4848-e1a8-669f54821c1f"
      },
      "source": [
        "log_return_2=[]\n",
        "price_2 = Data_B['Adj Close']\n",
        "log_price_2=np.log(price_2)\n",
        "for i in range(len(log_price_2)-1):\n",
        "  log_return_2.append(log_price_2[i+1]-log_price_2[i])\n",
        "print(log_return_2)\n"
      ],
      "execution_count": 25,
      "outputs": [
        {
          "output_type": "stream",
          "text": [
            "[0.024523924785418316, 0.001433175248919838, -6.533127977004227e-05, -0.009939352603261398, -0.03205864348152154, 0.017157777644881023, -0.007565708038162811, 0.009238659342948097, -0.015179190548519905, 0.010053664890611103, 0.020564034442672074, 0.00015188484259809343, 0.01912376730413179, -0.004970144569326429, 0.0006787436403525859, -0.01662647402316697, -0.009454564701523616, -0.02244420753415266, -0.010407914626953563, -0.01344160306775688, 0.0031594739787328407, -0.06349821343399142, -0.020659177081078006, 0.0394866536587708, -0.01558536516636888, 0.03296109306961803, 0.0064463631629854135, -0.03387463740232999, -0.0037852464744823067, 0.014223528618352965, -0.011579723546041976, -0.06090028771403233, 0.06848724957559593, -0.08142352145214904, -0.0653533438077849, -0.005512646068656757, 0.0432168751169435, 0.04138429710550895, 0.0, -0.022913968497291215, 0.009178786151280427, 0.06633978836685106, -0.0003304216051223108, -0.024504146985264263, -0.04513979744459373, -0.0034760727807627845, -0.01991288172034622, 0.012695680044013002, -0.016203978868477797, -0.052251311073580275, -0.011191258352939215, 0.014122862734554431, -0.009719149917228442, 0.051428698713446686, 5.69681448263637e-05, 0.05913040463677266, -0.002494573024970137, 0.00987010459359361, 0.047482841731389946, -0.06044688563053224, 0.018286534477635286, -0.04210549913796502, 0.0072779780829623775, 0.0013457854078753329, 0.012277988761886682, -0.0031066600530751387, -0.0409066507461775, -0.04562571223498235, 0.019900438897556327, -0.03702961349463685, -0.02317495046671958, -0.05877080904752763, -0.024613477437943843, 0.09025402392512039, -0.006315371421326432, 0.011144264527427339, 0.016074192699853107, 0.024439764507596884, -0.025565548288750684, 0.04885109350962935, 0.03377649207112743, 0.01647584736270513, 0.0017129606118553298, -0.0019302903687679063, -0.009500196942344274, -0.014335264751868415, 0.03484806125800333, 0.0054908037439584945, 0.005590741242637698, 0.0017584016359224464, -0.03847998131577235, 0.004798004337084549, 0.009050295413120857, 0.009406108742322061, -0.01975601596727028, -0.02723753890433489, 0.04690981227951774, 0.02850452372287826, -0.05532119412646441, 0.0043442265166664384, 0.015491846638780338, -0.011245741441417323, -0.01590998736031146, -0.016330910579476665, 0.0017488753429670822, 0.02911934716766673, 0.0012141453127902935, -0.010635611799650668, -0.009100584764074604, 0.012134176732058854, -0.0033726307261439104, -0.001641217239459536, 0.007456274470922786, 0.000882165478568453, 0.0020799077511188813, 0.002861912753605367, -0.0007680833984977653, 0.019266455310887665, 0.014513787730844108, -0.00220739621699817, -0.013970741106836826, -0.026102426603364037, -0.003172345464821369, 0.030274927277519126, 0.0014833667150657703, 0.010529560210740918, -0.0027184187205184784, 0.015383207000649435, 0.017247469193524267, 0.01124438331340194, 0.019904478325660335, 0.012160972437030182, -0.03040944888518471, 0.005363058615373006, 0.005340061338586111, -0.010176316990532008, 0.004362725906923437, 0.004124713393820478, 0.018604430714352027, -0.00011573934231634553, 0.0036977003666942565, -0.0010110926535658038, 0.010076309868455091, 0.006823719612342849, -0.00760782853105102, 0.006239205638910228, -0.0017662734648506984, -0.0005477902997093054, 0.000981545809606743, 0.009800771473400971, 0.0009549216668096605, -0.0016798590804620872, 0.013667920429084823, 0.019134246790409648, -0.011512297979162867, 0.00026288117922135257, 0.02511500380940035, -0.006274004944084588, -0.006163118007317614, -0.007816529382838944, -0.0056134039420907555, 0.031913424820522174, -0.006087359218245325, -0.015265525423420634, -0.0016828206667325318, -0.00937760297250989, -0.005219223724321154, -0.03625826134036281, 0.009522809085929396, 0.016722443767874573, 0.019276924506289816, -0.020426623969161284, -0.005380973172815828, -0.0007802798215932327, 0.0011621834714974355, -0.024054574404277496, 0.004287208240103091, 0.007186406188202987, -0.009432184329257076, -0.0015788682662991604, -0.022972618030828507, -0.04752088372984886, 0.02154813039528669, 0.0051555974521830805, 0.009081437028114259, 0.027918957795138866, 0.03089207545158512, 0.0016485900720795144, -0.004506573997821839, 0.008041713190947597, -0.00033690376676442924, 0.008712137902716854, 0.008100570198961599, 0.0038948775453011564, 0.004912448433196381, -0.003598337873818025, 0.0013593931563145034, -0.018791906533423663, 0.010359953957324919, 0.003392894583835293, -0.00560837503785816, 0.014969505755467516, 0.006285573916185783, 0.0024216720172525186, 0.002014490437981742, 0.004831514623453437, 0.018261645604116694, 0.014534500428723618, -0.00813251684188554, 0.004950100277610225, 0.004955374625135178, -0.005502503885188581, -0.008930747682482476, -0.0071185459086713365, -0.0067877370865909725, 0.010688295802683712, 0.004452126893624175, 0.0031637545086136143, -0.01358140397244334, -0.015711795400950024, -0.01587381171988067, -0.007305199175610788, -0.016864880738312493, -0.006157878235566017, -0.01744202614381951, -0.032390787774559726, 0.012778224423980689, 0.0031107035977351316, 0.02178069141135186, -0.013905054572502351, -0.012615288806018476, 0.02184463820201632, -0.034224066715581536, 0.007437014602357905, 0.009219107168867424, 0.013052040329290193, -0.00814931393232321, 0.012226647644988375, -0.010407461019706687, -0.030973608589358825, 0.010942303162787326, -0.003987905190324881, 0.001372654284747199, 0.012476764079849545, -0.005675493494592843, 0.007599269902512695, 0.006004835875801362, 0.02202573641206218, -0.003924615656413444]\n"
          ],
          "name": "stdout"
        }
      ]
    },
    {
      "cell_type": "code",
      "metadata": {
        "id": "6nN4uRf2Nq1D",
        "colab_type": "code",
        "colab": {
          "base_uri": "https://localhost:8080/",
          "height": 34
        },
        "outputId": "50556fc8-193c-471a-83d0-7fa8e5869223"
      },
      "source": [
        "\n",
        "sorted_2= np.sort(log_return_2)\n",
        "kstest(sorted_2, 'norm',(0.002803128546973354, 0.01662079654225133))"
      ],
      "execution_count": 26,
      "outputs": [
        {
          "output_type": "execute_result",
          "data": {
            "text/plain": [
              "KstestResult(statistic=0.07998877218326361, pvalue=0.0782177581594927)"
            ]
          },
          "metadata": {
            "tags": []
          },
          "execution_count": 26
        }
      ]
    },
    {
      "cell_type": "markdown",
      "metadata": {
        "id": "fGWk7cRYTrHQ",
        "colab_type": "text"
      },
      "source": [
        "If we choose alpha=0.05,since p-value=0.078>0.05, then we cannot reject that the data is normal distribution"
      ]
    },
    {
      "cell_type": "code",
      "metadata": {
        "id": "sc8HHoZOPpRm",
        "colab_type": "code",
        "colab": {
          "base_uri": "https://localhost:8080/",
          "height": 34
        },
        "outputId": "d0c77013-63a3-49c1-dd7e-99a88924a6e8"
      },
      "source": [
        "\n",
        "kstest(sorted_2, 'logistic',(0.0030732843, 0.0081693432))"
      ],
      "execution_count": 27,
      "outputs": [
        {
          "output_type": "execute_result",
          "data": {
            "text/plain": [
              "KstestResult(statistic=0.09605565243808138, pvalue=0.01884922925186299)"
            ]
          },
          "metadata": {
            "tags": []
          },
          "execution_count": 27
        }
      ]
    },
    {
      "cell_type": "markdown",
      "metadata": {
        "id": "Oaai8vLnTy2b",
        "colab_type": "text"
      },
      "source": [
        "If we choose alpha=0.05,since p-value=0.0188<0.05, then we reject that the data is logistic distribution"
      ]
    },
    {
      "cell_type": "code",
      "metadata": {
        "id": "rKMAbKJ2f-8v",
        "colab_type": "code",
        "colab": {
          "base_uri": "https://localhost:8080/",
          "height": 122
        },
        "outputId": "80c68e27-9cdb-4f30-c0e3-6ec7d512c6c1"
      },
      "source": [
        "out_2=log_return_2-np.mean(log_return_2)\n",
        "sort_out_2=np.sort(out_2)\n",
        "for i in [0,1,2,246,247,248]:\n",
        "  print(sort_out_2[i])"
      ],
      "execution_count": 30,
      "outputs": [
        {
          "output_type": "stream",
          "text": [
            "-0.08119884124859868\n",
            "-0.06512866360423454\n",
            "-0.06327353323044106\n",
            "0.06656446857040142\n",
            "0.0687119297791463\n",
            "0.09047870412867075\n"
          ],
          "name": "stdout"
        }
      ]
    },
    {
      "cell_type": "code",
      "metadata": {
        "id": "RdEhYaBtgfIN",
        "colab_type": "code",
        "colab": {
          "base_uri": "https://localhost:8080/",
          "height": 70
        },
        "outputId": "793087a7-6161-48ed-8a5c-0e8be187510f"
      },
      "source": [
        "x1=np.mean(log_return_2)+0.09047870412867075\n",
        "y1 = 1-stats.norm.cdf(x1, 0.0028031285, 0.0166207965)\n",
        "print(y1)\n",
        "x2=np.mean(log_return_2)-0.08119884124859868\n",
        "y2 = stats.norm.cdf(x2, 0.0028031285, 0.0166207965)\n",
        "print(y2)\n",
        "x3=np.mean(log_return_2)+0.0687119297791463\n",
        "y3 = 1-stats.norm.cdf(x3, 0.0028031285, 0.0166207965)\n",
        "print(y3)"
      ],
      "execution_count": 31,
      "outputs": [
        {
          "output_type": "stream",
          "text": [
            "7.14290094849801e-08\n",
            "2.0148862450904269e-07\n",
            "3.87627162448112e-05\n"
          ],
          "name": "stdout"
        }
      ]
    }
  ]
}