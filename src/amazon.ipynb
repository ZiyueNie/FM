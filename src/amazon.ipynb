{
  "nbformat": 4,
  "nbformat_minor": 0,
  "metadata": {
    "colab": {
      "name": "Untitled22.ipynb",
      "version": "0.3.2",
      "provenance": [],
      "include_colab_link": true
    },
    "kernelspec": {
      "name": "python3",
      "display_name": "Python 3"
    }
  },
  "cells": [
    {
      "cell_type": "markdown",
      "metadata": {
        "id": "view-in-github",
        "colab_type": "text"
      },
      "source": [
        "<a href=\"https://colab.research.google.com/github/ZiyueNie/FM/blob/master/src/amazon.ipynb\" target=\"_parent\"><img src=\"https://colab.research.google.com/assets/colab-badge.svg\" alt=\"Open In Colab\"/></a>"
      ]
    },
    {
      "cell_type": "code",
      "metadata": {
        "id": "HYz2LwCvT09c",
        "colab_type": "code",
        "colab": {}
      },
      "source": [
        "import matplotlib.pyplot as plt\n",
        "import numpy as np\n",
        "import scipy.optimize as so\n",
        "import pandas as pd\n",
        "import math\n",
        "from scipy import stats"
      ],
      "execution_count": 0,
      "outputs": []
    },
    {
      "cell_type": "code",
      "metadata": {
        "id": "2hSaFcClU1Ye",
        "colab_type": "code",
        "colab": {
          "base_uri": "https://localhost:8080/",
          "height": 140
        },
        "outputId": "4b16ac38-f82e-4c8e-f969-d5d94b611ff2"
      },
      "source": [
        "!git clone https://github.com/ZiyueNie/19ma573ZiyueNie"
      ],
      "execution_count": 3,
      "outputs": [
        {
          "output_type": "stream",
          "text": [
            "Cloning into '19ma573ZiyueNie'...\n",
            "remote: Enumerating objects: 19, done.\u001b[K\n",
            "remote: Counting objects: 100% (19/19), done.\u001b[K\n",
            "remote: Compressing objects: 100% (19/19), done.\u001b[K\n",
            "remote: Total 518 (delta 5), reused 0 (delta 0), pack-reused 499\u001b[K\n",
            "Receiving objects: 100% (518/518), 805.41 KiB | 16.11 MiB/s, done.\n",
            "Resolving deltas: 100% (205/205), done.\n"
          ],
          "name": "stdout"
        }
      ]
    },
    {
      "cell_type": "code",
      "metadata": {
        "id": "S6O1R52jU4Y4",
        "colab_type": "code",
        "colab": {
          "base_uri": "https://localhost:8080/",
          "height": 34
        },
        "outputId": "f345db04-4fcc-406a-9d65-e8c704df5d70"
      },
      "source": [
        "cd 19ma573ZiyueNie/src/\n"
      ],
      "execution_count": 4,
      "outputs": [
        {
          "output_type": "stream",
          "text": [
            "/content/19ma573ZiyueNie/src\n"
          ],
          "name": "stdout"
        }
      ]
    },
    {
      "cell_type": "code",
      "metadata": {
        "id": "ZjCc0-zSU8sI",
        "colab_type": "code",
        "colab": {}
      },
      "source": [
        ""
      ],
      "execution_count": 0,
      "outputs": []
    },
    {
      "cell_type": "code",
      "metadata": {
        "id": "Ex261f_FT6oj",
        "colab_type": "code",
        "colab": {
          "base_uri": "https://localhost:8080/",
          "height": 1000
        },
        "outputId": "8ea800c9-e774-439e-8ec8-a05cd17525ce"
      },
      "source": [
        "'''======\n",
        "Read data\n",
        "========='''\n",
        "#Read two-column data\n",
        "#columns are date,adjusted closing price\n",
        "Data_A = pd.read_csv('AMAZON year 1.csv')\n",
        "\n",
        "print('>>>>>> data')\n",
        "print(Data_A)"
      ],
      "execution_count": 5,
      "outputs": [
        {
          "output_type": "stream",
          "text": [
            ">>>>>> data\n",
            "           Date    Adj Close\n",
            "0      2017/9/8   965.900024\n",
            "1     2017/9/11   977.960022\n",
            "2     2017/9/12   982.580017\n",
            "3     2017/9/13   999.599976\n",
            "4     2017/9/14   992.210022\n",
            "5     2017/9/15   986.789978\n",
            "6     2017/9/18   974.190002\n",
            "7     2017/9/19   969.859985\n",
            "8     2017/9/20   973.210022\n",
            "9     2017/9/21   964.650024\n",
            "10    2017/9/22   955.099976\n",
            "11    2017/9/25   939.789978\n",
            "12    2017/9/26   938.599976\n",
            "13    2017/9/27   950.869995\n",
            "14    2017/9/28   956.400024\n",
            "15    2017/9/29   961.349976\n",
            "16    2017/10/2   959.190002\n",
            "17    2017/10/3   957.099976\n",
            "18    2017/10/4   965.450012\n",
            "19    2017/10/5   980.849976\n",
            "20    2017/10/6   989.580017\n",
            "21    2017/10/9   990.989990\n",
            "22   2017/10/10   987.200012\n",
            "23   2017/10/11   995.000000\n",
            "24   2017/10/12  1000.929993\n",
            "25   2017/10/13  1002.940002\n",
            "26   2017/10/16  1006.340027\n",
            "27   2017/10/17  1009.130005\n",
            "28   2017/10/18   997.000000\n",
            "29   2017/10/19   986.609985\n",
            "..          ...          ...\n",
            "222   2018/7/27  1817.270020\n",
            "223   2018/7/30  1779.219971\n",
            "224   2018/7/31  1777.439941\n",
            "225    2018/8/1  1797.170044\n",
            "226    2018/8/2  1834.329956\n",
            "227    2018/8/3  1823.290039\n",
            "228    2018/8/6  1847.750000\n",
            "229    2018/8/7  1862.479980\n",
            "230    2018/8/8  1886.520020\n",
            "231    2018/8/9  1898.520020\n",
            "232   2018/8/10  1886.300049\n",
            "233   2018/8/13  1896.199951\n",
            "234   2018/8/14  1919.650024\n",
            "235   2018/8/15  1882.619995\n",
            "236   2018/8/16  1886.520020\n",
            "237   2018/8/17  1882.219971\n",
            "238   2018/8/20  1876.709961\n",
            "239   2018/8/21  1883.420044\n",
            "240   2018/8/22  1904.900024\n",
            "241   2018/8/23  1902.900024\n",
            "242   2018/8/24  1905.390015\n",
            "243   2018/8/27  1927.680054\n",
            "244   2018/8/28  1932.819946\n",
            "245   2018/8/29  1998.099976\n",
            "246   2018/8/30  2002.380005\n",
            "247   2018/8/31  2012.709961\n",
            "248    2018/9/4  2039.510010\n",
            "249    2018/9/5  1994.819946\n",
            "250    2018/9/6  1958.310059\n",
            "251    2018/9/7  1952.069946\n",
            "\n",
            "[252 rows x 2 columns]\n"
          ],
          "name": "stdout"
        }
      ]
    },
    {
      "cell_type": "markdown",
      "metadata": {
        "id": "BTGaDhiszPgW",
        "colab_type": "text"
      },
      "source": [
        "Problem3"
      ]
    },
    {
      "cell_type": "code",
      "metadata": {
        "id": "mbtr3h5QWOcL",
        "colab_type": "code",
        "colab": {
          "base_uri": "https://localhost:8080/",
          "height": 54
        },
        "outputId": "b700382a-e64d-48f1-86ac-ef21565b6c2f"
      },
      "source": [
        "log_return=[]\n",
        "price = Data_A['Adj Close']\n",
        "log_price=np.log(price)\n",
        "for i in range(len(log_price)-1):\n",
        "  log_return.append(log_price[i+1]-log_price[i])\n",
        "print(log_return)\n"
      ],
      "execution_count": 39,
      "outputs": [
        {
          "output_type": "stream",
          "text": [
            "[0.012408457866161626, 0.004712990767658631, 0.017173392284830058, -0.007420374349124792, -0.00547757205843169, -0.012850870003573434, -0.004454642822253163, 0.003448193124559573, -0.008834542713898053, -0.009949344216038547, -0.016159599271635905, -0.0012670448504783494, 0.012987971940268572, 0.00579891094768481, 0.005162260975180466, -0.0022493412638615595, -0.002181326263480443, 0.008686472191874017, 0.015825191888836798, 0.00886110966029996, 0.001423805503678821, -0.0038317680640851393, 0.007870071851877825, 0.005942102647980008, 0.0020061278217955447, 0.0033843249284846166, 0.0027685648883783998, -0.012093087483393106, -0.010475960597156053, -0.0037572773383347524, -0.01704319943958854, 0.00988581415334, -0.003068594014668413, -0.0004934664563815971, 0.12413059165472795, 0.008952067494282012, -0.005026743662104316, -0.0014486230802548405, -0.00860834552180112, 0.01575864312394959, 0.008117430504196221, 0.0022372559059249397, 0.008607983640364303, -0.0033156382322596656, -0.003353352058167225, 0.0033888114737772312, 0.006769565233102348, -0.008968375456890776, 0.009364195401121655, -0.006536836886702702, -0.0031645817754935024, 0.011633930065704234, 0.014523413274444508, 0.02548210219070146, 0.008254167587236516, -0.0018665378026501145, -0.0274596793197599, 0.01324215025875386, -0.012312604051008869, -0.02473672783715486, 0.006697391214168569, 0.009398854122236955, 0.006435673126214958, 0.0019036705561479295, 0.005937624800591124, -0.0032905668080411843, -0.0008156852053495811, 0.008664139261878034, 0.004147201446875748, 0.009655174460627691, -0.002691342986429923, -0.008253755101817362, -0.0024315683716622516, -0.005462836670555582, 0.007163864486809501, 0.004662961669681387, 0.003242724406384845, -0.014119963891220166, 0.01657040658507558, 0.012694368844727855, 0.00446602574719801, 0.01603331894639748, 0.014321657002057009, 0.004664775699550816, 0.0013003476545137005, 0.01766147022433362, 0.022093247563542917, -0.0002605043640819815, -0.00758504867930565, -0.0012981812689281114, 0.0009737703522381125, 0.024968097929398247, 0.026196251381298552, -0.003698486897754094, 0.014944705255097723, 0.017338634360537952, 0.011086284511963918, 0.01410626927917047, 0.009049131525947551, -0.04287342443787079, 0.028335697216026468, -0.028335697216026468, 0.03730962282596284, -0.018226658431226284, -0.047911817286803604, -0.008103850228416754, 0.03421677371654397, 0.020195370701333815, 0.025504277630806094, 0.007353729935611675, -0.008981536931605305, 0.013479645973728083, 0.009873841616705015, 0.0016305327215198062, 0.00982142872140468, 0.01452726708499874, -0.006572338264222211, 0.0003107831984907605, -0.0126419732301839, 0.004542913990237096, 0.015450748270716907, 0.009166274060683932, 0.004775127130822732, 0.00443029149110874, 0.01726787616183767, 0.012274804018113095, -0.006408141492336483, 0.001774008827218232, -0.005470658991737487, -0.006746945061351539, -0.017166508469591335, 0.026558004674529734, -0.0029352811357306052, -0.023629202817523343, -0.032471399459991446, 0.03952767967998749, -0.03853190002988427, -0.04482954844612497, 0.01106037616005029, -0.05346513209957138, 0.014515282648540406, 0.013216323730410373, 0.028775885532360768, -0.03256874904680096, 0.0006046832581603212, 0.021208982560942502, -0.006405231282495372, 0.014919127467439175, -0.01230177168830604, 0.007457471557358097, 0.04233091986921966, 0.01583979300057603, 0.018848158584980013, -0.01907725070044375, -0.006324420626649285, -0.038803383854280504, 5.484306174530218e-05, 0.038814405041280864, 0.03537571263444317, -0.0041354037429410795, 0.010246599722891325, -0.007982399755516845, 0.001527743977352003, 0.005626345870789251, 0.012065233612247539, -0.004855093077092754, 0.009755129041853827, 0.0006713889958209762, -0.0038418112185665265, -0.0008550578428501154, -0.01599956319452467, 0.007055750277671358, -0.003483720315796468, -0.004682968378146413, 0.0070193723645948225, -0.002564015613862658, 0.012854898870594766, 0.0007550624091852143, 0.004406850152942177, 0.001687840366916049, 0.0074249327834214895, 0.002906725323189363, 0.00728799363956778, 0.014352435080839498, 0.01849158539751361, -0.00035374901123308433, -0.0038108498914102285, -0.0031482993306966023, 0.003041708677181454, 0.005685006184089403, 0.003590300645608835, 0.011082966617328438, -0.004587452250748747, 0.004546876206473094, 0.006355243221078055, 0.008780855111607089, -0.011412924740809238, -0.008444850767828527, -0.031090291515759816, 0.016659862329614583, -0.018248481218558155, 0.02435600977083663, -0.0009701739827487899, 0.00819084822397631, -0.011632513956070234, 0.0034004429751757215, 0.006392323487337315, 0.016460021029577554, 0.002326147724907912, 0.006820961523614777, 0.023438262188658854, 0.009092375684050857, 0.005204197639635311, 0.011695500314521823, -0.0005478986117788409, -0.016384925652364934, 0.0004025621440923999, -0.006471771438498308, 0.015003415392828678, 0.018614884276598964, -0.03029419688558921, 0.005114123997971731, -0.021160336249092637, -0.0010009560613957191, 0.011039136267029015, 0.020466038305780643, -0.006036685353351778, 0.013326099805933467, 0.007940239537658655, 0.012824950390299072, 0.006340773190540716, -0.006457381455036604, 0.005234593314244584, 0.012291032597591567, -0.019478469233826345, 0.002069451586486082, -0.0022819567687077935, -0.002931692820105525, 0.0035690734703264226, 0.011340229869271745, -0.0010504754234492708, 0.0013076689691819965, 0.011630515414840836, 0.0026628131263128907, 0.0332166685640507, 0.002139758555653515, 0.005145577747759589, 0.013227534513181816, -0.022155794191899503, -0.01847190711170299, -0.0031915661848138654]\n"
          ],
          "name": "stdout"
        }
      ]
    },
    {
      "cell_type": "code",
      "metadata": {
        "id": "Pd9lRP6sap6V",
        "colab_type": "code",
        "colab": {}
      },
      "source": [
        ""
      ],
      "execution_count": 0,
      "outputs": []
    },
    {
      "cell_type": "code",
      "metadata": {
        "id": "gfgQBUIeWo-2",
        "colab_type": "code",
        "colab": {
          "base_uri": "https://localhost:8080/",
          "height": 286
        },
        "outputId": "34a3e2b7-a389-4b61-dfd5-0197909039ff"
      },
      "source": [
        "\n",
        "x = np.arange(-0.05, 0.125, 0.005)\n",
        "\n",
        "y = stats.norm.cdf(x, 0.0028031285, 0.0166207965)\n",
        "\n",
        "plt.plot(x, y)"
      ],
      "execution_count": 41,
      "outputs": [
        {
          "output_type": "execute_result",
          "data": {
            "text/plain": [
              "[<matplotlib.lines.Line2D at 0x7f0c7424bbe0>]"
            ]
          },
          "metadata": {
            "tags": []
          },
          "execution_count": 41
        },
        {
          "output_type": "display_data",
          "data": {
            "image/png": "[encoded data removed]",
            "text/plain": [
              "<Figure size 432x288 with 1 Axes>"
            ]
          },
          "metadata": {
            "tags": []
          }
        }
      ]
    },
    {
      "cell_type": "code",
      "metadata": {
        "id": "Eq7kYCcta8k1",
        "colab_type": "code",
        "colab": {
          "base_uri": "https://localhost:8080/",
          "height": 286
        },
        "outputId": "7eb6521d-41a9-4865-b5db-340a97e9043c"
      },
      "source": [
        "sorted_ = np.sort(log_return)\n",
        "yvals = np.arange(len(sorted_))/float(len(sorted_))\n",
        "plt.plot(sorted_, yvals)"
      ],
      "execution_count": 40,
      "outputs": [
        {
          "output_type": "execute_result",
          "data": {
            "text/plain": [
              "[<matplotlib.lines.Line2D at 0x7f0c76bd3e80>]"
            ]
          },
          "metadata": {
            "tags": []
          },
          "execution_count": 40
        },
        {
          "output_type": "display_data",
          "data": {
            "image/png": "[encoded data removed]",
            "text/plain": [
              "<Figure size 432x288 with 1 Axes>"
            ]
          },
          "metadata": {
            "tags": []
          }
        }
      ]
    },
    {
      "cell_type": "code",
      "metadata": {
        "id": "Lu083opfcY9d",
        "colab_type": "code",
        "colab": {
          "base_uri": "https://localhost:8080/",
          "height": 286
        },
        "outputId": "58ddf4ef-e8c3-41d1-f62c-a7ff65f92b98"
      },
      "source": [
        "x_label = stats.norm.ppf(yvals)\n",
        "plt.scatter(x_label, sorted_)"
      ],
      "execution_count": 42,
      "outputs": [
        {
          "output_type": "execute_result",
          "data": {
            "text/plain": [
              "<matplotlib.collections.PathCollection at 0x7f0c74234748>"
            ]
          },
          "metadata": {
            "tags": []
          },
          "execution_count": 42
        },
        {
          "output_type": "display_data",
          "data": {
            "image/png": "[encoded data removed]",
            "text/plain": [
              "<Figure size 432x288 with 1 Axes>"
            ]
          },
          "metadata": {
            "tags": []
          }
        }
      ]
    },
    {
      "cell_type": "code",
      "metadata": {
        "id": "1vtNZN4Hduoa",
        "colab_type": "code",
        "colab": {
          "base_uri": "https://localhost:8080/",
          "height": 295
        },
        "outputId": "5650f6f6-00ac-423f-edc0-e52ae88fd5b9"
      },
      "source": [
        "stats.probplot(log_return, dist=\"norm\", plot=plt)\n",
        "plt.show()"
      ],
      "execution_count": 43,
      "outputs": [
        {
          "output_type": "display_data",
          "data": {
            "image/png": "[encoded data removed]",
            "text/plain": [
              "<Figure size 432x288 with 1 Axes>"
            ]
          },
          "metadata": {
            "tags": []
          }
        }
      ]
    },
    {
      "cell_type": "code",
      "metadata": {
        "id": "hFfCx38kd1rb",
        "colab_type": "code",
        "colab": {
          "base_uri": "https://localhost:8080/",
          "height": 286
        },
        "outputId": "4f3316e7-424d-4f1d-f547-dffc9a5363e2"
      },
      "source": [
        "x = np.arange(-0.05, 0.125, 0.005)\n",
        "\n",
        "y = stats.logistic.cdf(x, 0.0030732843, 0.0081693432)\n",
        "\n",
        "plt.plot(x, y)"
      ],
      "execution_count": 45,
      "outputs": [
        {
          "output_type": "execute_result",
          "data": {
            "text/plain": [
              "[<matplotlib.lines.Line2D at 0x7f0c740bb6a0>]"
            ]
          },
          "metadata": {
            "tags": []
          },
          "execution_count": 45
        },
        {
          "output_type": "display_data",
          "data": {
            "image/png": "[encoded data removed]",
            "text/plain": [
              "<Figure size 432x288 with 1 Axes>"
            ]
          },
          "metadata": {
            "tags": []
          }
        }
      ]
    },
    {
      "cell_type": "markdown",
      "metadata": {
        "id": "PEUK3wrkzaGp",
        "colab_type": "text"
      },
      "source": [
        "Problem4"
      ]
    },
    {
      "cell_type": "code",
      "metadata": {
        "id": "jedShZw_hceF",
        "colab_type": "code",
        "colab": {}
      },
      "source": [
        "sorted_ = np.sort(log_return)\n",
        "yvals = np.arange(len(sorted_))/float(len(sorted_))\n",
        "plt.plot(sorted_, yvals)"
      ],
      "execution_count": 0,
      "outputs": []
    },
    {
      "cell_type": "code",
      "metadata": {
        "id": "OPKOpZNDgmEg",
        "colab_type": "code",
        "colab": {
          "base_uri": "https://localhost:8080/",
          "height": 286
        },
        "outputId": "0c314cf8-c179-4677-c6f2-f1ff3b510405"
      },
      "source": [
        "x_label = stats.logistic.ppf(yvals)\n",
        "plt.scatter(x_label, sorted_)"
      ],
      "execution_count": 46,
      "outputs": [
        {
          "output_type": "execute_result",
          "data": {
            "text/plain": [
              "<matplotlib.collections.PathCollection at 0x7f0c74095c50>"
            ]
          },
          "metadata": {
            "tags": []
          },
          "execution_count": 46
        },
        {
          "output_type": "display_data",
          "data": {
            "image/png": "[encoded data removed]",
            "text/plain": [
              "<Figure size 432x288 with 1 Axes>"
            ]
          },
          "metadata": {
            "tags": []
          }
        }
      ]
    },
    {
      "cell_type": "code",
      "metadata": {
        "id": "XZbr5VxPllBY",
        "colab_type": "code",
        "colab": {
          "base_uri": "https://localhost:8080/",
          "height": 295
        },
        "outputId": "7c7e0d0c-26a6-4afa-dd6f-ef67ffd5c8ea"
      },
      "source": [
        "stats.probplot(log_return, dist=\"logistic\", plot=plt)\n",
        "plt.show()"
      ],
      "execution_count": 47,
      "outputs": [
        {
          "output_type": "display_data",
          "data": {
            "image/png": "[encoded data removed]",
            "text/plain": [
              "<Figure size 432x288 with 1 Axes>"
            ]
          },
          "metadata": {
            "tags": []
          }
        }
      ]
    },
    {
      "cell_type": "markdown",
      "metadata": {
        "id": "eIUkM_z0zwWe",
        "colab_type": "text"
      },
      "source": [
        "Problem8"
      ]
    },
    {
      "cell_type": "code",
      "metadata": {
        "id": "EknYQC6EzF4E",
        "colab_type": "code",
        "colab": {
          "base_uri": "https://localhost:8080/",
          "height": 52
        },
        "outputId": "2e349b5f-e2e4-4934-d9e3-69dde77b6462"
      },
      "source": [
        "mean=np.mean(log_return)\n",
        "print(mean)\n",
        "std=np.std(log_return)\n",
        "print(std)\n"
      ],
      "execution_count": 50,
      "outputs": [
        {
          "output_type": "stream",
          "text": [
            "0.002803128546973354\n",
            "0.01662079654225133\n"
          ],
          "name": "stdout"
        }
      ]
    },
    {
      "cell_type": "code",
      "metadata": {
        "id": "A-QwsTCJz9Aq",
        "colab_type": "code",
        "colab": {}
      },
      "source": [
        ""
      ],
      "execution_count": 0,
      "outputs": []
    }
  ]
}