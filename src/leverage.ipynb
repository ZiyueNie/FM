{
  "nbformat": 4,
  "nbformat_minor": 0,
  "metadata": {
    "colab": {
      "name": "leverage.ipynb",
      "provenance": [],
      "include_colab_link": true
    },
    "kernelspec": {
      "name": "python3",
      "display_name": "Python 3"
    }
  },
  "cells": [
    {
      "cell_type": "markdown",
      "metadata": {
        "id": "view-in-github",
        "colab_type": "text"
      },
      "source": [
        "<a href=\"https://colab.research.google.com/github/ZiyueNie/FM/blob/master/src/leverage.ipynb\" target=\"_parent\"><img src=\"https://colab.research.google.com/assets/colab-badge.svg\" alt=\"Open In Colab\"/></a>"
      ]
    },
    {
      "cell_type": "code",
      "metadata": {
        "id": "adjsDVSKSRV6",
        "colab_type": "code",
        "colab": {}
      },
      "source": [
        "import csv\n",
        "import numpy\n",
        "import matplotlib.pyplot as plt\n",
        "import numpy as np"
      ],
      "execution_count": 0,
      "outputs": []
    },
    {
      "cell_type": "code",
      "metadata": {
        "id": "hovqq57NSSol",
        "colab_type": "code",
        "colab": {}
      },
      "source": [
        "names=['1030','1031','1101','1104','1105','1106','1107','1108','1111','1112','1113','1114','1115','1118','1119','1120','1121','1122','1125','1126','1127','1129','1202','1203','1204','1205','1206']\n",
        "def getData():\n",
        "    L=[]\n",
        "    S=[]\n",
        "    for name in names:\n",
        "        with open(name+'.csv') as file:\n",
        "            reader=csv.reader(file)\n",
        "            rows=[row[0] for row in reader]\n",
        "            Rows=np.array([row for row in rows])\n",
        "            Rows[0]=(Rows[0])[1:]\n",
        "            leverage=np.array([float(Rows[i]) for i in range(len(Rows))])\n",
        "            l=(sum(leverage[leverage>0])+abs(sum(leverage[leverage<0])))/(sum(leverage[leverage>0])+sum(leverage[leverage<0]))\n",
        "            s=sum(leverage)\n",
        "            L.append(l)\n",
        "            S.append(s)\n",
        "            \n",
        "    return L,S"
      ],
      "execution_count": 0,
      "outputs": []
    },
    {
      "cell_type": "code",
      "metadata": {
        "id": "6iKVCMsNSZVH",
        "colab_type": "code",
        "colab": {}
      },
      "source": [
        "Rows,s=getData()\n",
        "plt.plot([i for i in range(27)],Rows,label='Daily leverage ratio')\n",
        "plt.legend()\n",
        "plt.show()\n"
      ],
      "execution_count": 0,
      "outputs": []
    },
    {
      "cell_type": "code",
      "metadata": {
        "id": "LzOykttLScyH",
        "colab_type": "code",
        "colab": {}
      },
      "source": [
        "Rows,s=getData()\n",
        "plt.plot([i for i in range(27)],s,label='Daily Market Value')\n",
        "plt.legend()\n",
        "plt.show()"
      ],
      "execution_count": 0,
      "outputs": []
    }
  ]
}