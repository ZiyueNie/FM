{
  "nbformat": 4,
  "nbformat_minor": 0,
  "metadata": {
    "colab": {
      "name": "p4leverage.ipynb",
      "provenance": [],
      "include_colab_link": true
    },
    "kernelspec": {
      "name": "python3",
      "display_name": "Python 3"
    }
  },
  "cells": [
    {
      "cell_type": "markdown",
      "metadata": {
        "id": "view-in-github",
        "colab_type": "text"
      },
      "source": [
        "<a href=\"https://colab.research.google.com/github/ZiyueNie/FM/blob/master/p4leverage.ipynb\" target=\"_parent\"><img src=\"https://colab.research.google.com/assets/colab-badge.svg\" alt=\"Open In Colab\"/></a>"
      ]
    },
    {
      "cell_type": "code",
      "metadata": {
        "id": "qWHJGQ98DhfL",
        "colab_type": "code",
        "colab": {
          "base_uri": "https://localhost:8080/",
          "height": 140
        },
        "outputId": "f35a6632-b2ba-4ec2-f044-963fde58fd82"
      },
      "source": [
        "!git clone https://github.com/ZiyueNie/FM"
      ],
      "execution_count": 45,
      "outputs": [
        {
          "output_type": "stream",
          "text": [
            "Cloning into 'FM'...\n",
            "remote: Enumerating objects: 104, done.\u001b[K\n",
            "remote: Counting objects:   0% (1/104)\u001b[K\rremote: Counting objects:   1% (2/104)\u001b[K\rremote: Counting objects:   2% (3/104)\u001b[K\rremote: Counting objects:   3% (4/104)\u001b[K\rremote: Counting objects:   4% (5/104)\u001b[K\rremote: Counting objects:   5% (6/104)\u001b[K\rremote: Counting objects:   6% (7/104)\u001b[K\rremote: Counting objects:   7% (8/104)\u001b[K\rremote: Counting objects:   8% (9/104)\u001b[K\rremote: Counting objects:   9% (10/104)\u001b[K\rremote: Counting objects:  10% (11/104)\u001b[K\rremote: Counting objects:  11% (12/104)\u001b[K\rremote: Counting objects:  12% (13/104)\u001b[K\rremote: Counting objects:  13% (14/104)\u001b[K\rremote: Counting objects:  14% (15/104)\u001b[K\rremote: Counting objects:  15% (16/104)\u001b[K\rremote: Counting objects:  16% (17/104)\u001b[K\rremote: Counting objects:  17% (18/104)\u001b[K\rremote: Counting objects:  18% (19/104)\u001b[K\rremote: Counting objects:  19% (20/104)\u001b[K\rremote: Counting objects:  20% (21/104)\u001b[K\rremote: Counting objects:  21% (22/104)\u001b[K\rremote: Counting objects:  22% (23/104)\u001b[K\rremote: Counting objects:  23% (24/104)\u001b[K\rremote: Counting objects:  24% (25/104)\u001b[K\rremote: Counting objects:  25% (26/104)\u001b[K\rremote: Counting objects:  26% (28/104)\u001b[K\rremote: Counting objects:  27% (29/104)\u001b[K\rremote: Counting objects:  28% (30/104)\u001b[K\rremote: Counting objects:  29% (31/104)\u001b[K\rremote: Counting objects:  30% (32/104)\u001b[K\rremote: Counting objects:  31% (33/104)\u001b[K\rremote: Counting objects:  32% (34/104)\u001b[K\rremote: Counting objects:  33% (35/104)\u001b[K\rremote: Counting objects:  34% (36/104)\u001b[K\rremote: Counting objects:  35% (37/104)\u001b[K\rremote: Counting objects:  36% (38/104)\u001b[K\rremote: Counting objects:  37% (39/104)\u001b[K\rremote: Counting objects:  38% (40/104)\u001b[K\rremote: Counting objects:  39% (41/104)\u001b[K\rremote: Counting objects:  40% (42/104)\u001b[K\rremote: Counting objects:  41% (43/104)\u001b[K\rremote: Counting objects:  42% (44/104)\u001b[K\rremote: Counting objects:  43% (45/104)\u001b[K\rremote: Counting objects:  44% (46/104)\u001b[K\rremote: Counting objects:  45% (47/104)\u001b[K\rremote: Counting objects:  46% (48/104)\u001b[K\rremote: Counting objects:  47% (49/104)\u001b[K\rremote: Counting objects:  48% (50/104)\u001b[K\rremote: Counting objects:  49% (51/104)\u001b[K\rremote: Counting objects:  50% (52/104)\u001b[K\rremote: Counting objects:  51% (54/104)\u001b[K\rremote: Counting objects:  52% (55/104)\u001b[K\rremote: Counting objects:  53% (56/104)\u001b[K\rremote: Counting objects:  54% (57/104)\u001b[K\rremote: Counting objects:  55% (58/104)\u001b[K\rremote: Counting objects:  56% (59/104)\u001b[K\rremote: Counting objects:  57% (60/104)\u001b[K\rremote: Counting objects:  58% (61/104)\u001b[K\rremote: Counting objects:  59% (62/104)\u001b[K\rremote: Counting objects:  60% (63/104)\u001b[K\rremote: Counting objects:  61% (64/104)\u001b[K\rremote: Counting objects:  62% (65/104)\u001b[K\rremote: Counting objects:  63% (66/104)\u001b[K\rremote: Counting objects:  64% (67/104)\u001b[K\rremote: Counting objects:  65% (68/104)\u001b[K\rremote: Counting objects:  66% (69/104)\u001b[K\rremote: Counting objects:  67% (70/104)\u001b[K\rremote: Counting objects:  68% (71/104)\u001b[K\rremote: Counting objects:  69% (72/104)\u001b[K\rremote: Counting objects:  70% (73/104)\u001b[K\rremote: Counting objects:  71% (74/104)\u001b[K\rremote: Counting objects:  72% (75/104)\u001b[K\rremote: Counting objects:  73% (76/104)\u001b[K\rremote: Counting objects:  74% (77/104)\u001b[K\rremote: Counting objects:  75% (78/104)\u001b[K\rremote: Counting objects:  76% (80/104)\u001b[K\rremote: Counting objects:  77% (81/104)\u001b[K\rremote: Counting objects:  78% (82/104)\u001b[K\rremote: Counting objects:  79% (83/104)\u001b[K\rremote: Counting objects:  80% (84/104)\u001b[K\rremote: Counting objects:  81% (85/104)\u001b[K\rremote: Counting objects:  82% (86/104)\u001b[K\rremote: Counting objects:  83% (87/104)\u001b[K\rremote: Counting objects:  84% (88/104)\u001b[K\rremote: Counting objects:  85% (89/104)\u001b[K\rremote: Counting objects:  86% (90/104)\u001b[K\rremote: Counting objects:  87% (91/104)\u001b[K\rremote: Counting objects:  88% (92/104)\u001b[K\rremote: Counting objects:  89% (93/104)\u001b[K\rremote: Counting objects:  90% (94/104)\u001b[K\rremote: Counting objects:  91% (95/104)\u001b[K\rremote: Counting objects:  92% (96/104)\u001b[K\rremote: Counting objects:  93% (97/104)\u001b[K\rremote: Counting objects:  94% (98/104)\u001b[K\rremote: Counting objects:  95% (99/104)\u001b[K\rremote: Counting objects:  96% (100/104)\u001b[K\rremote: Counting objects:  97% (101/104)\u001b[K\rremote: Counting objects:  98% (102/104)\u001b[K\rremote: Counting objects:  99% (103/104)\u001b[K\rremote: Counting objects: 100% (104/104)\u001b[K\rremote: Counting objects: 100% (104/104), done.\u001b[K\n",
            "remote: Compressing objects:   1% (1/100)\u001b[K\rremote: Compressing objects:   2% (2/100)\u001b[K\rremote: Compressing objects:   3% (3/100)\u001b[K\rremote: Compressing objects:   4% (4/100)\u001b[K\rremote: Compressing objects:   5% (5/100)\u001b[K\rremote: Compressing objects:   6% (6/100)\u001b[K\rremote: Compressing objects:   7% (7/100)\u001b[K\rremote: Compressing objects:   8% (8/100)\u001b[K\rremote: Compressing objects:   9% (9/100)\u001b[K\rremote: Compressing objects:  10% (10/100)\u001b[K\rremote: Compressing objects:  11% (11/100)\u001b[K\rremote: Compressing objects:  12% (12/100)\u001b[K\rremote: Compressing objects:  13% (13/100)\u001b[K\rremote: Compressing objects:  14% (14/100)\u001b[K\rremote: Compressing objects:  15% (15/100)\u001b[K\rremote: Compressing objects:  16% (16/100)\u001b[K\rremote: Compressing objects:  17% (17/100)\u001b[K\rremote: Compressing objects:  18% (18/100)\u001b[K\rremote: Compressing objects:  19% (19/100)\u001b[K\rremote: Compressing objects:  20% (20/100)\u001b[K\rremote: Compressing objects:  21% (21/100)\u001b[K\rremote: Compressing objects:  22% (22/100)\u001b[K\rremote: Compressing objects:  23% (23/100)\u001b[K\rremote: Compressing objects:  24% (24/100)\u001b[K\rremote: Compressing objects:  25% (25/100)\u001b[K\rremote: Compressing objects:  26% (26/100)\u001b[K\rremote: Compressing objects:  27% (27/100)\u001b[K\rremote: Compressing objects:  28% (28/100)\u001b[K\rremote: Compressing objects:  29% (29/100)\u001b[K\rremote: Compressing objects:  30% (30/100)\u001b[K\rremote: Compressing objects:  31% (31/100)\u001b[K\rremote: Compressing objects:  32% (32/100)\u001b[K\rremote: Compressing objects:  33% (33/100)\u001b[K\rremote: Compressing objects:  34% (34/100)\u001b[K\rremote: Compressing objects:  35% (35/100)\u001b[K\rremote: Compressing objects:  36% (36/100)\u001b[K\rremote: Compressing objects:  37% (37/100)\u001b[K\rremote: Compressing objects:  38% (38/100)\u001b[K\rremote: Compressing objects:  39% (39/100)\u001b[K\rremote: Compressing objects:  40% (40/100)\u001b[K\rremote: Compressing objects:  41% (41/100)\u001b[K\rremote: Compressing objects:  42% (42/100)\u001b[K\rremote: Compressing objects:  43% (43/100)\u001b[K\rremote: Compressing objects:  44% (44/100)\u001b[K\rremote: Compressing objects:  45% (45/100)\u001b[K\rremote: Compressing objects:  46% (46/100)\u001b[K\rremote: Compressing objects:  47% (47/100)\u001b[K\rremote: Compressing objects:  48% (48/100)\u001b[K\rremote: Compressing objects:  49% (49/100)\u001b[K\rremote: Compressing objects:  50% (50/100)\u001b[K\rremote: Compressing objects:  51% (51/100)\u001b[K\rremote: Compressing objects:  52% (52/100)\u001b[K\rremote: Compressing objects:  53% (53/100)\u001b[K\rremote: Compressing objects:  54% (54/100)\u001b[K\rremote: Compressing objects:  55% (55/100)\u001b[K\rremote: Compressing objects:  56% (56/100)\u001b[K\rremote: Compressing objects:  57% (57/100)\u001b[K\rremote: Compressing objects:  58% (58/100)\u001b[K\rremote: Compressing objects:  59% (59/100)\u001b[K\rremote: Compressing objects:  60% (60/100)\u001b[K\rremote: Compressing objects:  61% (61/100)\u001b[K\rremote: Compressing objects:  62% (62/100)\u001b[K\rremote: Compressing objects:  63% (63/100)\u001b[K\rremote: Compressing objects:  64% (64/100)\u001b[K\rremote: Compressing objects:  65% (65/100)\u001b[K\rremote: Compressing objects:  66% (66/100)\u001b[K\rremote: Compressing objects:  67% (67/100)\u001b[K\rremote: Compressing objects:  68% (68/100)\u001b[K\rremote: Compressing objects:  69% (69/100)\u001b[K\rremote: Compressing objects:  70% (70/100)\u001b[K\rremote: Compressing objects:  71% (71/100)\u001b[K\rremote: Compressing objects:  72% (72/100)\u001b[K\rremote: Compressing objects:  73% (73/100)\u001b[K\rremote: Compressing objects:  74% (74/100)\u001b[K\rremote: Compressing objects:  75% (75/100)\u001b[K\rremote: Compressing objects:  76% (76/100)\u001b[K\rremote: Compressing objects:  77% (77/100)\u001b[K\rremote: Compressing objects:  78% (78/100)\u001b[K\rremote: Compressing objects:  79% (79/100)\u001b[K\rremote: Compressing objects:  80% (80/100)\u001b[K\rremote: Compressing objects:  81% (81/100)\u001b[K\rremote: Compressing objects:  82% (82/100)\u001b[K\rremote: Compressing objects:  83% (83/100)\u001b[K\rremote: Compressing objects:  84% (84/100)\u001b[K\rremote: Compressing objects:  85% (85/100)\u001b[K\rremote: Compressing objects:  86% (86/100)\u001b[K\rremote: Compressing objects:  87% (87/100)\u001b[K\rremote: Compressing objects:  88% (88/100)\u001b[K\rremote: Compressing objects:  89% (89/100)\u001b[K\rremote: Compressing objects:  90% (90/100)\u001b[K\rremote: Compressing objects:  91% (91/100)\u001b[K\rremote: Compressing objects:  92% (92/100)\u001b[K\rremote: Compressing objects:  93% (93/100)\u001b[K\rremote: Compressing objects:  94% (94/100)\u001b[K\rremote: Compressing objects:  95% (95/100)\u001b[K\rremote: Compressing objects:  96% (96/100)\u001b[K\rremote: Compressing objects:  97% (97/100)\u001b[K\rremote: Compressing objects:  98% (98/100)\u001b[K\rremote: Compressing objects:  99% (99/100)\u001b[K\rremote: Compressing objects: 100% (100/100)\u001b[K\rremote: Compressing objects: 100% (100/100), done.\u001b[K\n",
            "Receiving objects:   0% (1/243)   \rReceiving objects:   1% (3/243)   \rReceiving objects:   2% (5/243)   \rReceiving objects:   3% (8/243)   \rReceiving objects:   4% (10/243)   \rReceiving objects:   5% (13/243)   \rReceiving objects:   6% (15/243)   \rReceiving objects:   7% (18/243)   \rReceiving objects:   8% (20/243)   \rReceiving objects:   9% (22/243)   \rReceiving objects:  10% (25/243)   \rReceiving objects:  11% (27/243)   \rReceiving objects:  12% (30/243)   \rReceiving objects:  13% (32/243)   \rReceiving objects:  14% (35/243)   \rReceiving objects:  15% (37/243)   \rReceiving objects:  16% (39/243)   \rReceiving objects:  17% (42/243)   \rReceiving objects:  18% (44/243)   \rReceiving objects:  19% (47/243)   \rReceiving objects:  20% (49/243)   \rReceiving objects:  21% (52/243)   \rReceiving objects:  22% (54/243)   \rReceiving objects:  23% (56/243)   \rReceiving objects:  24% (59/243)   \rReceiving objects:  25% (61/243)   \rReceiving objects:  26% (64/243)   \rReceiving objects:  27% (66/243)   \rReceiving objects:  28% (69/243)   \rReceiving objects:  29% (71/243)   \rReceiving objects:  30% (73/243)   \rReceiving objects:  31% (76/243)   \rReceiving objects:  32% (78/243)   \rReceiving objects:  33% (81/243)   \rReceiving objects:  34% (83/243)   \rReceiving objects:  35% (86/243)   \rReceiving objects:  36% (88/243)   \rReceiving objects:  37% (90/243)   \rReceiving objects:  38% (93/243)   \rReceiving objects:  39% (95/243)   \rReceiving objects:  40% (98/243)   \rReceiving objects:  41% (100/243)   \rReceiving objects:  42% (103/243)   \rReceiving objects:  43% (105/243)   \rReceiving objects:  44% (107/243)   \rReceiving objects:  45% (110/243)   \rReceiving objects:  46% (112/243)   \rReceiving objects:  47% (115/243)   \rReceiving objects:  48% (117/243)   \rReceiving objects:  49% (120/243)   \rReceiving objects:  50% (122/243)   \rReceiving objects:  51% (124/243)   \rReceiving objects:  52% (127/243)   \rReceiving objects:  53% (129/243)   \rReceiving objects:  54% (132/243)   \rReceiving objects:  55% (134/243)   \rReceiving objects:  56% (137/243)   \rReceiving objects:  57% (139/243)   \rReceiving objects:  58% (141/243)   \rReceiving objects:  59% (144/243)   \rReceiving objects:  60% (146/243)   \rReceiving objects:  61% (149/243)   \rReceiving objects:  62% (151/243)   \rReceiving objects:  63% (154/243)   \rReceiving objects:  64% (156/243)   \rReceiving objects:  65% (158/243)   \rReceiving objects:  66% (161/243)   \rReceiving objects:  67% (163/243)   \rReceiving objects:  68% (166/243)   \rReceiving objects:  69% (168/243)   \rremote: Total 243 (delta 16), reused 0 (delta 0), pack-reused 139\u001b[K\n",
            "Receiving objects: 100% (243/243), 892.76 KiB | 6.20 MiB/s, done.\n",
            "Resolving deltas: 100% (56/56), done.\n"
          ],
          "name": "stdout"
        }
      ]
    },
    {
      "cell_type": "code",
      "metadata": {
        "id": "ixot6_7HDlDA",
        "colab_type": "code",
        "colab": {
          "base_uri": "https://localhost:8080/",
          "height": 34
        },
        "outputId": "37dc5124-8547-4308-f01d-63a3e8ae3e54"
      },
      "source": [
        "cd FM/data/aaa"
      ],
      "execution_count": 46,
      "outputs": [
        {
          "output_type": "stream",
          "text": [
            "/content/FM/data/portfolio/FM/data/aaa/FM/data/aaa/FM/data/aaa\n"
          ],
          "name": "stdout"
        }
      ]
    },
    {
      "cell_type": "code",
      "metadata": {
        "id": "91CjMnemDlJv",
        "colab_type": "code",
        "colab": {}
      },
      "source": [
        "import numpy as np\n",
        "import matplotlib.pyplot as plt\n",
        "import math\n",
        "import csv\n",
        "import pandas as pd"
      ],
      "execution_count": 0,
      "outputs": []
    },
    {
      "cell_type": "code",
      "metadata": {
        "id": "_oxpixMNDlOc",
        "colab_type": "code",
        "colab": {
          "base_uri": "https://localhost:8080/",
          "height": 403
        },
        "outputId": "7d05a2cd-66fd-4d52-a061-6ee16ae30c11"
      },
      "source": [
        "\n",
        "d1= pd.read_csv('1030.csv')\n",
        "d2= pd.read_csv('1031.csv')\n",
        "d=[d1,d2]\n",
        "print(d1)"
      ],
      "execution_count": 77,
      "outputs": [
        {
          "output_type": "stream",
          "text": [
            "    market value\n",
            "0      -63004.34\n",
            "1       65851.20\n",
            "2     -206067.28\n",
            "3       20684.06\n",
            "4       62499.00\n",
            "5       -4064.22\n",
            "6      -88249.00\n",
            "7           0.00\n",
            "8      273965.67\n",
            "9      -56097.60\n",
            "10    -156133.77\n",
            "11     119592.47\n",
            "12      19481.04\n",
            "13     -54543.50\n",
            "14     260000.14\n",
            "15     224197.97\n",
            "16      -8424.52\n",
            "17     192681.72\n",
            "18     -33706.07\n",
            "19     -49507.88\n",
            "20      15953.25\n"
          ],
          "name": "stdout"
        }
      ]
    },
    {
      "cell_type": "code",
      "metadata": {
        "id": "wqOhtuFTQOZR",
        "colab_type": "code",
        "colab": {
          "base_uri": "https://localhost:8080/",
          "height": 403
        },
        "outputId": "ba31614b-3b1d-45e1-8823-68ac81534d51"
      },
      "source": [
        "print(d[0])"
      ],
      "execution_count": 54,
      "outputs": [
        {
          "output_type": "stream",
          "text": [
            "    market value\n",
            "0      -63004.34\n",
            "1       65851.20\n",
            "2     -206067.28\n",
            "3       20684.06\n",
            "4       62499.00\n",
            "5       -4064.22\n",
            "6      -88249.00\n",
            "7           0.00\n",
            "8      273965.67\n",
            "9      -56097.60\n",
            "10    -156133.77\n",
            "11     119592.47\n",
            "12      19481.04\n",
            "13     -54543.50\n",
            "14     260000.14\n",
            "15     224197.97\n",
            "16      -8424.52\n",
            "17     192681.72\n",
            "18     -33706.07\n",
            "19     -49507.88\n",
            "20      15953.25\n"
          ],
          "name": "stdout"
        }
      ]
    },
    {
      "cell_type": "code",
      "metadata": {
        "colab_type": "code",
        "id": "h82ojEEsXRvI",
        "colab": {}
      },
      "source": [
        "a=[]\n",
        "a=np.array(d1)\n",
        "print(a)"
      ],
      "execution_count": 0,
      "outputs": []
    },
    {
      "cell_type": "code",
      "metadata": {
        "id": "wKwES3-JDlTU",
        "colab_type": "code",
        "colab": {}
      },
      "source": [
        "def leverage(n):\n",
        "  a=0\n",
        "  b=0\n",
        "  for i in n:\n",
        "    if i>0:\n",
        "      a=a+i\n",
        "    else: \n",
        "       b=b+i\n",
        "  L=-a/b\n",
        "  return L"
      ],
      "execution_count": 0,
      "outputs": []
    },
    {
      "cell_type": "code",
      "metadata": {
        "id": "NCKYwgMXUS2W",
        "colab_type": "code",
        "colab": {
          "base_uri": "https://localhost:8080/",
          "height": 132
        },
        "outputId": "e41c01e7-2bd1-4f23-e634-191ed1f3aaef"
      },
      "source": [
        "L=[]\n",
        "def array(i): \n",
        " c= d[i]['market value']\n",
        " t=[]\n",
        "  for j in range(len(c)):\n",
        "    t.append(c[j])\n",
        "    aa=leverage(t)\n",
        " return aa"
      ],
      "execution_count": 86,
      "outputs": [
        {
          "output_type": "error",
          "ename": "IndentationError",
          "evalue": "ignored",
          "traceback": [
            "\u001b[0;36m  File \u001b[0;32m\"<ipython-input-86-b568be9fd903>\"\u001b[0;36m, line \u001b[0;32m5\u001b[0m\n\u001b[0;31m    for j in range(len(c)):\u001b[0m\n\u001b[0m    ^\u001b[0m\n\u001b[0;31mIndentationError\u001b[0m\u001b[0;31m:\u001b[0m unexpected indent\n"
          ]
        }
      ]
    },
    {
      "cell_type": "code",
      "metadata": {
        "id": "Zo-HqcCPXb3G",
        "colab_type": "code",
        "colab": {
          "base_uri": "https://localhost:8080/",
          "height": 132
        },
        "outputId": "14a61479-772e-4412-9938-71b7a0e301cb"
      },
      "source": [
        "c= d[0]['market value']\n",
        " t=[]\n",
        " for j in range(len(c)):\n",
        "    t.append(c[j])\n",
        "    aa=leverage(t)\n",
        " print(aa)"
      ],
      "execution_count": 87,
      "outputs": [
        {
          "output_type": "error",
          "ename": "IndentationError",
          "evalue": "ignored",
          "traceback": [
            "\u001b[0;36m  File \u001b[0;32m\"<ipython-input-87-1c06f6b95777>\"\u001b[0;36m, line \u001b[0;32m2\u001b[0m\n\u001b[0;31m    t=[]\u001b[0m\n\u001b[0m    ^\u001b[0m\n\u001b[0;31mIndentationError\u001b[0m\u001b[0;31m:\u001b[0m unexpected indent\n"
          ]
        }
      ]
    },
    {
      "cell_type": "code",
      "metadata": {
        "id": "m3c9l6UMU1vT",
        "colab_type": "code",
        "colab": {
          "base_uri": "https://localhost:8080/",
          "height": 185
        },
        "outputId": "58ee7d2c-46ad-4465-dc8f-6abb41ab9785"
      },
      "source": [
        "c= d[0]['market value']"
      ],
      "execution_count": 76,
      "outputs": [
        {
          "output_type": "error",
          "ename": "IndexError",
          "evalue": "ignored",
          "traceback": [
            "\u001b[0;31m---------------------------------------------------------------------------\u001b[0m",
            "\u001b[0;31mIndexError\u001b[0m                                Traceback (most recent call last)",
            "\u001b[0;32m<ipython-input-76-977901dbbfa8>\u001b[0m in \u001b[0;36m<module>\u001b[0;34m()\u001b[0m\n\u001b[1;32m      1\u001b[0m \u001b[0mc\u001b[0m\u001b[0;34m=\u001b[0m\u001b[0;34m[\u001b[0m\u001b[0;34m]\u001b[0m\u001b[0;34m\u001b[0m\u001b[0;34m\u001b[0m\u001b[0m\n\u001b[0;32m----> 2\u001b[0;31m \u001b[0mc\u001b[0m\u001b[0;34m=\u001b[0m \u001b[0md\u001b[0m\u001b[0;34m[\u001b[0m\u001b[0;36m0\u001b[0m\u001b[0;34m]\u001b[0m\u001b[0;34m[\u001b[0m\u001b[0;34m'market value'\u001b[0m\u001b[0;34m]\u001b[0m\u001b[0;34m\u001b[0m\u001b[0;34m\u001b[0m\u001b[0m\n\u001b[0m",
            "\u001b[0;31mIndexError\u001b[0m: list index out of range"
          ]
        }
      ]
    },
    {
      "cell_type": "code",
      "metadata": {
        "id": "8btH87EySwj5",
        "colab_type": "code",
        "colab": {
          "base_uri": "https://localhost:8080/",
          "height": 237
        },
        "outputId": "520aaced-999f-4e2e-c109-59d9e1503504"
      },
      "source": [
        "d=[]\n",
        "c= d[0]['market value']\n",
        "for i in range(len(c)):\n",
        " d=d.append(c[i])\n",
        "print(d)"
      ],
      "execution_count": 70,
      "outputs": [
        {
          "output_type": "error",
          "ename": "IndexError",
          "evalue": "ignored",
          "traceback": [
            "\u001b[0;31m---------------------------------------------------------------------------\u001b[0m",
            "\u001b[0;31mIndexError\u001b[0m                                Traceback (most recent call last)",
            "\u001b[0;32m<ipython-input-70-d57f91bf5a79>\u001b[0m in \u001b[0;36m<module>\u001b[0;34m()\u001b[0m\n\u001b[1;32m      1\u001b[0m \u001b[0md\u001b[0m\u001b[0;34m=\u001b[0m\u001b[0;34m[\u001b[0m\u001b[0;34m]\u001b[0m\u001b[0;34m\u001b[0m\u001b[0;34m\u001b[0m\u001b[0m\n\u001b[0;32m----> 2\u001b[0;31m \u001b[0mc\u001b[0m\u001b[0;34m=\u001b[0m \u001b[0md\u001b[0m\u001b[0;34m[\u001b[0m\u001b[0;36m0\u001b[0m\u001b[0;34m]\u001b[0m\u001b[0;34m[\u001b[0m\u001b[0;34m'market value'\u001b[0m\u001b[0;34m]\u001b[0m\u001b[0;34m\u001b[0m\u001b[0;34m\u001b[0m\u001b[0m\n\u001b[0m\u001b[1;32m      3\u001b[0m \u001b[0;32mfor\u001b[0m \u001b[0mi\u001b[0m \u001b[0;32min\u001b[0m \u001b[0mrange\u001b[0m\u001b[0;34m(\u001b[0m\u001b[0mlen\u001b[0m\u001b[0;34m(\u001b[0m\u001b[0mc\u001b[0m\u001b[0;34m)\u001b[0m\u001b[0;34m)\u001b[0m\u001b[0;34m:\u001b[0m\u001b[0;34m\u001b[0m\u001b[0;34m\u001b[0m\u001b[0m\n\u001b[1;32m      4\u001b[0m  \u001b[0md\u001b[0m\u001b[0;34m=\u001b[0m\u001b[0md\u001b[0m\u001b[0;34m.\u001b[0m\u001b[0mappend\u001b[0m\u001b[0;34m(\u001b[0m\u001b[0mc\u001b[0m\u001b[0;34m[\u001b[0m\u001b[0mi\u001b[0m\u001b[0;34m]\u001b[0m\u001b[0;34m)\u001b[0m\u001b[0;34m\u001b[0m\u001b[0;34m\u001b[0m\u001b[0m\n\u001b[1;32m      5\u001b[0m \u001b[0mprint\u001b[0m\u001b[0;34m(\u001b[0m\u001b[0md\u001b[0m\u001b[0;34m)\u001b[0m\u001b[0;34m\u001b[0m\u001b[0;34m\u001b[0m\u001b[0m\n",
            "\u001b[0;31mIndexError\u001b[0m: list index out of range"
          ]
        }
      ]
    },
    {
      "cell_type": "code",
      "metadata": {
        "id": "rEWiz_P9QFn8",
        "colab_type": "code",
        "colab": {
          "base_uri": "https://localhost:8080/",
          "height": 220
        },
        "outputId": "f0bcc7bc-c781-4de5-ceb6-054d77f213af"
      },
      "source": [
        "c=[]\n",
        "e=[]\n",
        "market=[]\n",
        "for i in range(1):\n",
        "  c= d[i]['market value']\n",
        "  e[i]=leverage(c)\n",
        "print(e)"
      ],
      "execution_count": 62,
      "outputs": [
        {
          "output_type": "error",
          "ename": "IndexError",
          "evalue": "ignored",
          "traceback": [
            "\u001b[0;31m---------------------------------------------------------------------------\u001b[0m",
            "\u001b[0;31mIndexError\u001b[0m                                Traceback (most recent call last)",
            "\u001b[0;32m<ipython-input-62-d2441c850272>\u001b[0m in \u001b[0;36m<module>\u001b[0;34m()\u001b[0m\n\u001b[1;32m      4\u001b[0m \u001b[0;32mfor\u001b[0m \u001b[0mi\u001b[0m \u001b[0;32min\u001b[0m \u001b[0mrange\u001b[0m\u001b[0;34m(\u001b[0m\u001b[0;36m1\u001b[0m\u001b[0;34m)\u001b[0m\u001b[0;34m:\u001b[0m\u001b[0;34m\u001b[0m\u001b[0;34m\u001b[0m\u001b[0m\n\u001b[1;32m      5\u001b[0m   \u001b[0mc\u001b[0m\u001b[0;34m=\u001b[0m \u001b[0md\u001b[0m\u001b[0;34m[\u001b[0m\u001b[0mi\u001b[0m\u001b[0;34m]\u001b[0m\u001b[0;34m[\u001b[0m\u001b[0;34m'market value'\u001b[0m\u001b[0;34m]\u001b[0m\u001b[0;34m\u001b[0m\u001b[0;34m\u001b[0m\u001b[0m\n\u001b[0;32m----> 6\u001b[0;31m   \u001b[0me\u001b[0m\u001b[0;34m[\u001b[0m\u001b[0mi\u001b[0m\u001b[0;34m]\u001b[0m\u001b[0;34m=\u001b[0m\u001b[0mleverage\u001b[0m\u001b[0;34m(\u001b[0m\u001b[0mc\u001b[0m\u001b[0;34m)\u001b[0m\u001b[0;34m\u001b[0m\u001b[0;34m\u001b[0m\u001b[0m\n\u001b[0m\u001b[1;32m      7\u001b[0m \u001b[0mprint\u001b[0m\u001b[0;34m(\u001b[0m\u001b[0me\u001b[0m\u001b[0;34m)\u001b[0m\u001b[0;34m\u001b[0m\u001b[0;34m\u001b[0m\u001b[0m\n",
            "\u001b[0;31mIndexError\u001b[0m: list assignment index out of range"
          ]
        }
      ]
    },
    {
      "cell_type": "code",
      "metadata": {
        "id": "0mfF5gDDJtt-",
        "colab_type": "code",
        "colab": {
          "base_uri": "https://localhost:8080/",
          "height": 237
        },
        "outputId": "e9aff2ba-862c-42d0-edb4-c68615aa8eef"
      },
      "source": [
        "a=[]\n",
        "market=[]\n",
        "for i in range(1):\n",
        " market[i] = d[i]['market value']\n",
        " print(market[i])\n",
        "#for i in range(len(log_price)-1):\n",
        " # log_return.append(log_price[i+1]-log_price[i])\n",
        "#print(log_return)"
      ],
      "execution_count": 52,
      "outputs": [
        {
          "output_type": "error",
          "ename": "IndexError",
          "evalue": "ignored",
          "traceback": [
            "\u001b[0;31m---------------------------------------------------------------------------\u001b[0m",
            "\u001b[0;31mIndexError\u001b[0m                                Traceback (most recent call last)",
            "\u001b[0;32m<ipython-input-52-7b9c8c80d397>\u001b[0m in \u001b[0;36m<module>\u001b[0;34m()\u001b[0m\n\u001b[1;32m      2\u001b[0m \u001b[0mmarket\u001b[0m\u001b[0;34m=\u001b[0m\u001b[0;34m[\u001b[0m\u001b[0;34m]\u001b[0m\u001b[0;34m\u001b[0m\u001b[0;34m\u001b[0m\u001b[0m\n\u001b[1;32m      3\u001b[0m \u001b[0;32mfor\u001b[0m \u001b[0mi\u001b[0m \u001b[0;32min\u001b[0m \u001b[0mrange\u001b[0m\u001b[0;34m(\u001b[0m\u001b[0;36m1\u001b[0m\u001b[0;34m)\u001b[0m\u001b[0;34m:\u001b[0m\u001b[0;34m\u001b[0m\u001b[0;34m\u001b[0m\u001b[0m\n\u001b[0;32m----> 4\u001b[0;31m  \u001b[0mmarket\u001b[0m\u001b[0;34m[\u001b[0m\u001b[0mi\u001b[0m\u001b[0;34m]\u001b[0m \u001b[0;34m=\u001b[0m \u001b[0md\u001b[0m\u001b[0;34m[\u001b[0m\u001b[0mi\u001b[0m\u001b[0;34m]\u001b[0m\u001b[0;34m[\u001b[0m\u001b[0;34m'market value'\u001b[0m\u001b[0;34m]\u001b[0m\u001b[0;34m\u001b[0m\u001b[0;34m\u001b[0m\u001b[0m\n\u001b[0m\u001b[1;32m      5\u001b[0m  \u001b[0mprint\u001b[0m\u001b[0;34m(\u001b[0m\u001b[0mmarket\u001b[0m\u001b[0;34m[\u001b[0m\u001b[0mi\u001b[0m\u001b[0;34m]\u001b[0m\u001b[0;34m)\u001b[0m\u001b[0;34m\u001b[0m\u001b[0;34m\u001b[0m\u001b[0m\n\u001b[1;32m      6\u001b[0m \u001b[0;31m#for i in range(len(log_price)-1):\u001b[0m\u001b[0;34m\u001b[0m\u001b[0;34m\u001b[0m\u001b[0;34m\u001b[0m\u001b[0m\n",
            "\u001b[0;31mIndexError\u001b[0m: list assignment index out of range"
          ]
        }
      ]
    },
    {
      "cell_type": "code",
      "metadata": {
        "id": "cO1kkQfmFwlj",
        "colab_type": "code",
        "colab": {
          "base_uri": "https://localhost:8080/",
          "height": 314
        },
        "outputId": "3a3aef96-1d9b-4f00-cb5e-500e8d3544b6"
      },
      "source": [
        "my_matrix = np.loadtxt(open(\"1030.csv\"),delimiter=\",\",skiprows=0) "
      ],
      "execution_count": 18,
      "outputs": [
        {
          "output_type": "error",
          "ename": "ValueError",
          "evalue": "ignored",
          "traceback": [
            "\u001b[0;31m---------------------------------------------------------------------------\u001b[0m",
            "\u001b[0;31mValueError\u001b[0m                                Traceback (most recent call last)",
            "\u001b[0;32m<ipython-input-18-d7df2f27aba2>\u001b[0m in \u001b[0;36m<module>\u001b[0;34m()\u001b[0m\n\u001b[0;32m----> 1\u001b[0;31m \u001b[0mmy_matrix\u001b[0m \u001b[0;34m=\u001b[0m \u001b[0mnp\u001b[0m\u001b[0;34m.\u001b[0m\u001b[0mloadtxt\u001b[0m\u001b[0;34m(\u001b[0m\u001b[0mopen\u001b[0m\u001b[0;34m(\u001b[0m\u001b[0;34m\"1030.csv\"\u001b[0m\u001b[0;34m)\u001b[0m\u001b[0;34m,\u001b[0m\u001b[0mdelimiter\u001b[0m\u001b[0;34m=\u001b[0m\u001b[0;34m\",\"\u001b[0m\u001b[0;34m,\u001b[0m\u001b[0mskiprows\u001b[0m\u001b[0;34m=\u001b[0m\u001b[0;36m0\u001b[0m\u001b[0;34m)\u001b[0m\u001b[0;34m\u001b[0m\u001b[0;34m\u001b[0m\u001b[0m\n\u001b[0m",
            "\u001b[0;32m/usr/local/lib/python3.6/dist-packages/numpy/lib/npyio.py\u001b[0m in \u001b[0;36mloadtxt\u001b[0;34m(fname, dtype, comments, delimiter, converters, skiprows, usecols, unpack, ndmin, encoding, max_rows)\u001b[0m\n\u001b[1;32m   1144\u001b[0m         \u001b[0;31m# converting the data\u001b[0m\u001b[0;34m\u001b[0m\u001b[0;34m\u001b[0m\u001b[0;34m\u001b[0m\u001b[0m\n\u001b[1;32m   1145\u001b[0m         \u001b[0mX\u001b[0m \u001b[0;34m=\u001b[0m \u001b[0;32mNone\u001b[0m\u001b[0;34m\u001b[0m\u001b[0;34m\u001b[0m\u001b[0m\n\u001b[0;32m-> 1146\u001b[0;31m         \u001b[0;32mfor\u001b[0m \u001b[0mx\u001b[0m \u001b[0;32min\u001b[0m \u001b[0mread_data\u001b[0m\u001b[0;34m(\u001b[0m\u001b[0m_loadtxt_chunksize\u001b[0m\u001b[0;34m)\u001b[0m\u001b[0;34m:\u001b[0m\u001b[0;34m\u001b[0m\u001b[0;34m\u001b[0m\u001b[0m\n\u001b[0m\u001b[1;32m   1147\u001b[0m             \u001b[0;32mif\u001b[0m \u001b[0mX\u001b[0m \u001b[0;32mis\u001b[0m \u001b[0;32mNone\u001b[0m\u001b[0;34m:\u001b[0m\u001b[0;34m\u001b[0m\u001b[0;34m\u001b[0m\u001b[0m\n\u001b[1;32m   1148\u001b[0m                 \u001b[0mX\u001b[0m \u001b[0;34m=\u001b[0m \u001b[0mnp\u001b[0m\u001b[0;34m.\u001b[0m\u001b[0marray\u001b[0m\u001b[0;34m(\u001b[0m\u001b[0mx\u001b[0m\u001b[0;34m,\u001b[0m \u001b[0mdtype\u001b[0m\u001b[0;34m)\u001b[0m\u001b[0;34m\u001b[0m\u001b[0;34m\u001b[0m\u001b[0m\n",
            "\u001b[0;32m/usr/local/lib/python3.6/dist-packages/numpy/lib/npyio.py\u001b[0m in \u001b[0;36mread_data\u001b[0;34m(chunk_size)\u001b[0m\n\u001b[1;32m   1072\u001b[0m \u001b[0;34m\u001b[0m\u001b[0m\n\u001b[1;32m   1073\u001b[0m             \u001b[0;31m# Convert each value according to its column and store\u001b[0m\u001b[0;34m\u001b[0m\u001b[0;34m\u001b[0m\u001b[0;34m\u001b[0m\u001b[0m\n\u001b[0;32m-> 1074\u001b[0;31m             \u001b[0mitems\u001b[0m \u001b[0;34m=\u001b[0m \u001b[0;34m[\u001b[0m\u001b[0mconv\u001b[0m\u001b[0;34m(\u001b[0m\u001b[0mval\u001b[0m\u001b[0;34m)\u001b[0m \u001b[0;32mfor\u001b[0m \u001b[0;34m(\u001b[0m\u001b[0mconv\u001b[0m\u001b[0;34m,\u001b[0m \u001b[0mval\u001b[0m\u001b[0;34m)\u001b[0m \u001b[0;32min\u001b[0m \u001b[0mzip\u001b[0m\u001b[0;34m(\u001b[0m\u001b[0mconverters\u001b[0m\u001b[0;34m,\u001b[0m \u001b[0mvals\u001b[0m\u001b[0;34m)\u001b[0m\u001b[0;34m]\u001b[0m\u001b[0;34m\u001b[0m\u001b[0;34m\u001b[0m\u001b[0m\n\u001b[0m\u001b[1;32m   1075\u001b[0m \u001b[0;34m\u001b[0m\u001b[0m\n\u001b[1;32m   1076\u001b[0m             \u001b[0;31m# Then pack it according to the dtype's nesting\u001b[0m\u001b[0;34m\u001b[0m\u001b[0;34m\u001b[0m\u001b[0;34m\u001b[0m\u001b[0m\n",
            "\u001b[0;32m/usr/local/lib/python3.6/dist-packages/numpy/lib/npyio.py\u001b[0m in \u001b[0;36m<listcomp>\u001b[0;34m(.0)\u001b[0m\n\u001b[1;32m   1072\u001b[0m \u001b[0;34m\u001b[0m\u001b[0m\n\u001b[1;32m   1073\u001b[0m             \u001b[0;31m# Convert each value according to its column and store\u001b[0m\u001b[0;34m\u001b[0m\u001b[0;34m\u001b[0m\u001b[0;34m\u001b[0m\u001b[0m\n\u001b[0;32m-> 1074\u001b[0;31m             \u001b[0mitems\u001b[0m \u001b[0;34m=\u001b[0m \u001b[0;34m[\u001b[0m\u001b[0mconv\u001b[0m\u001b[0;34m(\u001b[0m\u001b[0mval\u001b[0m\u001b[0;34m)\u001b[0m \u001b[0;32mfor\u001b[0m \u001b[0;34m(\u001b[0m\u001b[0mconv\u001b[0m\u001b[0;34m,\u001b[0m \u001b[0mval\u001b[0m\u001b[0;34m)\u001b[0m \u001b[0;32min\u001b[0m \u001b[0mzip\u001b[0m\u001b[0;34m(\u001b[0m\u001b[0mconverters\u001b[0m\u001b[0;34m,\u001b[0m \u001b[0mvals\u001b[0m\u001b[0;34m)\u001b[0m\u001b[0;34m]\u001b[0m\u001b[0;34m\u001b[0m\u001b[0;34m\u001b[0m\u001b[0m\n\u001b[0m\u001b[1;32m   1075\u001b[0m \u001b[0;34m\u001b[0m\u001b[0m\n\u001b[1;32m   1076\u001b[0m             \u001b[0;31m# Then pack it according to the dtype's nesting\u001b[0m\u001b[0;34m\u001b[0m\u001b[0;34m\u001b[0m\u001b[0;34m\u001b[0m\u001b[0m\n",
            "\u001b[0;32m/usr/local/lib/python3.6/dist-packages/numpy/lib/npyio.py\u001b[0m in \u001b[0;36mfloatconv\u001b[0;34m(x)\u001b[0m\n\u001b[1;32m    779\u001b[0m         \u001b[0;32mif\u001b[0m \u001b[0;34m'0x'\u001b[0m \u001b[0;32min\u001b[0m \u001b[0mx\u001b[0m\u001b[0;34m:\u001b[0m\u001b[0;34m\u001b[0m\u001b[0;34m\u001b[0m\u001b[0m\n\u001b[1;32m    780\u001b[0m             \u001b[0;32mreturn\u001b[0m \u001b[0mfloat\u001b[0m\u001b[0;34m.\u001b[0m\u001b[0mfromhex\u001b[0m\u001b[0;34m(\u001b[0m\u001b[0mx\u001b[0m\u001b[0;34m)\u001b[0m\u001b[0;34m\u001b[0m\u001b[0;34m\u001b[0m\u001b[0m\n\u001b[0;32m--> 781\u001b[0;31m         \u001b[0;32mreturn\u001b[0m \u001b[0mfloat\u001b[0m\u001b[0;34m(\u001b[0m\u001b[0mx\u001b[0m\u001b[0;34m)\u001b[0m\u001b[0;34m\u001b[0m\u001b[0;34m\u001b[0m\u001b[0m\n\u001b[0m\u001b[1;32m    782\u001b[0m \u001b[0;34m\u001b[0m\u001b[0m\n\u001b[1;32m    783\u001b[0m     \u001b[0mtyp\u001b[0m \u001b[0;34m=\u001b[0m \u001b[0mdtype\u001b[0m\u001b[0;34m.\u001b[0m\u001b[0mtype\u001b[0m\u001b[0;34m\u001b[0m\u001b[0;34m\u001b[0m\u001b[0m\n",
            "\u001b[0;31mValueError\u001b[0m: could not convert string to float: '\\ufeff\"-63'"
          ]
        }
      ]
    },
    {
      "cell_type": "code",
      "metadata": {
        "id": "iQF81BX8GwVE",
        "colab_type": "code",
        "colab": {}
      },
      "source": [
        ""
      ],
      "execution_count": 0,
      "outputs": []
    },
    {
      "cell_type": "code",
      "metadata": {
        "id": "r_bFivEuDlYh",
        "colab_type": "code",
        "colab": {
          "base_uri": "https://localhost:8080/",
          "height": 325
        },
        "outputId": "05854726-7638-49fe-d743-aa16b271eb6d"
      },
      "source": [
        "L0=leverage(d1)\n",
        "L1=leverage(d2)\n",
        "L=[L0,L1] "
      ],
      "execution_count": 11,
      "outputs": [
        {
          "output_type": "error",
          "ename": "TypeError",
          "evalue": "ignored",
          "traceback": [
            "\u001b[0;31m---------------------------------------------------------------------------\u001b[0m",
            "\u001b[0;31mTypeError\u001b[0m                                 Traceback (most recent call last)",
            "\u001b[0;32m<ipython-input-11-8bfad5896317>\u001b[0m in \u001b[0;36m<module>\u001b[0;34m()\u001b[0m\n\u001b[0;32m----> 1\u001b[0;31m \u001b[0mL0\u001b[0m\u001b[0;34m=\u001b[0m\u001b[0mleverage\u001b[0m\u001b[0;34m(\u001b[0m\u001b[0md1\u001b[0m\u001b[0;34m)\u001b[0m\u001b[0;34m\u001b[0m\u001b[0;34m\u001b[0m\u001b[0m\n\u001b[0m\u001b[1;32m      2\u001b[0m \u001b[0mL1\u001b[0m\u001b[0;34m=\u001b[0m\u001b[0mleverage\u001b[0m\u001b[0;34m(\u001b[0m\u001b[0md2\u001b[0m\u001b[0;34m)\u001b[0m\u001b[0;34m\u001b[0m\u001b[0;34m\u001b[0m\u001b[0m\n\u001b[1;32m      3\u001b[0m \u001b[0mL\u001b[0m\u001b[0;34m=\u001b[0m\u001b[0;34m[\u001b[0m\u001b[0mL0\u001b[0m\u001b[0;34m,\u001b[0m\u001b[0mL1\u001b[0m\u001b[0;34m]\u001b[0m\u001b[0;34m\u001b[0m\u001b[0;34m\u001b[0m\u001b[0m\n",
            "\u001b[0;32m<ipython-input-10-ed1f29dba662>\u001b[0m in \u001b[0;36mleverage\u001b[0;34m(n)\u001b[0m\n\u001b[1;32m      3\u001b[0m   \u001b[0mb\u001b[0m\u001b[0;34m=\u001b[0m\u001b[0;36m0\u001b[0m\u001b[0;34m\u001b[0m\u001b[0;34m\u001b[0m\u001b[0m\n\u001b[1;32m      4\u001b[0m   \u001b[0;32mfor\u001b[0m \u001b[0mi\u001b[0m \u001b[0;32min\u001b[0m \u001b[0mn\u001b[0m\u001b[0;34m:\u001b[0m\u001b[0;34m\u001b[0m\u001b[0;34m\u001b[0m\u001b[0m\n\u001b[0;32m----> 5\u001b[0;31m     \u001b[0;32mif\u001b[0m \u001b[0mi\u001b[0m\u001b[0;34m>\u001b[0m\u001b[0;36m0\u001b[0m\u001b[0;34m:\u001b[0m\u001b[0;34m\u001b[0m\u001b[0;34m\u001b[0m\u001b[0m\n\u001b[0m\u001b[1;32m      6\u001b[0m       \u001b[0ma\u001b[0m\u001b[0;34m=\u001b[0m\u001b[0ma\u001b[0m\u001b[0;34m+\u001b[0m\u001b[0mi\u001b[0m\u001b[0;34m\u001b[0m\u001b[0;34m\u001b[0m\u001b[0m\n\u001b[1;32m      7\u001b[0m     \u001b[0;32melse\u001b[0m\u001b[0;34m:\u001b[0m\u001b[0;34m\u001b[0m\u001b[0;34m\u001b[0m\u001b[0m\n",
            "\u001b[0;31mTypeError\u001b[0m: '>' not supported between instances of 'str' and 'int'"
          ]
        }
      ]
    },
    {
      "cell_type": "code",
      "metadata": {
        "id": "HzbxjFhvFQQP",
        "colab_type": "code",
        "colab": {}
      },
      "source": [
        "day=['10/30','10/31']\n",
        "plt.bar(range(len(L)), L ,tick_label=day,facecolor = 'blue')\n",
        "plt.text(a, b-20000, '%.0f' % b, ha='center', va= 'bottom',fontsize=11)\n",
        "plt.xlabel(\"trading day\") \n",
        "plt.ylabel(\"leverage ratio\") \n",
        "plt.title(\"leverage ratio for portfolio\")\n",
        "plt.show()"
      ],
      "execution_count": 0,
      "outputs": []
    },
    {
      "cell_type": "code",
      "metadata": {
        "id": "BMujjNtzFLCP",
        "colab_type": "code",
        "colab": {}
      },
      "source": [
        "day=['10/30','11/7','11/18','11/25','12/2']\n",
        "plt.bar(range(len(L)), L ,tick_label=day,facecolor = 'blue')\n",
        "plt.text(a, b-20000, '%.0f' % b, ha='center', va= 'bottom',fontsize=11)\n",
        "plt.xlabel(\"trading day\") \n",
        "plt.ylabel(\"leverage ratio\") \n",
        "plt.title(\"leverage ratio for portfolio\")\n",
        "plt.show()"
      ],
      "execution_count": 0,
      "outputs": []
    }
  ]
}
