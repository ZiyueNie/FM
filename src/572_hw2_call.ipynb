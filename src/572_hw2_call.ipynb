{
  "nbformat": 4,
  "nbformat_minor": 0,
  "metadata": {
    "colab": {
      "name": "572_hw2_call.ipynb",
      "version": "0.3.2",
      "provenance": [],
      "collapsed_sections": [],
      "include_colab_link": true
    },
    "kernelspec": {
      "name": "python3",
      "display_name": "Python 3"
    }
  },
  "cells": [
    {
      "cell_type": "markdown",
      "metadata": {
        "id": "view-in-github",
        "colab_type": "text"
      },
      "source": [
        "<a href=\"https://colab.research.google.com/github/ZiyueNie/FM/blob/master/src/572_hw2_call.ipynb\" target=\"_parent\"><img src=\"https://colab.research.google.com/assets/colab-badge.svg\" alt=\"Open In Colab\"/></a>"
      ]
    },
    {
      "metadata": {
        "id": "rULOYWJrdGe8",
        "colab_type": "text"
      },
      "cell_type": "markdown",
      "source": [
        "The objective is to get familiar with model calibration.\n",
        "- download  today's call option prices of your favorite stock with maturity $T_1$ and several near the money strikes $(K_1, \\ldots, K_n)$.\n",
        "- compute IV with your bsm price engine for each option price. You are going to use USD Libor 3-month for your interest rate input. \n",
        "- plot a figure of strike v.s. IV. Do you find any volatility smile? \n",
        "- calibrate bsm volatility for the option prices, denote it by $\\hat \\sigma$. You may use any error function for the calibration purpose.\n",
        "- reproduce option prices using your price engine with calibrated volatility, then compare how close they are to the market prices.\n"
      ]
    },
    {
      "metadata": {
        "id": "VgXkK5X2aAPU",
        "colab_type": "text"
      },
      "cell_type": "markdown",
      "source": [
        ""
      ]
    },
    {
      "metadata": {
        "id": "Q6Z73aDt9jgv",
        "colab_type": "code",
        "outputId": "27631bd8-4be8-4f5d-ff41-963b3cc3fb43",
        "colab": {
          "base_uri": "https://localhost:8080/",
          "height": 139
        }
      },
      "cell_type": "code",
      "source": [
        "!git clone https://github.com/ZiyueNie/19ma573ZiyueNie"
      ],
      "execution_count": 2,
      "outputs": [
        {
          "output_type": "stream",
          "text": [
            "Cloning into '19ma573ZiyueNie'...\n",
            "remote: Enumerating objects: 70, done.\u001b[K\n",
            "remote: Counting objects: 100% (70/70), done.\u001b[K\n",
            "remote: Compressing objects: 100% (70/70), done.\u001b[K\n",
            "remote: Total 225 (delta 25), reused 0 (delta 0), pack-reused 155\u001b[K\n",
            "Receiving objects: 100% (225/225), 390.05 KiB | 8.48 MiB/s, done.\n",
            "Resolving deltas: 100% (86/86), done.\n"
          ],
          "name": "stdout"
        }
      ]
    },
    {
      "metadata": {
        "id": "A-BhVnN49jvJ",
        "colab_type": "code",
        "outputId": "e5476fcf-a8bf-4eaa-ef0a-555bf3792f12",
        "colab": {
          "base_uri": "https://localhost:8080/",
          "height": 35
        }
      },
      "cell_type": "code",
      "source": [
        "cd 19ma573ZiyueNie/src/"
      ],
      "execution_count": 3,
      "outputs": [
        {
          "output_type": "stream",
          "text": [
            "/content/19ma573ZiyueNie/src\n"
          ],
          "name": "stdout"
        }
      ]
    },
    {
      "metadata": {
        "id": "InYwzfb19j6g",
        "colab_type": "code",
        "colab": {}
      },
      "cell_type": "code",
      "source": [
        "from european_options import VanillaOption\n",
        "from gbm import Gbm"
      ],
      "execution_count": 0,
      "outputs": []
    },
    {
      "metadata": {
        "id": "joZ7S57iaE_d",
        "colab_type": "code",
        "colab": {}
      },
      "cell_type": "code",
      "source": [
        "import matplotlib.pyplot as plt\n",
        "import numpy as np\n",
        "import scipy.optimize as so\n",
        "import pandas as pd\n",
        "import math\n",
        "import scipy.stats as ss\n"
      ],
      "execution_count": 0,
      "outputs": []
    },
    {
      "metadata": {
        "id": "YE8-2nMikFBc",
        "colab_type": "code",
        "colab": {
          "base_uri": "https://localhost:8080/",
          "height": 357
        },
        "outputId": "91142b6b-7765-494a-8881-c312a7dabc24"
      },
      "cell_type": "code",
      "source": [
        "def error_function(vol, gbm, option):\n",
        "  gbm.vol_ratio = vol\n",
        "  return np.abs(option.market_price - gbm.bsm_price(option))\n",
        "\n",
        "def implied_volatility(gbm,option): \n",
        "  init_vol=0.1 #initial guess\n",
        "  return so.fmin(error_function, init_vol, args = (gbm, option), disp = 0)[0]\n",
        "\n",
        "def implied_volatility_list(S0,interest_rate,sigma_H,sigma_L,otype,strike_prices, maturity_time):\n",
        "  gbm1= gbm.Gbm(init_state = S0,\n",
        "                 drift_ratio = interest_rate,\n",
        "               )\n",
        "  \n",
        "  option=[]\n",
        "  for i in range(len(strike_prices)):\n",
        "    option1= VanillaOption(\n",
        "      otype = otype, # 1: 'call'\n",
        "                # -1: 'put'\n",
        "      strike = strike_prices[i],                \n",
        "      maturity = maturity_time,\n",
        "      market_price=SVM(S0,interest_rate,sigma_H,sigma_L,otype,strike_prices[i], maturity_time)\n",
        "      )\n",
        "    option.append(option1)\n",
        "\n",
        "  #compute implied vols\n",
        "  implied_volatility_me=[]\n",
        "  for i in range(len(option)):\n",
        "      implied_volatility_me.append(implied_volatility(gbm1,option[i]))\n",
        "  return implied_volatility_me\n",
        "gbm=Gbm()\n",
        "def SVM(S0,interest_rate,sigma_H,sigma_L,otype,strike_prices, maturity_time):\n",
        "    gbm1= gbm.Gbm(init_state = S0,\n",
        "            drift_ratio = interest_rate,\n",
        "            vol_ratio = sigma_H\n",
        "               )\n",
        "    gbm2= gbm.Gbm(init_state = S0,\n",
        "            drift_ratio = interest_rate,\n",
        "            vol_ratio = sigma_L\n",
        "               )\n",
        "    option1= VanillaOption(\n",
        "      otype = otype, # 1: 'call'\n",
        "                # -1: 'put'\n",
        "      strike = strike_prices,                \n",
        "      maturity = maturity_time,\n",
        "      )\n",
        "    return (1/2)*gbm.bsm_price(gbm1,option1)+(1/2)*gbm.bsm_price(gbm2,option1)\n",
        "\n",
        "def delta(s0,strike_prices,r,sigma,maturity,otype):\n",
        "  delta=[]\n",
        "  for i in range(len(sigma)):\n",
        "    d1 = (np.log(s0 / strike_prices[i]) + (r + 0.5 * sigma[i] ** 2)* maturity) / (sigma[i] * np.sqrt(maturity))\n",
        "    delta.append(ss.norm.cdf(otype * d1))\n",
        "  return delta\n",
        "\n",
        "'''=================\n",
        "Problem2_1\n",
        "================='''\n",
        "strike_price=[i for i in range(50,160,10)] #K\n",
        "call_implied_volatility=implied_volatility_list(100,0.02,0.3,0.15,1,strike_price,1)\n",
        "put_implied_volatility=implied_volatility_list(100,0.02,0.3,0.15,-1,strike_price,1)\n",
        "plt.plot(strike_price,call_implied_volatility,label='call_implied_volatility')\n",
        "plt.plot(strike_price,put_implied_volatility,label='put_implied_volatility')\n",
        "plt.ylabel('implied vol')\n",
        "plt.xlabel('strike')\n",
        "plt.legend()\n",
        "plt.show()\n",
        "'''===============\n",
        "Problem2_2\n",
        "================='''\n",
        "S0=100\n",
        "r=0.02\n",
        "maturity_time=1\n",
        "plt.plot(S0/((math.e**(-r*maturity_time))*np.array(strike_price)),call_implied_volatility,label='Log_moneyness_call')\n",
        "plt.plot(S0/((math.e**(-r*maturity_time))*np.array(strike_price)),put_implied_volatility,label='Log_moneyness_put')\n",
        "plt.ylabel('implied vol')\n",
        "plt.xlabel('Log_moneyness')\n",
        "plt.legend()\n",
        "plt.show()\n",
        "'''===============\n",
        "Problem1_3 call\n",
        "================='''\n",
        "plt.plot(delta(S0,strike_price,r,call_implied_volatility,maturity_time,1),call_implied_volatility,label='delta_call')\n",
        "plt.plot(delta(S0,strike_price,r,put_implied_volatility,maturity_time,-1),put_implied_volatility,label='delta_put')\n",
        "plt.ylabel('implied vol')\n",
        "plt.xlabel('delta')\n",
        "plt.legend()\n",
        "plt.show()\n"
      ],
      "execution_count": 28,
      "outputs": [
        {
          "output_type": "error",
          "ename": "AttributeError",
          "evalue": "ignored",
          "traceback": [
            "\u001b[0;31m---------------------------------------------------------------------------\u001b[0m",
            "\u001b[0;31mAttributeError\u001b[0m                            Traceback (most recent call last)",
            "\u001b[0;32m<ipython-input-28-7c2bd7d59a86>\u001b[0m in \u001b[0;36m<module>\u001b[0;34m()\u001b[0m\n\u001b[1;32m     57\u001b[0m ================='''\n\u001b[1;32m     58\u001b[0m \u001b[0mstrike_price\u001b[0m\u001b[0;34m=\u001b[0m\u001b[0;34m[\u001b[0m\u001b[0mi\u001b[0m \u001b[0;32mfor\u001b[0m \u001b[0mi\u001b[0m \u001b[0;32min\u001b[0m \u001b[0mrange\u001b[0m\u001b[0;34m(\u001b[0m\u001b[0;36m50\u001b[0m\u001b[0;34m,\u001b[0m\u001b[0;36m160\u001b[0m\u001b[0;34m,\u001b[0m\u001b[0;36m10\u001b[0m\u001b[0;34m)\u001b[0m\u001b[0;34m]\u001b[0m \u001b[0;31m#K\u001b[0m\u001b[0;34m\u001b[0m\u001b[0;34m\u001b[0m\u001b[0m\n\u001b[0;32m---> 59\u001b[0;31m \u001b[0mcall_implied_volatility\u001b[0m\u001b[0;34m=\u001b[0m\u001b[0mimplied_volatility_list\u001b[0m\u001b[0;34m(\u001b[0m\u001b[0;36m100\u001b[0m\u001b[0;34m,\u001b[0m\u001b[0;36m0.02\u001b[0m\u001b[0;34m,\u001b[0m\u001b[0;36m0.3\u001b[0m\u001b[0;34m,\u001b[0m\u001b[0;36m0.15\u001b[0m\u001b[0;34m,\u001b[0m\u001b[0;36m1\u001b[0m\u001b[0;34m,\u001b[0m\u001b[0mstrike_price\u001b[0m\u001b[0;34m,\u001b[0m\u001b[0;36m1\u001b[0m\u001b[0;34m)\u001b[0m\u001b[0;34m\u001b[0m\u001b[0;34m\u001b[0m\u001b[0m\n\u001b[0m\u001b[1;32m     60\u001b[0m \u001b[0mput_implied_volatility\u001b[0m\u001b[0;34m=\u001b[0m\u001b[0mimplied_volatility_list\u001b[0m\u001b[0;34m(\u001b[0m\u001b[0;36m100\u001b[0m\u001b[0;34m,\u001b[0m\u001b[0;36m0.02\u001b[0m\u001b[0;34m,\u001b[0m\u001b[0;36m0.3\u001b[0m\u001b[0;34m,\u001b[0m\u001b[0;36m0.15\u001b[0m\u001b[0;34m,\u001b[0m\u001b[0;34m-\u001b[0m\u001b[0;36m1\u001b[0m\u001b[0;34m,\u001b[0m\u001b[0mstrike_price\u001b[0m\u001b[0;34m,\u001b[0m\u001b[0;36m1\u001b[0m\u001b[0;34m)\u001b[0m\u001b[0;34m\u001b[0m\u001b[0;34m\u001b[0m\u001b[0m\n\u001b[1;32m     61\u001b[0m \u001b[0mplt\u001b[0m\u001b[0;34m.\u001b[0m\u001b[0mplot\u001b[0m\u001b[0;34m(\u001b[0m\u001b[0mstrike_price\u001b[0m\u001b[0;34m,\u001b[0m\u001b[0mcall_implied_volatility\u001b[0m\u001b[0;34m,\u001b[0m\u001b[0mlabel\u001b[0m\u001b[0;34m=\u001b[0m\u001b[0;34m'call_implied_volatility'\u001b[0m\u001b[0;34m)\u001b[0m\u001b[0;34m\u001b[0m\u001b[0;34m\u001b[0m\u001b[0m\n",
            "\u001b[0;32m<ipython-input-28-7c2bd7d59a86>\u001b[0m in \u001b[0;36mimplied_volatility_list\u001b[0;34m(S0, interest_rate, sigma_H, sigma_L, otype, strike_prices, maturity_time)\u001b[0m\n\u001b[1;32m      8\u001b[0m \u001b[0;34m\u001b[0m\u001b[0m\n\u001b[1;32m      9\u001b[0m \u001b[0;32mdef\u001b[0m \u001b[0mimplied_volatility_list\u001b[0m\u001b[0;34m(\u001b[0m\u001b[0mS0\u001b[0m\u001b[0;34m,\u001b[0m\u001b[0minterest_rate\u001b[0m\u001b[0;34m,\u001b[0m\u001b[0msigma_H\u001b[0m\u001b[0;34m,\u001b[0m\u001b[0msigma_L\u001b[0m\u001b[0;34m,\u001b[0m\u001b[0motype\u001b[0m\u001b[0;34m,\u001b[0m\u001b[0mstrike_prices\u001b[0m\u001b[0;34m,\u001b[0m \u001b[0mmaturity_time\u001b[0m\u001b[0;34m)\u001b[0m\u001b[0;34m:\u001b[0m\u001b[0;34m\u001b[0m\u001b[0;34m\u001b[0m\u001b[0m\n\u001b[0;32m---> 10\u001b[0;31m   gbm1= gbm.Gbm(init_state = S0,\n\u001b[0m\u001b[1;32m     11\u001b[0m                  \u001b[0mdrift_ratio\u001b[0m \u001b[0;34m=\u001b[0m \u001b[0minterest_rate\u001b[0m\u001b[0;34m,\u001b[0m\u001b[0;34m\u001b[0m\u001b[0;34m\u001b[0m\u001b[0m\n\u001b[1;32m     12\u001b[0m                )\n",
            "\u001b[0;31mAttributeError\u001b[0m: 'Gbm' object has no attribute 'Gbm'"
          ]
        }
      ]
    },
    {
      "metadata": {
        "id": "uPeXajT1aFl3",
        "colab_type": "code",
        "colab": {}
      },
      "cell_type": "code",
      "source": [
        "'''==============\n",
        "below are from the market data for underlying process\n",
        "================='''\n",
        "#Int_rates=2.73263/100.0   #3 month US Dollar LIBOR interest rate\n",
        "gbm1 = Gbm(\n",
        "    init_state =100, #today's starbucks stock price\n",
        "    drift_ratio =0.02, \n",
        "    vol_ratio= 0.1\n",
        "    #vol_ratio2= 0.3 #initial guess\n",
        ")"
      ],
      "execution_count": 0,
      "outputs": []
    },
    {
      "metadata": {
        "id": "Uqw03Oj97no2",
        "colab_type": "code",
        "colab": {}
      },
      "cell_type": "code",
      "source": [
        "def bsm_price1(self, vanilla_option):\n",
        "    s0 = self.init_state\n",
        "    sigma1 = 0.15\n",
        "    sigma2 = 0.3\n",
        "    r = self.drift_ratio\n",
        "    \n",
        "    otype = vanilla_option.otype\n",
        "    k = vanilla_option.strike\n",
        "    maturity = vanilla_option.maturity\n",
        "    \n",
        "    d1 = (np.log(s0 / k) + (r + 0.5 * sigma1 ** 2) \n",
        "          * maturity) / (sigma1 * np.sqrt(maturity))\n",
        "    d2 = d1 - sigma1 * np.sqrt(maturity)\n",
        "    d3 = (np.log(s0 / k) + (r + 0.5 * sigma2 ** 2) \n",
        "          * maturity) / (sigma2 * np.sqrt(maturity))\n",
        "    d4 = d1 - sigma2 * np.sqrt(maturity)\n",
        "    \n",
        "    return ((1/2)*(otype * s0 * ss.norm.cdf(otype * d1) #line break needs parenthesis\n",
        "            - otype * np.exp(-r * maturity) * k * ss.norm.cdf(otype * d2)+otype * s0 * ss.norm.cdf(otype * d3) #line break needs parenthesis\n",
        "            - otype * np.exp(-r * maturity) * k * ss.norm.cdf(otype * d4)))\n",
        "\n",
        "Gbm.bsm_price1 = bsm_price1"
      ],
      "execution_count": 0,
      "outputs": []
    },
    {
      "metadata": {
        "id": "x87Lq0AN7wPi",
        "colab_type": "code",
        "colab": {
          "base_uri": "https://localhost:8080/",
          "height": 173
        },
        "outputId": "8e365957-2815-4adf-eff1-4d201dcd22f5"
      },
      "cell_type": "code",
      "source": [
        "gbm1 = Gbm()\n",
        "option1 = VanillaOption(strike=np.linspace(50,150,11))\n",
        "print('>>>>>>>>>>call value is ' + str(gbm1.bsm_price1(option1)))\n",
        "option2 = VanillaOption(otype=-1,strike=np.linspace(50,150,11))\n",
        "print('>>>>>>>>>>put value is ' + str(gbm1.bsm_price1(option2)))\n",
        "print(gbm1.bsm_price1(option1))\n",
        "gbm1.bsm_price1(option1)"
      ],
      "execution_count": 20,
      "outputs": [
        {
          "output_type": "stream",
          "text": [
            ">>>>>>>>>>call value is [52.09892219 41.68232056 30.12145298 18.66452208 11.15854835  9.69734855\n",
            " 11.4214534  12.45245615 11.5459406   9.44191312  7.1241268 ]\n",
            ">>>>>>>>>>put value is [-0.22055415 -1.10105105 -3.1258139  -5.04664007 -3.01650907  5.05839586\n",
            " 16.31860544 26.88571293 35.51530211 42.94737936 50.16569777]\n",
            "[52.09892219 41.68232056 30.12145298 18.66452208 11.15854835  9.69734855\n",
            " 11.4214534  12.45245615 11.5459406   9.44191312  7.1241268 ]\n"
          ],
          "name": "stdout"
        },
        {
          "output_type": "execute_result",
          "data": {
            "text/plain": [
              "array([52.09892219, 41.68232056, 30.12145298, 18.66452208, 11.15854835,\n",
              "        9.69734855, 11.4214534 , 12.45245615, 11.5459406 ,  9.44191312,\n",
              "        7.1241268 ])"
            ]
          },
          "metadata": {
            "tags": []
          },
          "execution_count": 20
        }
      ]
    },
    {
      "metadata": {
        "id": "H_ULRD6BeRs-",
        "colab_type": "code",
        "colab": {}
      },
      "cell_type": "code",
      "source": [
        "def bsm_price(self, vanilla_option):\n",
        "    s0 = self.init_state\n",
        "    sigma = self.init_state\n",
        "    r = self.drift_ratio\n",
        "    \n",
        "    otype = vanilla_option.otype\n",
        "    k = vanilla_option.strike\n",
        "    maturity = vanilla_option.maturity\n",
        "    \n",
        "    d1 = (np.log(s0 / k) + (r + 0.5 * sigma ** 2) \n",
        "          * maturity) / (sigma * np.sqrt(maturity))\n",
        "    d2 = d1 - sigma * np.sqrt(maturity)\n",
        "    \n",
        "    return (otype * s0 * ss.norm.cdf(otype * d1) #line break needs parenthesis\n",
        "            - otype * np.exp(-r * maturity) * k * ss.norm.cdf(otype * d2))\n",
        "\n",
        "Gbm.bsm_price = bsm_price"
      ],
      "execution_count": 0,
      "outputs": []
    },
    {
      "metadata": {
        "id": "LyAqZvKfef39",
        "colab_type": "code",
        "colab": {
          "base_uri": "https://localhost:8080/",
          "height": 55
        },
        "outputId": "5fd4b87d-e136-4fe4-e2e2-e1e7efd456ea"
      },
      "cell_type": "code",
      "source": [
        "'''gbm2 = Gbm()\n",
        "option1 = VanillaOption(strike=np.linspace(50,150,11))\n",
        "print('>>>>>>>>>>call value is ' + str(gbm2.bsm_price(option1)))\n",
        "option2 = VanillaOption(otype=-1,strike=np.linspace(50,150,11))\n",
        "print('>>>>>>>>>>put value is ' + str(gbm2.bsm_price(option2)))'''"
      ],
      "execution_count": 10,
      "outputs": [
        {
          "output_type": "execute_result",
          "data": {
            "text/plain": [
              "\"gbm2 = Gbm()\\noption1 = VanillaOption(strike=np.linspace(50,150,11))\\nprint('>>>>>>>>>>call value is ' + str(gbm2.bsm_price(option1)))\\noption2 = VanillaOption(otype=-1,strike=np.linspace(50,150,11))\\nprint('>>>>>>>>>>put value is ' + str(gbm2.bsm_price(option2)))\""
            ]
          },
          "metadata": {
            "tags": []
          },
          "execution_count": 10
        }
      ]
    },
    {
      "metadata": {
        "id": "kVx24pnagTHQ",
        "colab_type": "code",
        "colab": {
          "base_uri": "https://localhost:8080/",
          "height": 35
        },
        "outputId": "f27a9696-c998-423a-b8e4-e3950f0f82d0"
      },
      "cell_type": "code",
      "source": [
        "'''================\n",
        "define an error function\n",
        "===================='''\n",
        "def error_function(vol, gbm, option):\n",
        "  gbm.vol_ratio = vol\n",
        "  return np.abs(gbm1.bsm_price(option)-gbm1.bsm_price1(option1)) #bsm_price is call price? what is market_price\n",
        "\n",
        "'''==========\n",
        "define a method to seek for an implied volatility\n",
        "============'''\n",
        "\n",
        "def implied_volatility(gbm, option):\n",
        "  init_vol = .1 #initial guess\n",
        "  return so.fmin(error_function, init_vol, args = (gbm, option), disp = 0)[0]\n",
        "np.abs(gbm1.bsm_price1(option1) - gbm1.bsm_price(option1))\n",
        "gbm1.bsm_price(option1)\n"
      ],
      "execution_count": 26,
      "outputs": [
        {
          "output_type": "execute_result",
          "data": {
            "text/plain": [
              "<european_options.VanillaOption at 0x7fa14a9a3ac8>"
            ]
          },
          "metadata": {
            "tags": []
          },
          "execution_count": 26
        }
      ]
    },
    {
      "metadata": {
        "id": "F9VpwzgVbmI2",
        "colab_type": "code",
        "colab": {}
      },
      "cell_type": "code",
      "source": [
        "option_list = []\n",
        "option1= VanillaOption(\n",
        "      otype = 1,\n",
        "     strike = np.linspace(50,150,11), \n",
        "      maturity = 1,\n",
        "      #market_price=call_option_data1['Last Price'][i] \n",
        "      )\n",
        "option_list.append(option1)"
      ],
      "execution_count": 0,
      "outputs": []
    },
    {
      "metadata": {
        "id": "RfxA8R7XhMJ3",
        "colab_type": "code",
        "outputId": "189922f6-802e-4eac-fb95-bcc051440850",
        "colab": {
          "base_uri": "https://localhost:8080/",
          "height": 235
        }
      },
      "cell_type": "code",
      "source": [
        "data3=[]\n",
        "aa=np.array(gbm1.bsm_price1(option1))\n",
        "for i in range(len(aa)):\n",
        "  a = implied_volatility(gbm1, option_list[i])\n",
        "  data3.append(a)\n",
        "print(data3)\n",
        "#data2=data2.append(data3)'''\n",
        "#data3=implied_volatility(gbm1,option_list)\n",
        "\n",
        "aa\n"
      ],
      "execution_count": 15,
      "outputs": [
        {
          "output_type": "error",
          "ename": "TypeError",
          "evalue": "ignored",
          "traceback": [
            "\u001b[0;31m---------------------------------------------------------------------------\u001b[0m",
            "\u001b[0;31mTypeError\u001b[0m                                 Traceback (most recent call last)",
            "\u001b[0;32m<ipython-input-15-d2868356f850>\u001b[0m in \u001b[0;36m<module>\u001b[0;34m()\u001b[0m\n\u001b[1;32m      1\u001b[0m \u001b[0mdata3\u001b[0m\u001b[0;34m=\u001b[0m\u001b[0;34m[\u001b[0m\u001b[0;34m]\u001b[0m\u001b[0;34m\u001b[0m\u001b[0;34m\u001b[0m\u001b[0m\n\u001b[0;32m----> 2\u001b[0;31m \u001b[0maa\u001b[0m\u001b[0;34m=\u001b[0m\u001b[0mnp\u001b[0m\u001b[0;34m.\u001b[0m\u001b[0marray\u001b[0m\u001b[0;34m[\u001b[0m\u001b[0;34m(\u001b[0m\u001b[0mgbm1\u001b[0m\u001b[0;34m.\u001b[0m\u001b[0mbsm_price1\u001b[0m\u001b[0;34m(\u001b[0m\u001b[0moption1\u001b[0m\u001b[0;34m)\u001b[0m\u001b[0;34m)\u001b[0m\u001b[0;34m]\u001b[0m\u001b[0;34m\u001b[0m\u001b[0;34m\u001b[0m\u001b[0m\n\u001b[0m\u001b[1;32m      3\u001b[0m \u001b[0;32mfor\u001b[0m \u001b[0mi\u001b[0m \u001b[0;32min\u001b[0m \u001b[0mrange\u001b[0m\u001b[0;34m(\u001b[0m\u001b[0mlen\u001b[0m\u001b[0;34m(\u001b[0m\u001b[0maa\u001b[0m\u001b[0;34m)\u001b[0m\u001b[0;34m)\u001b[0m\u001b[0;34m:\u001b[0m\u001b[0;34m\u001b[0m\u001b[0;34m\u001b[0m\u001b[0m\n\u001b[1;32m      4\u001b[0m   \u001b[0ma\u001b[0m \u001b[0;34m=\u001b[0m \u001b[0mimplied_volatility\u001b[0m\u001b[0;34m(\u001b[0m\u001b[0mgbm1\u001b[0m\u001b[0;34m,\u001b[0m \u001b[0moption_list\u001b[0m\u001b[0;34m[\u001b[0m\u001b[0mi\u001b[0m\u001b[0;34m]\u001b[0m\u001b[0;34m)\u001b[0m\u001b[0;34m\u001b[0m\u001b[0;34m\u001b[0m\u001b[0m\n\u001b[1;32m      5\u001b[0m   \u001b[0mdata3\u001b[0m\u001b[0;34m.\u001b[0m\u001b[0mappend\u001b[0m\u001b[0;34m(\u001b[0m\u001b[0ma\u001b[0m\u001b[0;34m)\u001b[0m\u001b[0;34m\u001b[0m\u001b[0;34m\u001b[0m\u001b[0m\n",
            "\u001b[0;31mTypeError\u001b[0m: 'builtin_function_or_method' object is not subscriptable"
          ]
        }
      ]
    },
    {
      "metadata": {
        "id": "UzRyj6rzgXhZ",
        "colab_type": "code",
        "colab": {}
      },
      "cell_type": "code",
      "source": [
        "plt.plot(call_option_data1['Strike'],data3,label='call implied volatility')\n",
        "plt.ylabel('implied vol')\n",
        "plt.xlabel('strike')\n",
        "plt.legend()"
      ],
      "execution_count": 0,
      "outputs": []
    },
    {
      "metadata": {
        "id": "3Q3o86Obnyyh",
        "colab_type": "code",
        "colab": {}
      },
      "cell_type": "code",
      "source": [
        "#data4=[]\n",
        "#for i in range(len(call_option_data1['Strike'])):\n",
        "c=call_option_data1['Strike']\n",
        "#c=np.array(c)\n",
        "data4 = np.log(67.58/(c*np.exp(-2.73263/100.0*T_1)))\n",
        "#data4.append(b)\n",
        "#print(c)\n",
        "#print(data4)\n",
        "data4  #type(c) shift+enter\n"
      ],
      "execution_count": 0,
      "outputs": []
    },
    {
      "metadata": {
        "id": "Q0NrregorjVR",
        "colab_type": "code",
        "colab": {}
      },
      "cell_type": "code",
      "source": [
        "plt.plot(data4,data3,label='call implied volatility')\n",
        "plt.ylabel('implied vol')\n",
        "plt.xlabel('moneyness')\n",
        "plt.legend()"
      ],
      "execution_count": 0,
      "outputs": []
    },
    {
      "metadata": {
        "id": "gvYqzhR9wOmZ",
        "colab_type": "code",
        "colab": {}
      },
      "cell_type": "code",
      "source": [
        "d1 = (np.log(67.58 / c) + (2.73263/100.0 + 0.5 * 0.06296875000000007 ** 2) \n",
        "          * T_1) / (0.06296875000000007 * np.sqrt(T_1)) #0.06296875000000007 is calibrated volatility\n",
        "data5=ss.norm.cdf(d1)\n",
        "data5"
      ],
      "execution_count": 0,
      "outputs": []
    },
    {
      "metadata": {
        "id": "4EzOXe4SzX_3",
        "colab_type": "code",
        "colab": {}
      },
      "cell_type": "code",
      "source": [
        "plt.plot(data5,data3,label='call implied volatility')\n",
        "plt.ylabel('implied vol')\n",
        "plt.xlabel('delta')\n",
        "plt.legend()"
      ],
      "execution_count": 0,
      "outputs": []
    },
    {
      "metadata": {
        "id": "DcNmMPebgRxV",
        "colab_type": "code",
        "colab": {}
      },
      "cell_type": "code",
      "source": [
        "\n",
        "'''==========\n",
        "define a method for error function\n",
        "============'''\n",
        "\n",
        "def error_function(vol, gbm, option_list):\n",
        "  gbm.vol_ratio = vol\n",
        "  err1 = 0\n",
        "  for i in np.arange(len(option_list)):\n",
        "    err1 = err1 + ((option_list[i]).market_price - gbm.bsm_price(option_list[i]))**2    \n",
        "  return err1"
      ],
      "execution_count": 0,
      "outputs": []
    },
    {
      "metadata": {
        "id": "PP3Yz3MhgR_9",
        "colab_type": "code",
        "colab": {}
      },
      "cell_type": "code",
      "source": [
        "'''==========\n",
        "define a method to seek for a calibrated volatility\n",
        "============'''\n",
        "\n",
        "def bsm_calibration(gbm, option_list):\n",
        "  init_vol = .1 #initial guess\n",
        "  return so.fmin(error_function, init_vol, args = (gbm, option_list), disp = 0)[0]"
      ],
      "execution_count": 0,
      "outputs": []
    },
    {
      "metadata": {
        "id": "E74foUiYgSMQ",
        "colab_type": "code",
        "colab": {}
      },
      "cell_type": "code",
      "source": [
        "\n",
        "# Take options of 2-mon maturity\n",
        "filter1 = list(filter(lambda x: x.maturity == T_1, option_list))\n",
        "calibrated_volatility1 = bsm_calibration(gbm1, filter1)\n",
        "print('>>>>>>>> calibrated_volatility is ' + str(calibrated_volatility1))"
      ],
      "execution_count": 0,
      "outputs": []
    },
    {
      "metadata": {
        "id": "E69sBZXhggYx",
        "colab_type": "code",
        "colab": {}
      },
      "cell_type": "code",
      "source": [
        "gbm1.vol_ratio = calibrated_volatility1\n",
        "\n",
        "#find calibrated option price\n",
        "filter1_calibrated_price = [gbm1.bsm_price(filter1[i]) for i in range(len(filter1))]\n",
        "print('>>>>>>>>> this is option price calculated from calibrated vol')\n",
        "filter1_calibrated_price"
      ],
      "execution_count": 0,
      "outputs": []
    },
    {
      "metadata": {
        "id": "lAYZKSHHggjd",
        "colab_type": "code",
        "colab": {}
      },
      "cell_type": "code",
      "source": [
        "\n",
        "x_co = [filter1[i].strike for i in range(len(filter1))]\n",
        "y_co = [filter1[i].market_price for i in range(len(filter1))]\n",
        "plt.plot(x_co, y_co, 'o', label='market price')\n",
        "\n",
        "y_co = filter1_calibrated_price\n",
        "plt.plot(x_co, y_co, label = 'calib price')\n",
        "\n",
        "plt.ylabel('option price')\n",
        "plt.xlabel('strike')\n",
        "plt.legend();"
      ],
      "execution_count": 0,
      "outputs": []
    },
    {
      "metadata": {
        "id": "vi_x_mMTtf_j",
        "colab_type": "code",
        "colab": {}
      },
      "cell_type": "code",
      "source": [
        "strike"
      ],
      "execution_count": 0,
      "outputs": []
    }
  ]
}