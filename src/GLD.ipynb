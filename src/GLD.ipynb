{
  "nbformat": 4,
  "nbformat_minor": 0,
  "metadata": {
    "colab": {
      "name": "GLD.ipynb",
      "version": "0.3.2",
      "provenance": [],
      "collapsed_sections": [],
      "include_colab_link": true
    },
    "kernelspec": {
      "name": "python3",
      "display_name": "Python 3"
    }
  },
  "cells": [
    {
      "cell_type": "markdown",
      "metadata": {
        "id": "view-in-github",
        "colab_type": "text"
      },
      "source": [
        "<a href=\"https://colab.research.google.com/github/ZiyueNie/FM/blob/master/src/GLD.ipynb\" target=\"_parent\"><img src=\"https://colab.research.google.com/assets/colab-badge.svg\" alt=\"Open In Colab\"/></a>"
      ]
    },
    {
      "cell_type": "code",
      "metadata": {
        "id": "HYz2LwCvT09c",
        "colab_type": "code",
        "colab": {}
      },
      "source": [
        "import matplotlib.pyplot as plt\n",
        "import numpy as np\n",
        "import scipy.optimize as so\n",
        "import pandas as pd\n",
        "import math\n",
        "from scipy import stats"
      ],
      "execution_count": 0,
      "outputs": []
    },
    {
      "cell_type": "code",
      "metadata": {
        "id": "2hSaFcClU1Ye",
        "colab_type": "code",
        "outputId": "b50e2cb9-865c-4d7d-e87b-5c96d132ced6",
        "colab": {
          "base_uri": "https://localhost:8080/",
          "height": 140
        }
      },
      "source": [
        "!git clone https://github.com/ZiyueNie/19ma573ZiyueNie"
      ],
      "execution_count": 100,
      "outputs": [
        {
          "output_type": "stream",
          "text": [
            "Cloning into '19ma573ZiyueNie'...\n",
            "remote: Enumerating objects: 30, done.\u001b[K\n",
            "remote: Counting objects:   3% (1/30)\u001b[K\rremote: Counting objects:   6% (2/30)\u001b[K\rremote: Counting objects:  10% (3/30)\u001b[K\rremote: Counting objects:  13% (4/30)\u001b[K\rremote: Counting objects:  16% (5/30)\u001b[K\rremote: Counting objects:  20% (6/30)\u001b[K\rremote: Counting objects:  23% (7/30)\u001b[K\rremote: Counting objects:  26% (8/30)\u001b[K\rremote: Counting objects:  30% (9/30)\u001b[K\rremote: Counting objects:  33% (10/30)\u001b[K\rremote: Counting objects:  36% (11/30)\u001b[K\rremote: Counting objects:  40% (12/30)\u001b[K\rremote: Counting objects:  43% (13/30)\u001b[K\rremote: Counting objects:  46% (14/30)\u001b[K\rremote: Counting objects:  50% (15/30)\u001b[K\rremote: Counting objects:  53% (16/30)\u001b[K\rremote: Counting objects:  56% (17/30)\u001b[K\rremote: Counting objects:  60% (18/30)\u001b[K\rremote: Counting objects:  63% (19/30)\u001b[K\rremote: Counting objects:  66% (20/30)\u001b[K\rremote: Counting objects:  70% (21/30)\u001b[K\rremote: Counting objects:  73% (22/30)\u001b[K\rremote: Counting objects:  76% (23/30)\u001b[K\rremote: Counting objects:  80% (24/30)\u001b[K\rremote: Counting objects:  83% (25/30)\u001b[K\rremote: Counting objects:  86% (26/30)\u001b[K\rremote: Counting objects:  90% (27/30)\u001b[K\rremote: Counting objects:  93% (28/30)\u001b[K\rremote: Counting objects:  96% (29/30)\u001b[K\rremote: Counting objects: 100% (30/30)\u001b[K\rremote: Counting objects: 100% (30/30), done.\u001b[K\n",
            "remote: Compressing objects: 100% (30/30), done.\u001b[K\n",
            "remote: Total 529 (delta 7), reused 0 (delta 0), pack-reused 499\u001b[K\n",
            "Receiving objects: 100% (529/529), 814.27 KiB | 8.75 MiB/s, done.\n",
            "Resolving deltas: 100% (207/207), done.\n"
          ],
          "name": "stdout"
        }
      ]
    },
    {
      "cell_type": "code",
      "metadata": {
        "id": "S6O1R52jU4Y4",
        "colab_type": "code",
        "outputId": "ef44a6b9-da6b-44d1-ab01-c6445274b3b2",
        "colab": {
          "base_uri": "https://localhost:8080/",
          "height": 34
        }
      },
      "source": [
        "cd 19ma573ZiyueNie/src/\n"
      ],
      "execution_count": 101,
      "outputs": [
        {
          "output_type": "stream",
          "text": [
            "/content/19ma573ZiyueNie/src/19ma573ZiyueNie/src/19ma573ZiyueNie/src/19ma573ZiyueNie/src\n"
          ],
          "name": "stdout"
        }
      ]
    },
    {
      "cell_type": "code",
      "metadata": {
        "id": "ZjCc0-zSU8sI",
        "colab_type": "code",
        "colab": {}
      },
      "source": [
        ""
      ],
      "execution_count": 0,
      "outputs": []
    },
    {
      "cell_type": "code",
      "metadata": {
        "id": "Ex261f_FT6oj",
        "colab_type": "code",
        "outputId": "4cf21b97-bfb9-41ec-b35f-4eaf98f636c7",
        "colab": {
          "base_uri": "https://localhost:8080/",
          "height": 1000
        }
      },
      "source": [
        "'''======\n",
        "Read data\n",
        "========='''\n",
        "#Read two-column data\n",
        "#columns are date,adjusted closing price\n",
        "Data_A = pd.read_csv('GLD year 1.csv')\n",
        "\n",
        "print('>>>>>> data')\n",
        "print(Data_A)"
      ],
      "execution_count": 102,
      "outputs": [
        {
          "output_type": "stream",
          "text": [
            ">>>>>> data\n",
            "           Date   Adj Close\n",
            "0      2017/9/8  127.970001\n",
            "1     2017/9/11  126.190002\n",
            "2     2017/9/12  126.559998\n",
            "3     2017/9/13  125.610001\n",
            "4     2017/9/14  126.160004\n",
            "5     2017/9/15  125.529999\n",
            "6     2017/9/18  124.360001\n",
            "7     2017/9/19  124.620003\n",
            "8     2017/9/20  123.620003\n",
            "9     2017/9/21  122.680000\n",
            "10    2017/9/22  123.239998\n",
            "11    2017/9/25  124.529999\n",
            "12    2017/9/26  123.139999\n",
            "13    2017/9/27  121.980003\n",
            "14    2017/9/28  122.209999\n",
            "15    2017/9/29  121.580002\n",
            "16    2017/10/2  120.769997\n",
            "17    2017/10/3  120.830002\n",
            "18    2017/10/4  121.169998\n",
            "19    2017/10/5  120.519997\n",
            "20    2017/10/6  121.089996\n",
            "21    2017/10/9  122.080002\n",
            "22   2017/10/10  122.400002\n",
            "23   2017/10/11  122.790001\n",
            "24   2017/10/12  122.889999\n",
            "25   2017/10/13  123.820000\n",
            "26   2017/10/16  122.970001\n",
            "27   2017/10/17  122.129997\n",
            "28   2017/10/18  121.669998\n",
            "29   2017/10/19  122.389999\n",
            "..          ...         ...\n",
            "222   2018/7/27  115.830002\n",
            "223   2018/7/30  115.650002\n",
            "224   2018/7/31  115.989998\n",
            "225    2018/8/1  115.139999\n",
            "226    2018/8/2  114.519997\n",
            "227    2018/8/3  114.919998\n",
            "228    2018/8/6  114.330002\n",
            "229    2018/8/7  114.589996\n",
            "230    2018/8/8  114.910004\n",
            "231    2018/8/9  114.739998\n",
            "232   2018/8/10  114.690002\n",
            "233   2018/8/13  112.959999\n",
            "234   2018/8/14  113.070000\n",
            "235   2018/8/15  111.190002\n",
            "236   2018/8/16  111.099998\n",
            "237   2018/8/17  112.129997\n",
            "238   2018/8/20  112.690002\n",
            "239   2018/8/21  113.019997\n",
            "240   2018/8/22  113.269997\n",
            "241   2018/8/23  112.199997\n",
            "242   2018/8/24  114.160004\n",
            "243   2018/8/27  114.589996\n",
            "244   2018/8/28  113.680000\n",
            "245   2018/8/29  114.199997\n",
            "246   2018/8/30  113.639999\n",
            "247   2018/8/31  113.510002\n",
            "248    2018/9/4  112.930000\n",
            "249    2018/9/5  113.320000\n",
            "250    2018/9/6  113.540001\n",
            "251    2018/9/7  113.230003\n",
            "\n",
            "[252 rows x 2 columns]\n"
          ],
          "name": "stdout"
        }
      ]
    },
    {
      "cell_type": "markdown",
      "metadata": {
        "id": "BTGaDhiszPgW",
        "colab_type": "text"
      },
      "source": [
        "Problem3"
      ]
    },
    {
      "cell_type": "code",
      "metadata": {
        "id": "mbtr3h5QWOcL",
        "colab_type": "code",
        "outputId": "0ddb35a7-fd16-4081-dfb5-a8c896762c6a",
        "colab": {
          "base_uri": "https://localhost:8080/",
          "height": 54
        }
      },
      "source": [
        "log_return=[]\n",
        "price = Data_A['Adj Close']\n",
        "log_price=np.log(price)\n",
        "for i in range(len(log_price)-1):\n",
        "  log_return.append(log_price[i+1]-log_price[i])\n",
        "print(log_return)\n"
      ],
      "execution_count": 103,
      "outputs": [
        {
          "output_type": "stream",
          "text": [
            "[-0.014007145749900474, 0.0029277647026262343, -0.007534611556250681, 0.004369097700241298, -0.005006208496658893, -0.009364172632169598, 0.0020885379575341645, -0.008056762690213048, -0.007633029252994028, 0.004554318253918943, 0.010412985202893132, -0.011224731340637284, -0.009464789899720216, 0.0018837468047667727, -0.005168369496622027, -0.0066846133239728545, 0.000496730144719848, 0.0028098861462977354, -0.005378812367728969, 0.00471834836302687, 0.008142546185853305, 0.0026178024992482563, 0.0031812008983127527, 0.0008140508427398885, 0.007539259931938602, -0.006888466774665147, -0.006854404697413052, -0.0037735812575556693, 0.005900213862193304, -0.006393448007728786, 0.0015611686904213329, -0.003866257358587255, 0.00016479314360751118, -0.008440930620327691, 0.0047257890923138035, 0.0019005500985871393, -0.003804793750550317, 0.003639701278534524, 0.000660346693492464, -0.004714445589070415, 0.008502952775802264, -0.0036235154378632117, 0.0034590547331010413, 0.004102401653629961, -0.00822170235707631, 0.001484912034209529, 0.0020587152996709435, -0.0012346710937132244, -8.238540223626245e-05, 0.01195460877526422, -0.012696267578985676, 0.0016473440839304132, 0.009175086930028442, -0.002531105689293156, 0.004160740212863168, -0.0001628724966957762, -0.006289561294470225, -0.007732233998734017, 0.00403806236711457, -0.0033776528940414607, -0.007122183315313002, -0.0020799541589031634, -0.01324635409303987, -8.435666931472241e-05, -0.003974811694898328, 0.0011856369751770401, 0.008596007759416935, -0.002015943580813584, 0.002099870579678864, 0.00460427746629577, 0.0007513838706501019, 0.00266710444261431, 0.0014140073233175343, 0.0052228429604816995, 0.006839423500113462, 0.003770545450757723, 0.005059542354108437, 0.006490927454939843, 0.012058023716494226, -0.0026403343527094947, 0.005114275192032558, -0.0010367001166269318, -0.00015962336452712833, -0.004639226027205012, 0.0024022753192580737, 0.0032738720371474628, 0.012044495795681343, 0.0016526899640183501, -0.008132364997869956, -0.002222207263681497, 0.004439495179746622, 0.0018177110153647646, 0.004961983933601921, 0.012104345154930307, -0.006697852063931364, 0.0007811748317516631, -0.0056378583748726285, -0.0043281200582834245, 0.0066810936929027065, 0.0032848847402533465, -0.013204687348570943, 0.0025286461717630715, -0.010551901000218855, -0.004716769385335162, 0.0015214159715499775, -0.0016817301260871886, 0.004797370678414126, 0.005647252915410128, 0.016908853304562932, 0.0011691595534317756, -0.0032769475641325485, -0.01353286601165049, -0.0046049624479964635, 0.00508017430268648, -0.0012676598016092555, 0.0024545560833759694, -0.010493776489283846, -0.0010394355995959614, -0.00224250453482, 0.005357639459846908, -0.0016761707307733076, 0.010726724801353171, -0.006422206414357312, -0.002389130715096499, 0.0009563516865194188, 0.0, 0.0019099003099940504, -0.0006362494351153103, -0.006384658585510294, -0.0024048428423544266, 0.0021646298500517247, -0.004494790437226115, 0.01730578690556772, -0.00396102861329517, 0.012855557575175425, 0.005236621447244794, -0.006177452566980435, -0.013901139996782774, 0.0004770833347951253, 0.011618395719964703, -0.0075722004110883034, 0.001186896281766714, -0.0051535812774643475, 0.004678988633299852, 0.003396401524868864, 0.0023627875563230205, 0.007757731845925875, -0.011698778865214976, 0.006533608474561525, 0.0014113222056728603, 0.0009397995946596183, 0.0007824570100494199, -0.001957330857154993, -0.007630930465259311, -0.008007923863666555, 0.0048441626231285895, -0.006517261799570129, -0.003514685231728265, 0.004232042072226605, -0.007277444366373231, -0.0070882054141465645, -0.00048509864920731616, 0.005082066336387747, 0.002089880995354676, 0.0002408494241468162, 0.00016050730746464126, -0.0020889771543970426, 0.006813364445486414, -0.0014389641942536002, -0.0040883619741540755, -0.016277599484924465, -0.0015524944646605476, 0.0005722460767456639, 0.00040857130918148243, 0.0005716770787334013, -0.0005716770787334013, 0.0010614166936191438, 0.008532087778457154, -0.003079394716213102, -0.00016231331138616412, 0.0014600991915010297, -0.0021909774570136875, -0.004967639271723279, -0.0009801111583414013, 0.003914816173782754, 0.0005696383043662934, -0.0004882171164117821, 0.0012201652644074912, 0.001786883155218355, -0.003332683393499458, 0.003008026307713685, 0.0015411042574013933, -0.016672509917438738, -0.0018972577590137263, -0.002562921454764222, -0.004480228093095562, -0.00174773458520594, 0.0024126888961992776, -0.003746389174466458, -0.0052686469135405645, -0.005718145319569601, -0.0030405512904438936, 0.0036306958830438774, -0.010080158157235175, 0.010080158157235175, 0.0033655983942955103, -0.0015972597805937738, 0.0024368819785411944, -0.0018481355911612596, -0.010905979553870182, 0.004156582379393647, -0.004411613199054365, -0.0005102738584898958, -0.010862733416389325, 0.0002579560647770762, -0.00430812322890084, 0.006455244801784055, -0.0048159536220397925, 0.00034477676455679784, 0.005500177128599404, -0.007829706695332561, 0.000518177906750239, -0.0015552102399318812, 0.0029355572799127927, -0.007355192688335066, -0.005399316528968079, 0.003486762674061339, -0.00514719566057753, 0.002271484484196229, 0.002788742548096579, -0.0014805663363803845, -0.00043582792826946104, -0.015199088922502213, 0.0009733310549133734, -0.016766628244766935, -0.000809789058602739, 0.009228207074344574, 0.0049818179939329355, 0.002924063945660471, 0.0022095550695109267, -0.009491356376605253, 0.01731804185649466, 0.0037594973241734664, -0.00797302174245118, 0.004563787163362143, -0.004915722765938213, -0.001144591799428163, -0.00512279865126164, 0.0034475172267365295, 0.0019395315877330788, -0.0027340317293553795]\n"
          ],
          "name": "stdout"
        }
      ]
    },
    {
      "cell_type": "code",
      "metadata": {
        "id": "EknYQC6EzF4E",
        "colab_type": "code",
        "outputId": "0e10daad-83a2-4d31-94e7-b8bb17f90e5c",
        "colab": {
          "base_uri": "https://localhost:8080/",
          "height": 52
        }
      },
      "source": [
        "mean=np.mean(log_return)\n",
        "print(mean)\n",
        "std=np.std(log_return)\n",
        "print(std)\n"
      ],
      "execution_count": 104,
      "outputs": [
        {
          "output_type": "stream",
          "text": [
            "-0.00048754858343881573\n",
            "0.006084190551592926\n"
          ],
          "name": "stdout"
        }
      ]
    },
    {
      "cell_type": "code",
      "metadata": {
        "id": "SrVb7Wm2ZvcN",
        "colab_type": "code",
        "colab": {
          "base_uri": "https://localhost:8080/",
          "height": 269
        },
        "outputId": "7eff6c8e-7e40-4f34-9f16-993c065a31f0"
      },
      "source": [
        "import seaborn as sns\n",
        "plt.rcParams['font.sans-serif']=['SimHei']\n",
        "plt.rcParams['axes.unicode_minus']=False\n",
        "sns.distplot(log_return)\n",
        "plt.show()"
      ],
      "execution_count": 105,
      "outputs": [
        {
          "output_type": "display_data",
          "data": {
            "image/png": "[encoded data removed]",
            "text/plain": [
              "<Figure size 432x288 with 1 Axes>"
            ]
          },
          "metadata": {
            "tags": []
          }
        }
      ]
    },
    {
      "cell_type": "code",
      "metadata": {
        "id": "gfgQBUIeWo-2",
        "colab_type": "code",
        "outputId": "2eb615a6-8b1d-4869-fe89-ccc7cc6cd946",
        "colab": {
          "base_uri": "https://localhost:8080/",
          "height": 286
        }
      },
      "source": [
        "\n",
        "x = np.arange(-0.05, 0.05, 0.005)\n",
        "\n",
        "y = stats.norm.cdf(x, -0.00048754858343881573, 0.006084190551592926)\n",
        "\n",
        "plt.plot(x, y)"
      ],
      "execution_count": 106,
      "outputs": [
        {
          "output_type": "execute_result",
          "data": {
            "text/plain": [
              "[<matplotlib.lines.Line2D at 0x7f4c63920438>]"
            ]
          },
          "metadata": {
            "tags": []
          },
          "execution_count": 106
        },
        {
          "output_type": "display_data",
          "data": {
            "image/png": "[encoded data removed]",
            "text/plain": [
              "<Figure size 432x288 with 1 Axes>"
            ]
          },
          "metadata": {
            "tags": []
          }
        }
      ]
    },
    {
      "cell_type": "code",
      "metadata": {
        "id": "Eq7kYCcta8k1",
        "colab_type": "code",
        "outputId": "27e31fee-4909-494b-9a85-442a4a7e5f52",
        "colab": {
          "base_uri": "https://localhost:8080/",
          "height": 286
        }
      },
      "source": [
        "sorted_ = np.sort(log_return)\n",
        "yvals = np.arange(len(sorted_))/float(len(sorted_))\n",
        "plt.plot(sorted_, yvals)"
      ],
      "execution_count": 107,
      "outputs": [
        {
          "output_type": "execute_result",
          "data": {
            "text/plain": [
              "[<matplotlib.lines.Line2D at 0x7f4c638f1e10>]"
            ]
          },
          "metadata": {
            "tags": []
          },
          "execution_count": 107
        },
        {
          "output_type": "display_data",
          "data": {
            "image/png": "[encoded data removed]",
            "text/plain": [
              "<Figure size 432x288 with 1 Axes>"
            ]
          },
          "metadata": {
            "tags": []
          }
        }
      ]
    },
    {
      "cell_type": "code",
      "metadata": {
        "id": "Lu083opfcY9d",
        "colab_type": "code",
        "outputId": "33808bfc-ca0b-493f-8c9b-831cecf2f12f",
        "colab": {
          "base_uri": "https://localhost:8080/",
          "height": 286
        }
      },
      "source": [
        "x_label = stats.norm.ppf(yvals)\n",
        "plt.scatter(x_label, sorted_)"
      ],
      "execution_count": 108,
      "outputs": [
        {
          "output_type": "execute_result",
          "data": {
            "text/plain": [
              "<matplotlib.collections.PathCollection at 0x7f4c638cafd0>"
            ]
          },
          "metadata": {
            "tags": []
          },
          "execution_count": 108
        },
        {
          "output_type": "display_data",
          "data": {
            "image/png": "[encoded data removed]",
            "text/plain": [
              "<Figure size 432x288 with 1 Axes>"
            ]
          },
          "metadata": {
            "tags": []
          }
        }
      ]
    },
    {
      "cell_type": "code",
      "metadata": {
        "id": "1vtNZN4Hduoa",
        "colab_type": "code",
        "outputId": "8728989f-a36e-4f77-ef9a-a722edb78489",
        "colab": {
          "base_uri": "https://localhost:8080/",
          "height": 312
        }
      },
      "source": [
        "stats.probplot(log_return, dist=\"norm\", plot=plt)\n",
        "print('QQ plot for normal distribution ')\n",
        "plt.show()"
      ],
      "execution_count": 109,
      "outputs": [
        {
          "output_type": "stream",
          "text": [
            "QQ plot for normal distribution \n"
          ],
          "name": "stdout"
        },
        {
          "output_type": "display_data",
          "data": {
            "image/png": "[encoded data removed]",
            "text/plain": [
              "<Figure size 432x288 with 1 Axes>"
            ]
          },
          "metadata": {
            "tags": []
          }
        }
      ]
    },
    {
      "cell_type": "code",
      "metadata": {
        "id": "hFfCx38kd1rb",
        "colab_type": "code",
        "outputId": "598a224d-6be0-4120-a880-9308f3da4301",
        "colab": {
          "base_uri": "https://localhost:8080/",
          "height": 286
        }
      },
      "source": [
        "x = np.arange(-0.05, 0.125, 0.005)\n",
        "\n",
        "y = stats.logistic.cdf(x, 0.0030732843, 0.0081693432)\n",
        "\n",
        "plt.plot(x, y)"
      ],
      "execution_count": 110,
      "outputs": [
        {
          "output_type": "execute_result",
          "data": {
            "text/plain": [
              "[<matplotlib.lines.Line2D at 0x7f4c63801940>]"
            ]
          },
          "metadata": {
            "tags": []
          },
          "execution_count": 110
        },
        {
          "output_type": "display_data",
          "data": {
            "image/png": "[encoded data removed]",
            "text/plain": [
              "<Figure size 432x288 with 1 Axes>"
            ]
          },
          "metadata": {
            "tags": []
          }
        }
      ]
    },
    {
      "cell_type": "markdown",
      "metadata": {
        "id": "PEUK3wrkzaGp",
        "colab_type": "text"
      },
      "source": [
        "Problem4"
      ]
    },
    {
      "cell_type": "code",
      "metadata": {
        "id": "bdKOdwCt9jSv",
        "colab_type": "code",
        "colab": {
          "base_uri": "https://localhost:8080/",
          "height": 286
        },
        "outputId": "8692adf1-ba83-465a-827b-965cb50abf34"
      },
      "source": [
        "x = np.arange(-0.05, 0.125, 0.005)\n",
        "\n",
        "y = stats.logistic.cdf(x, 0.0003914261, 0.0035969053)\n",
        "\n",
        "plt.plot(x, y)"
      ],
      "execution_count": 111,
      "outputs": [
        {
          "output_type": "execute_result",
          "data": {
            "text/plain": [
              "[<matplotlib.lines.Line2D at 0x7f4c63764198>]"
            ]
          },
          "metadata": {
            "tags": []
          },
          "execution_count": 111
        },
        {
          "output_type": "display_data",
          "data": {
            "image/png": "[encoded data removed]",
            "text/plain": [
              "<Figure size 432x288 with 1 Axes>"
            ]
          },
          "metadata": {
            "tags": []
          }
        }
      ]
    },
    {
      "cell_type": "code",
      "metadata": {
        "id": "jedShZw_hceF",
        "colab_type": "code",
        "outputId": "2cabb0fd-1824-4424-d67c-73e7545a0a43",
        "colab": {
          "base_uri": "https://localhost:8080/",
          "height": 286
        }
      },
      "source": [
        "sorted_ = np.sort(log_return)\n",
        "yvals = np.arange(len(sorted_))/float(len(sorted_))\n",
        "plt.plot(sorted_, yvals)"
      ],
      "execution_count": 112,
      "outputs": [
        {
          "output_type": "execute_result",
          "data": {
            "text/plain": [
              "[<matplotlib.lines.Line2D at 0x7f4c6373ca90>]"
            ]
          },
          "metadata": {
            "tags": []
          },
          "execution_count": 112
        },
        {
          "output_type": "display_data",
          "data": {
            "image/png": "[encoded data removed]",
            "text/plain": [
              "<Figure size 432x288 with 1 Axes>"
            ]
          },
          "metadata": {
            "tags": []
          }
        }
      ]
    },
    {
      "cell_type": "code",
      "metadata": {
        "id": "OPKOpZNDgmEg",
        "colab_type": "code",
        "outputId": "f50d639c-6672-4f39-958f-e4e9ed227b7d",
        "colab": {
          "base_uri": "https://localhost:8080/",
          "height": 286
        }
      },
      "source": [
        "x_label = stats.logistic.ppf(yvals)\n",
        "plt.scatter(x_label, sorted_)"
      ],
      "execution_count": 113,
      "outputs": [
        {
          "output_type": "execute_result",
          "data": {
            "text/plain": [
              "<matplotlib.collections.PathCollection at 0x7f4c63695c18>"
            ]
          },
          "metadata": {
            "tags": []
          },
          "execution_count": 113
        },
        {
          "output_type": "display_data",
          "data": {
            "image/png": "[encoded data removed]",
            "text/plain": [
              "<Figure size 432x288 with 1 Axes>"
            ]
          },
          "metadata": {
            "tags": []
          }
        }
      ]
    },
    {
      "cell_type": "code",
      "metadata": {
        "id": "XZbr5VxPllBY",
        "colab_type": "code",
        "outputId": "0f618490-10f0-4d0b-8b59-049f9f79f0f4",
        "colab": {
          "base_uri": "https://localhost:8080/",
          "height": 312
        }
      },
      "source": [
        "stats.probplot(log_return, dist=\"logistic\", plot=plt)\n",
        "print('QQ plot for logistic distribution')\n",
        "plt.show()"
      ],
      "execution_count": 114,
      "outputs": [
        {
          "output_type": "stream",
          "text": [
            "QQ plot for logistic distribution\n"
          ],
          "name": "stdout"
        },
        {
          "output_type": "display_data",
          "data": {
            "image/png": "[encoded data removed]",
            "text/plain": [
              "<Figure size 432x288 with 1 Axes>"
            ]
          },
          "metadata": {
            "tags": []
          }
        }
      ]
    },
    {
      "cell_type": "markdown",
      "metadata": {
        "id": "ZVie50qN3fUM",
        "colab_type": "text"
      },
      "source": [
        "problem 7"
      ]
    },
    {
      "cell_type": "code",
      "metadata": {
        "id": "AAwnh5Z63h3Q",
        "colab_type": "code",
        "colab": {
          "base_uri": "https://localhost:8080/",
          "height": 286
        },
        "outputId": "c0bbe533-250d-4efd-adcb-ed678dcba489"
      },
      "source": [
        "x=np.linspace(1,251,251)\n",
        "y=log_return\n",
        "plt.scatter(x,y)"
      ],
      "execution_count": 115,
      "outputs": [
        {
          "output_type": "execute_result",
          "data": {
            "text/plain": [
              "<matplotlib.collections.PathCollection at 0x7f4c635db860>"
            ]
          },
          "metadata": {
            "tags": []
          },
          "execution_count": 115
        },
        {
          "output_type": "display_data",
          "data": {
            "image/png": "[encoded data removed]",
            "text/plain": [
              "<Figure size 432x288 with 1 Axes>"
            ]
          },
          "metadata": {
            "tags": []
          }
        }
      ]
    },
    {
      "cell_type": "code",
      "metadata": {
        "id": "T8EnIwMA3iAv",
        "colab_type": "code",
        "colab": {
          "base_uri": "https://localhost:8080/",
          "height": 122
        },
        "outputId": "9ce08454-1343-46e9-d95b-1614f9e29a6f"
      },
      "source": [
        "out=log_return-np.mean(log_return)\n",
        "sort_out=np.sort(out)\n",
        "for i in [0,1,2,248,249,250]:\n",
        "  print(sort_out[i])"
      ],
      "execution_count": 116,
      "outputs": [
        {
          "output_type": "stream",
          "text": [
            "-0.01627907966132812\n",
            "-0.016184961333999923\n",
            "-0.01579005090148565\n",
            "0.017396401888001747\n",
            "0.017793335489006537\n",
            "0.017805590439933475\n"
          ],
          "name": "stdout"
        }
      ]
    },
    {
      "cell_type": "code",
      "metadata": {
        "id": "NjrilPOj3iJf",
        "colab_type": "code",
        "colab": {
          "base_uri": "https://localhost:8080/",
          "height": 70
        },
        "outputId": "463f9fd5-7e27-449a-8ca5-fcdf30f7cd14"
      },
      "source": [
        "x1=0.017805590439933475+np.mean(log_return)\n",
        "y1 = 1-stats.norm.cdf(x1, -0.00048754858343881573, 0.006084190551592926)\n",
        "print(y1)\n",
        "x2=0.017793335489006537+np.mean(log_return)\n",
        "y2 = 1-stats.norm.cdf(x2, -0.00048754858343881573, 0.006084190551592926)\n",
        "print(y2)\n",
        "x3=0.017396401888001747+np.mean(log_return)\n",
        "y3 = 1-stats.norm.cdf(x3, -0.00048754858343881573, 0.006084190551592926)\n",
        "print(y3)"
      ],
      "execution_count": 117,
      "outputs": [
        {
          "output_type": "stream",
          "text": [
            "0.0017138102541003342\n",
            "0.001724940882206094\n",
            "0.0021230218277333845\n"
          ],
          "name": "stdout"
        }
      ]
    },
    {
      "cell_type": "markdown",
      "metadata": {
        "id": "eIUkM_z0zwWe",
        "colab_type": "text"
      },
      "source": [
        "Problem8"
      ]
    },
    {
      "cell_type": "code",
      "metadata": {
        "id": "A-QwsTCJz9Aq",
        "colab_type": "code",
        "colab": {
          "base_uri": "https://localhost:8080/",
          "height": 34
        },
        "outputId": "c28dbcb7-6664-4a22-b6f6-8f2cae370d4f"
      },
      "source": [
        "from scipy.stats import kstest\n",
        "sorted= np.sort(log_return)\n",
        "kstest(sorted, 'norm',(-0.00048754858343881573, 0.006084190551592926))\n",
        "\n",
        "\n",
        "\n",
        "\n"
      ],
      "execution_count": 118,
      "outputs": [
        {
          "output_type": "execute_result",
          "data": {
            "text/plain": [
              "KstestResult(statistic=0.05387487872126073, pvalue=0.4495580842737577)"
            ]
          },
          "metadata": {
            "tags": []
          },
          "execution_count": 118
        }
      ]
    },
    {
      "cell_type": "markdown",
      "metadata": {
        "id": "hBq55bMMklfw",
        "colab_type": "text"
      },
      "source": [
        "If we choose alpha=0.05,since p-value=0.45>0.05, then we accept that the data is normal distribution"
      ]
    },
    {
      "cell_type": "code",
      "metadata": {
        "id": "ERivpbjnAnnr",
        "colab_type": "code",
        "colab": {
          "base_uri": "https://localhost:8080/",
          "height": 34
        },
        "outputId": "f2ab893b-7900-408c-c10e-9fc606d2850c"
      },
      "source": [
        "from scipy.stats import kstest\n",
        "sorted= np.sort(log_return)\n",
        "kstest(sorted, 'logistic',( 0.0003914261, 0.0035969053))"
      ],
      "execution_count": 119,
      "outputs": [
        {
          "output_type": "execute_result",
          "data": {
            "text/plain": [
              "KstestResult(statistic=0.08683189247181256, pvalue=0.042731367097125855)"
            ]
          },
          "metadata": {
            "tags": []
          },
          "execution_count": 119
        }
      ]
    },
    {
      "cell_type": "markdown",
      "metadata": {
        "id": "hc1bFbWmA8H4",
        "colab_type": "text"
      },
      "source": [
        "If we choose alpha=0.05,since p-value=0.04<0.05, then we reject that the data is logistic distribution"
      ]
    },
    {
      "cell_type": "code",
      "metadata": {
        "id": "YTU14a79aqpG",
        "colab_type": "code",
        "colab": {
          "base_uri": "https://localhost:8080/",
          "height": 34
        },
        "outputId": "daf15ce9-9335-4f75-e8a7-ac2cf9be1b4e"
      },
      "source": [
        "'''from scipy.stats import normaltest\n",
        "x = np.random.randn(10, 20)\n",
        "normaltest(x, axis=None)\n",
        "'''"
      ],
      "execution_count": 120,
      "outputs": [
        {
          "output_type": "execute_result",
          "data": {
            "text/plain": [
              "'from scipy.stats import normaltest\\nx = np.random.randn(10, 20)\\nnormaltest(x, axis=None)\\n'"
            ]
          },
          "metadata": {
            "tags": []
          },
          "execution_count": 120
        }
      ]
    },
    {
      "cell_type": "code",
      "metadata": {
        "id": "Hvhv3YmgbKKT",
        "colab_type": "code",
        "colab": {
          "base_uri": "https://localhost:8080/",
          "height": 54
        },
        "outputId": "970d9dfd-c229-4485-d868-c186201358c8"
      },
      "source": [
        "'''mean=np.mean(log_return)\n",
        "print(mean)\n",
        "std=np.std(log_return)\n",
        "print(std)\n",
        "n=252\n",
        "\n",
        "se=std/np.sqrt(n)\n",
        "print(se)\n",
        "norm_mean= ???\n",
        "\n",
        "t=(mean-norm_mean)/se'''"
      ],
      "execution_count": 121,
      "outputs": [
        {
          "output_type": "execute_result",
          "data": {
            "text/plain": [
              "'mean=np.mean(log_return)\\nprint(mean)\\nstd=np.std(log_return)\\nprint(std)\\nn=252\\n\\nse=std/np.sqrt(n)\\nprint(se)\\nnorm_mean= ???\\n\\nt=(mean-norm_mean)/se'"
            ]
          },
          "metadata": {
            "tags": []
          },
          "execution_count": 121
        }
      ]
    },
    {
      "cell_type": "markdown",
      "metadata": {
        "id": "4WsFLCYtPQbJ",
        "colab_type": "text"
      },
      "source": [
        "Problem 9"
      ]
    },
    {
      "cell_type": "code",
      "metadata": {
        "id": "DbEN5UDxPPc6",
        "colab_type": "code",
        "colab": {
          "base_uri": "https://localhost:8080/",
          "height": 1000
        },
        "outputId": "b3061585-1cc2-4531-883b-5edf11333acd"
      },
      "source": [
        "'''======\n",
        "Read data\n",
        "========='''\n",
        "#Read two-column data\n",
        "#columns are date,adjusted closing price\n",
        "Data_B = pd.read_csv('GLD year 2.csv')\n",
        "\n",
        "print('>>>>>> data')\n",
        "print(Data_B)"
      ],
      "execution_count": 122,
      "outputs": [
        {
          "output_type": "stream",
          "text": [
            ">>>>>> data\n",
            "           Date   Adj Close\n",
            "0     2018/9/10  113.150002\n",
            "1     2018/9/11  113.220001\n",
            "2     2018/9/12  114.169998\n",
            "3     2018/9/13  113.760002\n",
            "4     2018/9/14  113.019997\n",
            "5     2018/9/17  113.610001\n",
            "6     2018/9/18  113.440002\n",
            "7     2018/9/19  113.879997\n",
            "8     2018/9/20  114.269997\n",
            "9     2018/9/21  113.489998\n",
            "10    2018/9/24  113.470001\n",
            "11    2018/9/25  113.650002\n",
            "12    2018/9/26  113.050003\n",
            "13    2018/9/27  112.050003\n",
            "14    2018/9/28  112.760002\n",
            "15    2018/10/1  112.570000\n",
            "16    2018/10/2  113.870003\n",
            "17    2018/10/3  113.419998\n",
            "18    2018/10/4  113.480003\n",
            "19    2018/10/5  113.800003\n",
            "20    2018/10/8  112.540001\n",
            "21    2018/10/9  112.599998\n",
            "22   2018/10/10  112.879997\n",
            "23   2018/10/11  115.779999\n",
            "24   2018/10/12  115.230003\n",
            "25   2018/10/15  116.000000\n",
            "26   2018/10/16  115.800003\n",
            "27   2018/10/17  115.790001\n",
            "28   2018/10/18  115.919998\n",
            "29   2018/10/19  116.010002\n",
            "..          ...         ...\n",
            "220   2019/7/26  133.639999\n",
            "221   2019/7/29  134.529999\n",
            "222   2019/7/30  134.979996\n",
            "223   2019/7/31  133.210007\n",
            "224    2019/8/1  136.410004\n",
            "225    2019/8/2  135.889999\n",
            "226    2019/8/5  137.789993\n",
            "227    2019/8/6  138.910004\n",
            "228    2019/8/7  141.020004\n",
            "229    2019/8/8  141.729996\n",
            "230    2019/8/9  141.259995\n",
            "231   2019/8/12  142.630005\n",
            "232   2019/8/13  141.779999\n",
            "233   2019/8/14  142.750000\n",
            "234   2019/8/15  143.699997\n",
            "235   2019/8/16  142.779999\n",
            "236   2019/8/19  141.110001\n",
            "237   2019/8/20  142.210007\n",
            "238   2019/8/21  141.759995\n",
            "239   2019/8/22  141.399994\n",
            "240   2019/8/23  144.169998\n",
            "241   2019/8/26  144.190002\n",
            "242   2019/8/27  145.570007\n",
            "243   2019/8/28  145.160004\n",
            "244   2019/8/29  144.119995\n",
            "245   2019/8/30  143.750000\n",
            "246    2019/9/3  145.750000\n",
            "247    2019/9/4  146.660004\n",
            "248    2019/9/5  143.139999\n",
            "249    2019/9/6  141.919998\n",
            "\n",
            "[250 rows x 2 columns]\n"
          ],
          "name": "stdout"
        }
      ]
    },
    {
      "cell_type": "code",
      "metadata": {
        "id": "HVDVMl3PPdba",
        "colab_type": "code",
        "colab": {
          "base_uri": "https://localhost:8080/",
          "height": 54
        },
        "outputId": "21a1c1d1-c318-4caa-d616-c4837197bfcf"
      },
      "source": [
        "log_return_2=[]\n",
        "price_2 = Data_B['Adj Close']\n",
        "log_price_2=np.log(price_2)\n",
        "for i in range(len(log_price_2)-1):\n",
        "  log_return_2.append(log_price_2[i+1]-log_price_2[i])\n",
        "print(log_return_2)\n"
      ],
      "execution_count": 123,
      "outputs": [
        {
          "output_type": "stream",
          "text": [
            "[0.0006184476856772037, 0.008355710729623489, -0.003597564534696396, -0.006526215978079897, 0.0052067717261330415, -0.0014974589695730955, 0.0038711556520345525, 0.003418806838695332, -0.006849333214662856, -0.00017621607454909594, 0.0015850742806398088, -0.005293342635530607, -0.008884998240212383, 0.006316456962000672, -0.0016864336159851945, 0.011482222801634023, -0.003959748216039394, 0.0005289114247197801, 0.0028159116772421555, -0.011133825163406996, 0.0005329750527387489, 0.0024835830240617085, 0.025366549046125897, -0.004761672952978913, 0.00666003404555493, -0.0017256000607339672, -8.637678512446456e-05, 0.0011220664986426598, 0.0007761307680596019, -0.002589359281257586, 0.0058595601161304245, 0.0023171432510835643, -0.0022312031336966243, 0.0031736099166250753, -0.003947139240572106, -0.004394432109890545, -0.005628947410286855, 0.012770861345244633, 0.00017151063215692375, -0.002403219712920013, -0.0028398280289039235, -8.61981299280501e-05, -0.0021569397272047652, -0.011291668560142298, -0.0071885903919914895, 0.0003518033096110429, 0.008233400425691428, 0.0011333247563847237, 0.007378878048055704, 0.0004323144153444147, 0.0, 0.0016412822828426599, -0.0007771359953965273, -0.0011235298035696673, -0.005984683389732126, 0.0037337777168167108, 0.003115276037878978, -0.0017294798574516435, 0.007501677613327651, 0.006080599206296888, 0.00017071629708809155, 0.008077219615876707, -0.0034779354475373836, -0.0011903666009356328, 0.0021246767681315504, -0.0022097748240810233, -0.004007004858477714, 0.006895740912427506, 0.002372672870303738, -0.006112609183561268, 0.015295840659986126, -0.004370464194725088, 0.010890582723281916, -0.003003949175600873, 0.00757607573928798, 0.004055776813587819, 0.0015682558747851516, 0.0006595927301580318, 0.009025315538073286, -0.008119107969466022, 0.0034525229101287636, -0.0027117153721984977, 0.0063976514930903505, -0.005904092736494171, 0.001725683495453545, 0.0023780650117100066, -0.0017215154149141654, 0.003194760117101403, -0.001309403585967317, -0.00896648962938329, 0.003546834341773497, -0.001400717097978621, -0.001567875915686301, 0.0145114661421335, 0.0034938081162927404, 0.005580974479804546, 0.005710386577049142, 0.0004810615833550358, -0.00200601872686601, -0.004346791052332932, 0.0025781516260705573, -0.006781852221390494, 0.0024273496828115526, 0.0037910995652996604, -0.004923144662860146, 0.0021013747411862127, -0.003963909183078762, 0.005577309023271582, 0.005947176550049171, 0.015109583675324778, -0.0017378470287319203, -0.011370535306349794, 0.0035920772578075244, -0.0010363695147361796, 0.0016736325549633335, -0.007112348563793169, -0.005629771986855658, -0.01716397155828364, -0.002628977907321861, 0.0013153816485349523, -0.0009041220284302653, -0.0008226308358452172, 0.010886082629866678, -0.004896353952983823, 0.006035455862579475, 0.0069686126221411016, -0.011614278777185127, 0.004564332551931116, 0.0005690825683517531, 0.0027594855815955555, 0.006463126470379166, -0.004034541097635014, 0.002342024077410798, 0.007633907488107994, -0.004975493752809257, -0.005243012509709821, -0.014253957247995608, 0.0009019720852254665, -0.003941887325053628, 0.0036959838082175622, -0.0014767415561678376, 0.002541906127929927, -0.0010651645717620895, 0.004335554168771516, 0.005210465175626844, 0.0030808926466185937, -0.012872933391840036, -0.0009844532790488358, -0.0018896936979357903, -0.009004199449264227, -0.0019104038290391756, 0.0007480075084025373, 0.0, -0.0020790892246429493, 0.0029094994894292014, 0.0008297295496362267, 0.006613258706855696, -0.004459140244677862, 0.003057433291340672, -0.006622499396721437, -0.003827915070648835, 0.005902174232548241, 0.001325238328635514, 0.0033055232557250847, -0.0024780699636641756, 0.002395548614125609, 0.0018959161829892324, 0.010159841675028147, -0.001713368856878894, -0.0005717786602312813, -0.007216078843574003, -0.007102771732155233, -8.291267739490848e-05, -0.002323635900268961, -0.00099753125893276, 0.007704772926375725, 0.0010723389443780817, -0.003882225090675817, 0.00033099710002204574, 0.0067612310924936025, 0.013386862010638545, 0.014329652527723447, 0.0003196755363310544, 0.002553660283035164, 0.0032623542223433333, 0.005624437686678974, -0.01000321146936134, -0.0011975730847471056, 0.005179104001782342, 0.00610068841394984, -0.0003160056957254298, -0.0006322715961806225, 0.005047329207827467, 0.0060389657978001665, 0.024866161512484553, 0.006613692509159108, 0.014741587766310182, 0.001939248768923818, -0.009207655793778358, -0.0009781799919750256, 0.0027063691866331396, -0.019559429388233518, 0.021134816977941284, 0.001647701036242566, -0.011212865175708409, -0.0064533954050753906, 0.0034976237925388176, 0.015664165331143565, -0.008479434021838372, 0.0062352454761418485, 0.0, -0.00849856602123289, 0.01633123443553508, 0.014019221813824423, -0.014836921162664218, -0.0001487728706353053, -0.0056686584467326995, 0.005073449721617607, -0.0070951193855179895, 0.0016475777146531811, 0.006637605058399387, 0.003339374617074675, -0.013199706769261965, 0.023738202916414153, -0.0038193582548791127, 0.01388500863035258, 0.008095534001054894, 0.015075482450744637, 0.005022058300471421, -0.0033216823710855437, 0.009651771006017995, -0.005977346217378887, 0.0068182951624295995, 0.006632923672032831, -0.006422795137620341, -0.011765241914193147, 0.007765152451244539, -0.003169436021694061, -0.0025427405562323813, 0.01940043392164359, 0.00013874323784168752, 0.009525230474256574, -0.0028205087627295455, -0.007190358714089129, -0.002570571509120434, 0.013817145553141508, 0.006224184709019198, -0.0242938446153369, -0.008559660855461004]\n"
          ],
          "name": "stdout"
        }
      ]
    },
    {
      "cell_type": "code",
      "metadata": {
        "id": "uwAhSctdPeD7",
        "colab_type": "code",
        "colab": {
          "base_uri": "https://localhost:8080/",
          "height": 34
        },
        "outputId": "6eebd52f-7a79-46bf-dd94-9f7f3711656c"
      },
      "source": [
        "\n",
        "sorted_2= np.sort(log_return_2)\n",
        "kstest(sorted_2, 'norm',(-0.00048754858343881573, 0.006084190551592926))\n"
      ],
      "execution_count": 124,
      "outputs": [
        {
          "output_type": "execute_result",
          "data": {
            "text/plain": [
              "KstestResult(statistic=0.09068638923760397, pvalue=0.031215282168858594)"
            ]
          },
          "metadata": {
            "tags": []
          },
          "execution_count": 124
        }
      ]
    },
    {
      "cell_type": "markdown",
      "metadata": {
        "id": "gQZkbTgyVooU",
        "colab_type": "text"
      },
      "source": [
        "If we choose alpha=0.05,since p-value=0.0312<0.05, then we  reject that the data is normal distribution"
      ]
    },
    {
      "cell_type": "code",
      "metadata": {
        "id": "t8CVMw_sP6Z2",
        "colab_type": "code",
        "colab": {
          "base_uri": "https://localhost:8080/",
          "height": 34
        },
        "outputId": "4bf8b44e-7d99-48ad-d692-29c35cd137d1"
      },
      "source": [
        "kstest(sorted_2, 'logistic',( 0.0003914261, 0.0035969053))"
      ],
      "execution_count": 125,
      "outputs": [
        {
          "output_type": "execute_result",
          "data": {
            "text/plain": [
              "KstestResult(statistic=0.049691280773178526, pvalue=0.5659555965682427)"
            ]
          },
          "metadata": {
            "tags": []
          },
          "execution_count": 125
        }
      ]
    },
    {
      "cell_type": "markdown",
      "metadata": {
        "id": "vPhN9ptZWRaa",
        "colab_type": "text"
      },
      "source": [
        "If we choose alpha=0.05,since p-value=0.566>0.05, then we cannot reject that the data is logistic distribution"
      ]
    },
    {
      "cell_type": "code",
      "metadata": {
        "id": "TP17Pi8NpfMz",
        "colab_type": "code",
        "colab": {
          "base_uri": "https://localhost:8080/",
          "height": 122
        },
        "outputId": "c539c69e-9b09-47fe-e6cf-b384f0c06779"
      },
      "source": [
        "out_2=log_return_2-np.mean(log_return_2)\n",
        "sort_out_2=np.sort(out_2)\n",
        "for i in [0,1,2,246,247,248]:\n",
        "  print(sort_out_2[i])"
      ],
      "execution_count": 126,
      "outputs": [
        {
          "output_type": "stream",
          "text": [
            "-0.025203680417399652\n",
            "-0.02046926519029627\n",
            "-0.018073807360346392\n",
            "0.022828367114351402\n",
            "0.023956325710421802\n",
            "0.024456713244063146\n"
          ],
          "name": "stdout"
        }
      ]
    },
    {
      "cell_type": "code",
      "metadata": {
        "id": "xvaYpB9KpfVJ",
        "colab_type": "code",
        "colab": {
          "base_uri": "https://localhost:8080/",
          "height": 70
        },
        "outputId": "9e2055e1-83a9-4211-90a7-ee235417ba3a"
      },
      "source": [
        "x1=np.mean(log_return_2)-0.025203680417399652\n",
        "y1 = stats.logistic.cdf(x1, 0.0003914261, 0.0035969053)\n",
        "print(y1)\n",
        "x2=np.mean(log_return_2)+0.024456713244063146\n",
        "y2 = 1-stats.logistic.cdf(x2, 0.0003914261, 0.0035969053)\n",
        "print(y2)\n",
        "x3=np.mean(log_return_2)+0.023956325710421802\n",
        "y3 = 1-stats.logistic.cdf(x3, 0.0003914261, 0.0035969053)\n",
        "print(y3)"
      ],
      "execution_count": 128,
      "outputs": [
        {
          "output_type": "stream",
          "text": [
            "0.001044763656417931\n",
            "0.0009639535247257802\n",
            "0.001107671499048113\n"
          ],
          "name": "stdout"
        }
      ]
    }
  ]
}